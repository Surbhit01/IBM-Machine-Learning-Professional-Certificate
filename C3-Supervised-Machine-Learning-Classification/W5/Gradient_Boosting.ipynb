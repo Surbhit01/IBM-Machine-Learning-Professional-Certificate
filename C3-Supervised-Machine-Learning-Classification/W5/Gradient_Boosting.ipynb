{
 "cells": [
  {
   "cell_type": "markdown",
   "metadata": {},
   "source": [
    "<center>\n",
    "    <img src=\"https://cf-courses-data.s3.us.cloud-object-storage.appdomain.cloud/IBMDeveloperSkillsNetwork-ML0101EN-SkillsNetwork/labs/Module%203/images/IDSNlogo.png\" width=\"300\" alt=\"cognitiveclass.ai logo\">\n",
    "</center>\n",
    "\n",
    "# Gradient Boosting  for classification with Python\n",
    "\n",
    "Estimated time needed: **1.45** hours\n"
   ]
  },
  {
   "cell_type": "markdown",
   "metadata": {},
   "source": [
    "In this notebook, you will learn Gradient Boosting for classification; AdaBoost is a particular case of Gradient Boosting and an additive model where we add weak learners to minimize the loss function. This lab will focus on <a href=\"https://xgboost.readthedocs.io/en/stable/?utm_medium=Exinfluencer&utm_source=Exinfluencer&utm_content=000026UJ&utm_term=10006555&utm_id=NA-SkillsNetwork-Channel-SkillsNetworkCoursesIBMML241ENSkillsNetwork31576874-2022-01-01\">XGBoost</a>, an open-source software library that provides a regularizing gradient boosting framework.  XGBoost can use different types of weak learners called boosters for classification and regression. We will focus on trees for classification.\n"
   ]
  },
  {
   "cell_type": "markdown",
   "metadata": {},
   "source": [
    "Unlike Bagging and Random Forest, Gradient Boosting can cause overfitting. As a result, Gradient Boosting requires Hyperparameter tuning, taking more time to train. One advantage of Gradient Boosting is that each classifier is smaller, so predictions are faster in Gradient Boosting.\n",
    "AdaBoost is a subclass of Gradient Boosting; one weakness of AdaBoost is that misclassified samples cause overfitting; Gradient Boosting uses different loss functions, reducing this effect.\n",
    "The following table show's the Average accuracy and standard deviation for the Random Forest (RF), gradient boosting (GB) and XGBoost, both using the default (D) and (T) tuned parameter settings, we see that XGBoost does best, followed by GB outperforming the other methods.\n"
   ]
  },
  {
   "cell_type": "markdown",
   "metadata": {},
   "source": [
    "<html xmlns:v=\"urn:schemas-microsoft-com:vml\"\n",
    "xmlns:o=\"urn:schemas-microsoft-com:office:office\"\n",
    "xmlns:w=\"urn:schemas-microsoft-com:office:word\"\n",
    "xmlns:x=\"urn:schemas-microsoft-com:office:excel\"\n",
    "xmlns:m=\"http://schemas.microsoft.com/office/2004/12/omml\"\n",
    "xmlns=\"http://www.w3.org/TR/REC-html40\">\n",
    "\n",
    "<head>\n",
    "<meta http-equiv=Content-Type content=\"text/html; charset=utf-8\">\n",
    "<meta name=ProgId content=Word.Document>\n",
    "<meta name=Generator content=\"Microsoft Word 15\">\n",
    "<meta name=Originator content=\"Microsoft Word 15\">\n",
    "<link rel=File-List href=\"Dataset.fld/filelist.xml\">\n",
    "<!--[if gte mso 9]><xml>\n",
    " <o:DocumentProperties>\n",
    "  <o:Author>Joseph Santarcangelo</o:Author>\n",
    "  <o:LastAuthor>Joseph Santarcangelo</o:LastAuthor>\n",
    "  <o:Revision>1</o:Revision>\n",
    "  <o:TotalTime>5</o:TotalTime>\n",
    "  <o:Created>2022-03-13T04:19:00Z</o:Created>\n",
    "  <o:LastSaved>2022-03-13T22:02:00Z</o:LastSaved>\n",
    "  <o:Pages>1</o:Pages>\n",
    "  <o:Words>347</o:Words>\n",
    "  <o:Characters>1984</o:Characters>\n",
    "  <o:Lines>16</o:Lines>\n",
    "  <o:Paragraphs>4</o:Paragraphs>\n",
    "  <o:CharactersWithSpaces>2327</o:CharactersWithSpaces>\n",
    "  <o:Version>16.00</o:Version>\n",
    " </o:DocumentProperties>\n",
    " <o:OfficeDocumentSettings>\n",
    "  <o:AllowPNG/>\n",
    " </o:OfficeDocumentSettings>\n",
    "</xml><![endif]-->\n",
    "<link rel=themeData href=\"Dataset.fld/themedata.thmx\">\n",
    "<link rel=colorSchemeMapping href=\"Dataset.fld/colorschememapping.xml\">\n",
    "<!--[if gte mso 9]><xml>\n",
    " <w:WordDocument>\n",
    "  <w:SpellingState>Clean</w:SpellingState>\n",
    "  <w:GrammarState>Clean</w:GrammarState>\n",
    "  <w:TrackMoves>false</w:TrackMoves>\n",
    "  <w:TrackFormatting/>\n",
    "  <w:PunctuationKerning/>\n",
    "  <w:ValidateAgainstSchemas/>\n",
    "  <w:SaveIfXMLInvalid>false</w:SaveIfXMLInvalid>\n",
    "  <w:IgnoreMixedContent>false</w:IgnoreMixedContent>\n",
    "  <w:AlwaysShowPlaceholderText>false</w:AlwaysShowPlaceholderText>\n",
    "  <w:DoNotPromoteQF/>\n",
    "  <w:LidThemeOther>EN-CA</w:LidThemeOther>\n",
    "  <w:LidThemeAsian>X-NONE</w:LidThemeAsian>\n",
    "  <w:LidThemeComplexScript>X-NONE</w:LidThemeComplexScript>\n",
    "  <w:Compatibility>\n",
    "   <w:BreakWrappedTables/>\n",
    "   <w:SnapToGridInCell/>\n",
    "   <w:WrapTextWithPunct/>\n",
    "   <w:UseAsianBreakRules/>\n",
    "   <w:DontGrowAutofit/>\n",
    "   <w:SplitPgBreakAndParaMark/>\n",
    "   <w:EnableOpenTypeKerning/>\n",
    "   <w:DontFlipMirrorIndents/>\n",
    "   <w:OverrideTableStyleHps/>\n",
    "  </w:Compatibility>\n",
    "  <m:mathPr>\n",
    "   <m:mathFont m:val=\"Cambria Math\"/>\n",
    "   <m:brkBin m:val=\"before\"/>\n",
    "   <m:brkBinSub m:val=\"&#45;-\"/>\n",
    "   <m:smallFrac m:val=\"off\"/>\n",
    "   <m:dispDef/>\n",
    "   <m:lMargin m:val=\"0\"/>\n",
    "   <m:rMargin m:val=\"0\"/>\n",
    "   <m:defJc m:val=\"centerGroup\"/>\n",
    "   <m:wrapIndent m:val=\"1440\"/>\n",
    "   <m:intLim m:val=\"subSup\"/>\n",
    "   <m:naryLim m:val=\"undOvr\"/>\n",
    "  </m:mathPr></w:WordDocument>\n",
    "</xml><![endif]--><!--[if gte mso 9]><xml>\n",
    " <w:LatentStyles DefLockedState=\"false\" DefUnhideWhenUsed=\"false\"\n",
    "  DefSemiHidden=\"false\" DefQFormat=\"false\" DefPriority=\"99\"\n",
    "  LatentStyleCount=\"376\">\n",
    "  <w:LsdException Locked=\"false\" Priority=\"0\" QFormat=\"true\" Name=\"Normal\"/>\n",
    "  <w:LsdException Locked=\"false\" Priority=\"9\" QFormat=\"true\" Name=\"heading 1\"/>\n",
    "  <w:LsdException Locked=\"false\" Priority=\"9\" SemiHidden=\"true\"\n",
    "   UnhideWhenUsed=\"true\" QFormat=\"true\" Name=\"heading 2\"/>\n",
    "  <w:LsdException Locked=\"false\" Priority=\"9\" SemiHidden=\"true\"\n",
    "   UnhideWhenUsed=\"true\" QFormat=\"true\" Name=\"heading 3\"/>\n",
    "  <w:LsdException Locked=\"false\" Priority=\"9\" SemiHidden=\"true\"\n",
    "   UnhideWhenUsed=\"true\" QFormat=\"true\" Name=\"heading 4\"/>\n",
    "  <w:LsdException Locked=\"false\" Priority=\"9\" SemiHidden=\"true\"\n",
    "   UnhideWhenUsed=\"true\" QFormat=\"true\" Name=\"heading 5\"/>\n",
    "  <w:LsdException Locked=\"false\" Priority=\"9\" SemiHidden=\"true\"\n",
    "   UnhideWhenUsed=\"true\" QFormat=\"true\" Name=\"heading 6\"/>\n",
    "  <w:LsdException Locked=\"false\" Priority=\"9\" SemiHidden=\"true\"\n",
    "   UnhideWhenUsed=\"true\" QFormat=\"true\" Name=\"heading 7\"/>\n",
    "  <w:LsdException Locked=\"false\" Priority=\"9\" SemiHidden=\"true\"\n",
    "   UnhideWhenUsed=\"true\" QFormat=\"true\" Name=\"heading 8\"/>\n",
    "  <w:LsdException Locked=\"false\" Priority=\"9\" SemiHidden=\"true\"\n",
    "   UnhideWhenUsed=\"true\" QFormat=\"true\" Name=\"heading 9\"/>\n",
    "  <w:LsdException Locked=\"false\" SemiHidden=\"true\" UnhideWhenUsed=\"true\"\n",
    "   Name=\"index 1\"/>\n",
    "  <w:LsdException Locked=\"false\" SemiHidden=\"true\" UnhideWhenUsed=\"true\"\n",
    "   Name=\"index 2\"/>\n",
    "  <w:LsdException Locked=\"false\" SemiHidden=\"true\" UnhideWhenUsed=\"true\"\n",
    "   Name=\"index 3\"/>\n",
    "  <w:LsdException Locked=\"false\" SemiHidden=\"true\" UnhideWhenUsed=\"true\"\n",
    "   Name=\"index 4\"/>\n",
    "  <w:LsdException Locked=\"false\" SemiHidden=\"true\" UnhideWhenUsed=\"true\"\n",
    "   Name=\"index 5\"/>\n",
    "  <w:LsdException Locked=\"false\" SemiHidden=\"true\" UnhideWhenUsed=\"true\"\n",
    "   Name=\"index 6\"/>\n",
    "  <w:LsdException Locked=\"false\" SemiHidden=\"true\" UnhideWhenUsed=\"true\"\n",
    "   Name=\"index 7\"/>\n",
    "  <w:LsdException Locked=\"false\" SemiHidden=\"true\" UnhideWhenUsed=\"true\"\n",
    "   Name=\"index 8\"/>\n",
    "  <w:LsdException Locked=\"false\" SemiHidden=\"true\" UnhideWhenUsed=\"true\"\n",
    "   Name=\"index 9\"/>\n",
    "  <w:LsdException Locked=\"false\" Priority=\"39\" SemiHidden=\"true\"\n",
    "   UnhideWhenUsed=\"true\" Name=\"toc 1\"/>\n",
    "  <w:LsdException Locked=\"false\" Priority=\"39\" SemiHidden=\"true\"\n",
    "   UnhideWhenUsed=\"true\" Name=\"toc 2\"/>\n",
    "  <w:LsdException Locked=\"false\" Priority=\"39\" SemiHidden=\"true\"\n",
    "   UnhideWhenUsed=\"true\" Name=\"toc 3\"/>\n",
    "  <w:LsdException Locked=\"false\" Priority=\"39\" SemiHidden=\"true\"\n",
    "   UnhideWhenUsed=\"true\" Name=\"toc 4\"/>\n",
    "  <w:LsdException Locked=\"false\" Priority=\"39\" SemiHidden=\"true\"\n",
    "   UnhideWhenUsed=\"true\" Name=\"toc 5\"/>\n",
    "  <w:LsdException Locked=\"false\" Priority=\"39\" SemiHidden=\"true\"\n",
    "   UnhideWhenUsed=\"true\" Name=\"toc 6\"/>\n",
    "  <w:LsdException Locked=\"false\" Priority=\"39\" SemiHidden=\"true\"\n",
    "   UnhideWhenUsed=\"true\" Name=\"toc 7\"/>\n",
    "  <w:LsdException Locked=\"false\" Priority=\"39\" SemiHidden=\"true\"\n",
    "   UnhideWhenUsed=\"true\" Name=\"toc 8\"/>\n",
    "  <w:LsdException Locked=\"false\" Priority=\"39\" SemiHidden=\"true\"\n",
    "   UnhideWhenUsed=\"true\" Name=\"toc 9\"/>\n",
    "  <w:LsdException Locked=\"false\" SemiHidden=\"true\" UnhideWhenUsed=\"true\"\n",
    "   Name=\"Normal Indent\"/>\n",
    "  <w:LsdException Locked=\"false\" SemiHidden=\"true\" UnhideWhenUsed=\"true\"\n",
    "   Name=\"footnote text\"/>\n",
    "  <w:LsdException Locked=\"false\" SemiHidden=\"true\" UnhideWhenUsed=\"true\"\n",
    "   Name=\"annotation text\"/>\n",
    "  <w:LsdException Locked=\"false\" SemiHidden=\"true\" UnhideWhenUsed=\"true\"\n",
    "   Name=\"header\"/>\n",
    "  <w:LsdException Locked=\"false\" SemiHidden=\"true\" UnhideWhenUsed=\"true\"\n",
    "   Name=\"footer\"/>\n",
    "  <w:LsdException Locked=\"false\" SemiHidden=\"true\" UnhideWhenUsed=\"true\"\n",
    "   Name=\"index heading\"/>\n",
    "  <w:LsdException Locked=\"false\" Priority=\"35\" SemiHidden=\"true\"\n",
    "   UnhideWhenUsed=\"true\" QFormat=\"true\" Name=\"caption\"/>\n",
    "  <w:LsdException Locked=\"false\" SemiHidden=\"true\" UnhideWhenUsed=\"true\"\n",
    "   Name=\"table of figures\"/>\n",
    "  <w:LsdException Locked=\"false\" SemiHidden=\"true\" UnhideWhenUsed=\"true\"\n",
    "   Name=\"envelope address\"/>\n",
    "  <w:LsdException Locked=\"false\" SemiHidden=\"true\" UnhideWhenUsed=\"true\"\n",
    "   Name=\"envelope return\"/>\n",
    "  <w:LsdException Locked=\"false\" SemiHidden=\"true\" UnhideWhenUsed=\"true\"\n",
    "   Name=\"footnote reference\"/>\n",
    "  <w:LsdException Locked=\"false\" SemiHidden=\"true\" UnhideWhenUsed=\"true\"\n",
    "   Name=\"annotation reference\"/>\n",
    "  <w:LsdException Locked=\"false\" SemiHidden=\"true\" UnhideWhenUsed=\"true\"\n",
    "   Name=\"line number\"/>\n",
    "  <w:LsdException Locked=\"false\" SemiHidden=\"true\" UnhideWhenUsed=\"true\"\n",
    "   Name=\"page number\"/>\n",
    "  <w:LsdException Locked=\"false\" SemiHidden=\"true\" UnhideWhenUsed=\"true\"\n",
    "   Name=\"endnote reference\"/>\n",
    "  <w:LsdException Locked=\"false\" SemiHidden=\"true\" UnhideWhenUsed=\"true\"\n",
    "   Name=\"endnote text\"/>\n",
    "  <w:LsdException Locked=\"false\" SemiHidden=\"true\" UnhideWhenUsed=\"true\"\n",
    "   Name=\"table of authorities\"/>\n",
    "  <w:LsdException Locked=\"false\" SemiHidden=\"true\" UnhideWhenUsed=\"true\"\n",
    "   Name=\"macro\"/>\n",
    "  <w:LsdException Locked=\"false\" SemiHidden=\"true\" UnhideWhenUsed=\"true\"\n",
    "   Name=\"toa heading\"/>\n",
    "  <w:LsdException Locked=\"false\" SemiHidden=\"true\" UnhideWhenUsed=\"true\"\n",
    "   Name=\"List\"/>\n",
    "  <w:LsdException Locked=\"false\" SemiHidden=\"true\" UnhideWhenUsed=\"true\"\n",
    "   Name=\"List Bullet\"/>\n",
    "  <w:LsdException Locked=\"false\" SemiHidden=\"true\" UnhideWhenUsed=\"true\"\n",
    "   Name=\"List Number\"/>\n",
    "  <w:LsdException Locked=\"false\" SemiHidden=\"true\" UnhideWhenUsed=\"true\"\n",
    "   Name=\"List 2\"/>\n",
    "  <w:LsdException Locked=\"false\" SemiHidden=\"true\" UnhideWhenUsed=\"true\"\n",
    "   Name=\"List 3\"/>\n",
    "  <w:LsdException Locked=\"false\" SemiHidden=\"true\" UnhideWhenUsed=\"true\"\n",
    "   Name=\"List 4\"/>\n",
    "  <w:LsdException Locked=\"false\" SemiHidden=\"true\" UnhideWhenUsed=\"true\"\n",
    "   Name=\"List 5\"/>\n",
    "  <w:LsdException Locked=\"false\" SemiHidden=\"true\" UnhideWhenUsed=\"true\"\n",
    "   Name=\"List Bullet 2\"/>\n",
    "  <w:LsdException Locked=\"false\" SemiHidden=\"true\" UnhideWhenUsed=\"true\"\n",
    "   Name=\"List Bullet 3\"/>\n",
    "  <w:LsdException Locked=\"false\" SemiHidden=\"true\" UnhideWhenUsed=\"true\"\n",
    "   Name=\"List Bullet 4\"/>\n",
    "  <w:LsdException Locked=\"false\" SemiHidden=\"true\" UnhideWhenUsed=\"true\"\n",
    "   Name=\"List Bullet 5\"/>\n",
    "  <w:LsdException Locked=\"false\" SemiHidden=\"true\" UnhideWhenUsed=\"true\"\n",
    "   Name=\"List Number 2\"/>\n",
    "  <w:LsdException Locked=\"false\" SemiHidden=\"true\" UnhideWhenUsed=\"true\"\n",
    "   Name=\"List Number 3\"/>\n",
    "  <w:LsdException Locked=\"false\" SemiHidden=\"true\" UnhideWhenUsed=\"true\"\n",
    "   Name=\"List Number 4\"/>\n",
    "  <w:LsdException Locked=\"false\" SemiHidden=\"true\" UnhideWhenUsed=\"true\"\n",
    "   Name=\"List Number 5\"/>\n",
    "  <w:LsdException Locked=\"false\" Priority=\"10\" QFormat=\"true\" Name=\"Title\"/>\n",
    "  <w:LsdException Locked=\"false\" SemiHidden=\"true\" UnhideWhenUsed=\"true\"\n",
    "   Name=\"Closing\"/>\n",
    "  <w:LsdException Locked=\"false\" SemiHidden=\"true\" UnhideWhenUsed=\"true\"\n",
    "   Name=\"Signature\"/>\n",
    "  <w:LsdException Locked=\"false\" Priority=\"1\" SemiHidden=\"true\"\n",
    "   UnhideWhenUsed=\"true\" Name=\"Default Paragraph Font\"/>\n",
    "  <w:LsdException Locked=\"false\" SemiHidden=\"true\" UnhideWhenUsed=\"true\"\n",
    "   Name=\"Body Text\"/>\n",
    "  <w:LsdException Locked=\"false\" SemiHidden=\"true\" UnhideWhenUsed=\"true\"\n",
    "   Name=\"Body Text Indent\"/>\n",
    "  <w:LsdException Locked=\"false\" SemiHidden=\"true\" UnhideWhenUsed=\"true\"\n",
    "   Name=\"List Continue\"/>\n",
    "  <w:LsdException Locked=\"false\" SemiHidden=\"true\" UnhideWhenUsed=\"true\"\n",
    "   Name=\"List Continue 2\"/>\n",
    "  <w:LsdException Locked=\"false\" SemiHidden=\"true\" UnhideWhenUsed=\"true\"\n",
    "   Name=\"List Continue 3\"/>\n",
    "  <w:LsdException Locked=\"false\" SemiHidden=\"true\" UnhideWhenUsed=\"true\"\n",
    "   Name=\"List Continue 4\"/>\n",
    "  <w:LsdException Locked=\"false\" SemiHidden=\"true\" UnhideWhenUsed=\"true\"\n",
    "   Name=\"List Continue 5\"/>\n",
    "  <w:LsdException Locked=\"false\" SemiHidden=\"true\" UnhideWhenUsed=\"true\"\n",
    "   Name=\"Message Header\"/>\n",
    "  <w:LsdException Locked=\"false\" Priority=\"11\" QFormat=\"true\" Name=\"Subtitle\"/>\n",
    "  <w:LsdException Locked=\"false\" SemiHidden=\"true\" UnhideWhenUsed=\"true\"\n",
    "   Name=\"Salutation\"/>\n",
    "  <w:LsdException Locked=\"false\" SemiHidden=\"true\" UnhideWhenUsed=\"true\"\n",
    "   Name=\"Date\"/>\n",
    "  <w:LsdException Locked=\"false\" SemiHidden=\"true\" UnhideWhenUsed=\"true\"\n",
    "   Name=\"Body Text First Indent\"/>\n",
    "  <w:LsdException Locked=\"false\" SemiHidden=\"true\" UnhideWhenUsed=\"true\"\n",
    "   Name=\"Body Text First Indent 2\"/>\n",
    "  <w:LsdException Locked=\"false\" SemiHidden=\"true\" UnhideWhenUsed=\"true\"\n",
    "   Name=\"Note Heading\"/>\n",
    "  <w:LsdException Locked=\"false\" SemiHidden=\"true\" UnhideWhenUsed=\"true\"\n",
    "   Name=\"Body Text 2\"/>\n",
    "  <w:LsdException Locked=\"false\" SemiHidden=\"true\" UnhideWhenUsed=\"true\"\n",
    "   Name=\"Body Text 3\"/>\n",
    "  <w:LsdException Locked=\"false\" SemiHidden=\"true\" UnhideWhenUsed=\"true\"\n",
    "   Name=\"Body Text Indent 2\"/>\n",
    "  <w:LsdException Locked=\"false\" SemiHidden=\"true\" UnhideWhenUsed=\"true\"\n",
    "   Name=\"Body Text Indent 3\"/>\n",
    "  <w:LsdException Locked=\"false\" SemiHidden=\"true\" UnhideWhenUsed=\"true\"\n",
    "   Name=\"Block Text\"/>\n",
    "  <w:LsdException Locked=\"false\" SemiHidden=\"true\" UnhideWhenUsed=\"true\"\n",
    "   Name=\"Hyperlink\"/>\n",
    "  <w:LsdException Locked=\"false\" SemiHidden=\"true\" UnhideWhenUsed=\"true\"\n",
    "   Name=\"FollowedHyperlink\"/>\n",
    "  <w:LsdException Locked=\"false\" Priority=\"22\" QFormat=\"true\" Name=\"Strong\"/>\n",
    "  <w:LsdException Locked=\"false\" Priority=\"20\" QFormat=\"true\" Name=\"Emphasis\"/>\n",
    "  <w:LsdException Locked=\"false\" SemiHidden=\"true\" UnhideWhenUsed=\"true\"\n",
    "   Name=\"Document Map\"/>\n",
    "  <w:LsdException Locked=\"false\" SemiHidden=\"true\" UnhideWhenUsed=\"true\"\n",
    "   Name=\"Plain Text\"/>\n",
    "  <w:LsdException Locked=\"false\" SemiHidden=\"true\" UnhideWhenUsed=\"true\"\n",
    "   Name=\"E-mail Signature\"/>\n",
    "  <w:LsdException Locked=\"false\" SemiHidden=\"true\" UnhideWhenUsed=\"true\"\n",
    "   Name=\"HTML Top of Form\"/>\n",
    "  <w:LsdException Locked=\"false\" SemiHidden=\"true\" UnhideWhenUsed=\"true\"\n",
    "   Name=\"HTML Bottom of Form\"/>\n",
    "  <w:LsdException Locked=\"false\" SemiHidden=\"true\" UnhideWhenUsed=\"true\"\n",
    "   Name=\"Normal (Web)\"/>\n",
    "  <w:LsdException Locked=\"false\" SemiHidden=\"true\" UnhideWhenUsed=\"true\"\n",
    "   Name=\"HTML Acronym\"/>\n",
    "  <w:LsdException Locked=\"false\" SemiHidden=\"true\" UnhideWhenUsed=\"true\"\n",
    "   Name=\"HTML Address\"/>\n",
    "  <w:LsdException Locked=\"false\" SemiHidden=\"true\" UnhideWhenUsed=\"true\"\n",
    "   Name=\"HTML Cite\"/>\n",
    "  <w:LsdException Locked=\"false\" SemiHidden=\"true\" UnhideWhenUsed=\"true\"\n",
    "   Name=\"HTML Code\"/>\n",
    "  <w:LsdException Locked=\"false\" SemiHidden=\"true\" UnhideWhenUsed=\"true\"\n",
    "   Name=\"HTML Definition\"/>\n",
    "  <w:LsdException Locked=\"false\" SemiHidden=\"true\" UnhideWhenUsed=\"true\"\n",
    "   Name=\"HTML Keyboard\"/>\n",
    "  <w:LsdException Locked=\"false\" SemiHidden=\"true\" UnhideWhenUsed=\"true\"\n",
    "   Name=\"HTML Preformatted\"/>\n",
    "  <w:LsdException Locked=\"false\" SemiHidden=\"true\" UnhideWhenUsed=\"true\"\n",
    "   Name=\"HTML Sample\"/>\n",
    "  <w:LsdException Locked=\"false\" SemiHidden=\"true\" UnhideWhenUsed=\"true\"\n",
    "   Name=\"HTML Typewriter\"/>\n",
    "  <w:LsdException Locked=\"false\" SemiHidden=\"true\" UnhideWhenUsed=\"true\"\n",
    "   Name=\"HTML Variable\"/>\n",
    "  <w:LsdException Locked=\"false\" SemiHidden=\"true\" UnhideWhenUsed=\"true\"\n",
    "   Name=\"Normal Table\"/>\n",
    "  <w:LsdException Locked=\"false\" SemiHidden=\"true\" UnhideWhenUsed=\"true\"\n",
    "   Name=\"annotation subject\"/>\n",
    "  <w:LsdException Locked=\"false\" SemiHidden=\"true\" UnhideWhenUsed=\"true\"\n",
    "   Name=\"No List\"/>\n",
    "  <w:LsdException Locked=\"false\" SemiHidden=\"true\" UnhideWhenUsed=\"true\"\n",
    "   Name=\"Outline List 1\"/>\n",
    "  <w:LsdException Locked=\"false\" SemiHidden=\"true\" UnhideWhenUsed=\"true\"\n",
    "   Name=\"Outline List 2\"/>\n",
    "  <w:LsdException Locked=\"false\" SemiHidden=\"true\" UnhideWhenUsed=\"true\"\n",
    "   Name=\"Outline List 3\"/>\n",
    "  <w:LsdException Locked=\"false\" SemiHidden=\"true\" UnhideWhenUsed=\"true\"\n",
    "   Name=\"Table Simple 1\"/>\n",
    "  <w:LsdException Locked=\"false\" SemiHidden=\"true\" UnhideWhenUsed=\"true\"\n",
    "   Name=\"Table Simple 2\"/>\n",
    "  <w:LsdException Locked=\"false\" SemiHidden=\"true\" UnhideWhenUsed=\"true\"\n",
    "   Name=\"Table Simple 3\"/>\n",
    "  <w:LsdException Locked=\"false\" SemiHidden=\"true\" UnhideWhenUsed=\"true\"\n",
    "   Name=\"Table Classic 1\"/>\n",
    "  <w:LsdException Locked=\"false\" SemiHidden=\"true\" UnhideWhenUsed=\"true\"\n",
    "   Name=\"Table Classic 2\"/>\n",
    "  <w:LsdException Locked=\"false\" SemiHidden=\"true\" UnhideWhenUsed=\"true\"\n",
    "   Name=\"Table Classic 3\"/>\n",
    "  <w:LsdException Locked=\"false\" SemiHidden=\"true\" UnhideWhenUsed=\"true\"\n",
    "   Name=\"Table Classic 4\"/>\n",
    "  <w:LsdException Locked=\"false\" SemiHidden=\"true\" UnhideWhenUsed=\"true\"\n",
    "   Name=\"Table Colorful 1\"/>\n",
    "  <w:LsdException Locked=\"false\" SemiHidden=\"true\" UnhideWhenUsed=\"true\"\n",
    "   Name=\"Table Colorful 2\"/>\n",
    "  <w:LsdException Locked=\"false\" SemiHidden=\"true\" UnhideWhenUsed=\"true\"\n",
    "   Name=\"Table Colorful 3\"/>\n",
    "  <w:LsdException Locked=\"false\" SemiHidden=\"true\" UnhideWhenUsed=\"true\"\n",
    "   Name=\"Table Columns 1\"/>\n",
    "  <w:LsdException Locked=\"false\" SemiHidden=\"true\" UnhideWhenUsed=\"true\"\n",
    "   Name=\"Table Columns 2\"/>\n",
    "  <w:LsdException Locked=\"false\" SemiHidden=\"true\" UnhideWhenUsed=\"true\"\n",
    "   Name=\"Table Columns 3\"/>\n",
    "  <w:LsdException Locked=\"false\" SemiHidden=\"true\" UnhideWhenUsed=\"true\"\n",
    "   Name=\"Table Columns 4\"/>\n",
    "  <w:LsdException Locked=\"false\" SemiHidden=\"true\" UnhideWhenUsed=\"true\"\n",
    "   Name=\"Table Columns 5\"/>\n",
    "  <w:LsdException Locked=\"false\" SemiHidden=\"true\" UnhideWhenUsed=\"true\"\n",
    "   Name=\"Table Grid 1\"/>\n",
    "  <w:LsdException Locked=\"false\" SemiHidden=\"true\" UnhideWhenUsed=\"true\"\n",
    "   Name=\"Table Grid 2\"/>\n",
    "  <w:LsdException Locked=\"false\" SemiHidden=\"true\" UnhideWhenUsed=\"true\"\n",
    "   Name=\"Table Grid 3\"/>\n",
    "  <w:LsdException Locked=\"false\" SemiHidden=\"true\" UnhideWhenUsed=\"true\"\n",
    "   Name=\"Table Grid 4\"/>\n",
    "  <w:LsdException Locked=\"false\" SemiHidden=\"true\" UnhideWhenUsed=\"true\"\n",
    "   Name=\"Table Grid 5\"/>\n",
    "  <w:LsdException Locked=\"false\" SemiHidden=\"true\" UnhideWhenUsed=\"true\"\n",
    "   Name=\"Table Grid 6\"/>\n",
    "  <w:LsdException Locked=\"false\" SemiHidden=\"true\" UnhideWhenUsed=\"true\"\n",
    "   Name=\"Table Grid 7\"/>\n",
    "  <w:LsdException Locked=\"false\" SemiHidden=\"true\" UnhideWhenUsed=\"true\"\n",
    "   Name=\"Table Grid 8\"/>\n",
    "  <w:LsdException Locked=\"false\" SemiHidden=\"true\" UnhideWhenUsed=\"true\"\n",
    "   Name=\"Table List 1\"/>\n",
    "  <w:LsdException Locked=\"false\" SemiHidden=\"true\" UnhideWhenUsed=\"true\"\n",
    "   Name=\"Table List 2\"/>\n",
    "  <w:LsdException Locked=\"false\" SemiHidden=\"true\" UnhideWhenUsed=\"true\"\n",
    "   Name=\"Table List 3\"/>\n",
    "  <w:LsdException Locked=\"false\" SemiHidden=\"true\" UnhideWhenUsed=\"true\"\n",
    "   Name=\"Table List 4\"/>\n",
    "  <w:LsdException Locked=\"false\" SemiHidden=\"true\" UnhideWhenUsed=\"true\"\n",
    "   Name=\"Table List 5\"/>\n",
    "  <w:LsdException Locked=\"false\" SemiHidden=\"true\" UnhideWhenUsed=\"true\"\n",
    "   Name=\"Table List 6\"/>\n",
    "  <w:LsdException Locked=\"false\" SemiHidden=\"true\" UnhideWhenUsed=\"true\"\n",
    "   Name=\"Table List 7\"/>\n",
    "  <w:LsdException Locked=\"false\" SemiHidden=\"true\" UnhideWhenUsed=\"true\"\n",
    "   Name=\"Table List 8\"/>\n",
    "  <w:LsdException Locked=\"false\" SemiHidden=\"true\" UnhideWhenUsed=\"true\"\n",
    "   Name=\"Table 3D effects 1\"/>\n",
    "  <w:LsdException Locked=\"false\" SemiHidden=\"true\" UnhideWhenUsed=\"true\"\n",
    "   Name=\"Table 3D effects 2\"/>\n",
    "  <w:LsdException Locked=\"false\" SemiHidden=\"true\" UnhideWhenUsed=\"true\"\n",
    "   Name=\"Table 3D effects 3\"/>\n",
    "  <w:LsdException Locked=\"false\" SemiHidden=\"true\" UnhideWhenUsed=\"true\"\n",
    "   Name=\"Table Contemporary\"/>\n",
    "  <w:LsdException Locked=\"false\" SemiHidden=\"true\" UnhideWhenUsed=\"true\"\n",
    "   Name=\"Table Elegant\"/>\n",
    "  <w:LsdException Locked=\"false\" SemiHidden=\"true\" UnhideWhenUsed=\"true\"\n",
    "   Name=\"Table Professional\"/>\n",
    "  <w:LsdException Locked=\"false\" SemiHidden=\"true\" UnhideWhenUsed=\"true\"\n",
    "   Name=\"Table Subtle 1\"/>\n",
    "  <w:LsdException Locked=\"false\" SemiHidden=\"true\" UnhideWhenUsed=\"true\"\n",
    "   Name=\"Table Subtle 2\"/>\n",
    "  <w:LsdException Locked=\"false\" SemiHidden=\"true\" UnhideWhenUsed=\"true\"\n",
    "   Name=\"Table Web 1\"/>\n",
    "  <w:LsdException Locked=\"false\" SemiHidden=\"true\" UnhideWhenUsed=\"true\"\n",
    "   Name=\"Table Web 2\"/>\n",
    "  <w:LsdException Locked=\"false\" SemiHidden=\"true\" UnhideWhenUsed=\"true\"\n",
    "   Name=\"Table Web 3\"/>\n",
    "  <w:LsdException Locked=\"false\" SemiHidden=\"true\" UnhideWhenUsed=\"true\"\n",
    "   Name=\"Balloon Text\"/>\n",
    "  <w:LsdException Locked=\"false\" Priority=\"39\" Name=\"Table Grid\"/>\n",
    "  <w:LsdException Locked=\"false\" SemiHidden=\"true\" UnhideWhenUsed=\"true\"\n",
    "   Name=\"Table Theme\"/>\n",
    "  <w:LsdException Locked=\"false\" SemiHidden=\"true\" Name=\"Placeholder Text\"/>\n",
    "  <w:LsdException Locked=\"false\" Priority=\"1\" QFormat=\"true\" Name=\"No Spacing\"/>\n",
    "  <w:LsdException Locked=\"false\" Priority=\"60\" Name=\"Light Shading\"/>\n",
    "  <w:LsdException Locked=\"false\" Priority=\"61\" Name=\"Light List\"/>\n",
    "  <w:LsdException Locked=\"false\" Priority=\"62\" Name=\"Light Grid\"/>\n",
    "  <w:LsdException Locked=\"false\" Priority=\"63\" Name=\"Medium Shading 1\"/>\n",
    "  <w:LsdException Locked=\"false\" Priority=\"64\" Name=\"Medium Shading 2\"/>\n",
    "  <w:LsdException Locked=\"false\" Priority=\"65\" Name=\"Medium List 1\"/>\n",
    "  <w:LsdException Locked=\"false\" Priority=\"66\" Name=\"Medium List 2\"/>\n",
    "  <w:LsdException Locked=\"false\" Priority=\"67\" Name=\"Medium Grid 1\"/>\n",
    "  <w:LsdException Locked=\"false\" Priority=\"68\" Name=\"Medium Grid 2\"/>\n",
    "  <w:LsdException Locked=\"false\" Priority=\"69\" Name=\"Medium Grid 3\"/>\n",
    "  <w:LsdException Locked=\"false\" Priority=\"70\" Name=\"Dark List\"/>\n",
    "  <w:LsdException Locked=\"false\" Priority=\"71\" Name=\"Colorful Shading\"/>\n",
    "  <w:LsdException Locked=\"false\" Priority=\"72\" Name=\"Colorful List\"/>\n",
    "  <w:LsdException Locked=\"false\" Priority=\"73\" Name=\"Colorful Grid\"/>\n",
    "  <w:LsdException Locked=\"false\" Priority=\"60\" Name=\"Light Shading Accent 1\"/>\n",
    "  <w:LsdException Locked=\"false\" Priority=\"61\" Name=\"Light List Accent 1\"/>\n",
    "  <w:LsdException Locked=\"false\" Priority=\"62\" Name=\"Light Grid Accent 1\"/>\n",
    "  <w:LsdException Locked=\"false\" Priority=\"63\" Name=\"Medium Shading 1 Accent 1\"/>\n",
    "  <w:LsdException Locked=\"false\" Priority=\"64\" Name=\"Medium Shading 2 Accent 1\"/>\n",
    "  <w:LsdException Locked=\"false\" Priority=\"65\" Name=\"Medium List 1 Accent 1\"/>\n",
    "  <w:LsdException Locked=\"false\" SemiHidden=\"true\" Name=\"Revision\"/>\n",
    "  <w:LsdException Locked=\"false\" Priority=\"34\" QFormat=\"true\"\n",
    "   Name=\"List Paragraph\"/>\n",
    "  <w:LsdException Locked=\"false\" Priority=\"29\" QFormat=\"true\" Name=\"Quote\"/>\n",
    "  <w:LsdException Locked=\"false\" Priority=\"30\" QFormat=\"true\"\n",
    "   Name=\"Intense Quote\"/>\n",
    "  <w:LsdException Locked=\"false\" Priority=\"66\" Name=\"Medium List 2 Accent 1\"/>\n",
    "  <w:LsdException Locked=\"false\" Priority=\"67\" Name=\"Medium Grid 1 Accent 1\"/>\n",
    "  <w:LsdException Locked=\"false\" Priority=\"68\" Name=\"Medium Grid 2 Accent 1\"/>\n",
    "  <w:LsdException Locked=\"false\" Priority=\"69\" Name=\"Medium Grid 3 Accent 1\"/>\n",
    "  <w:LsdException Locked=\"false\" Priority=\"70\" Name=\"Dark List Accent 1\"/>\n",
    "  <w:LsdException Locked=\"false\" Priority=\"71\" Name=\"Colorful Shading Accent 1\"/>\n",
    "  <w:LsdException Locked=\"false\" Priority=\"72\" Name=\"Colorful List Accent 1\"/>\n",
    "  <w:LsdException Locked=\"false\" Priority=\"73\" Name=\"Colorful Grid Accent 1\"/>\n",
    "  <w:LsdException Locked=\"false\" Priority=\"60\" Name=\"Light Shading Accent 2\"/>\n",
    "  <w:LsdException Locked=\"false\" Priority=\"61\" Name=\"Light List Accent 2\"/>\n",
    "  <w:LsdException Locked=\"false\" Priority=\"62\" Name=\"Light Grid Accent 2\"/>\n",
    "  <w:LsdException Locked=\"false\" Priority=\"63\" Name=\"Medium Shading 1 Accent 2\"/>\n",
    "  <w:LsdException Locked=\"false\" Priority=\"64\" Name=\"Medium Shading 2 Accent 2\"/>\n",
    "  <w:LsdException Locked=\"false\" Priority=\"65\" Name=\"Medium List 1 Accent 2\"/>\n",
    "  <w:LsdException Locked=\"false\" Priority=\"66\" Name=\"Medium List 2 Accent 2\"/>\n",
    "  <w:LsdException Locked=\"false\" Priority=\"67\" Name=\"Medium Grid 1 Accent 2\"/>\n",
    "  <w:LsdException Locked=\"false\" Priority=\"68\" Name=\"Medium Grid 2 Accent 2\"/>\n",
    "  <w:LsdException Locked=\"false\" Priority=\"69\" Name=\"Medium Grid 3 Accent 2\"/>\n",
    "  <w:LsdException Locked=\"false\" Priority=\"70\" Name=\"Dark List Accent 2\"/>\n",
    "  <w:LsdException Locked=\"false\" Priority=\"71\" Name=\"Colorful Shading Accent 2\"/>\n",
    "  <w:LsdException Locked=\"false\" Priority=\"72\" Name=\"Colorful List Accent 2\"/>\n",
    "  <w:LsdException Locked=\"false\" Priority=\"73\" Name=\"Colorful Grid Accent 2\"/>\n",
    "  <w:LsdException Locked=\"false\" Priority=\"60\" Name=\"Light Shading Accent 3\"/>\n",
    "  <w:LsdException Locked=\"false\" Priority=\"61\" Name=\"Light List Accent 3\"/>\n",
    "  <w:LsdException Locked=\"false\" Priority=\"62\" Name=\"Light Grid Accent 3\"/>\n",
    "  <w:LsdException Locked=\"false\" Priority=\"63\" Name=\"Medium Shading 1 Accent 3\"/>\n",
    "  <w:LsdException Locked=\"false\" Priority=\"64\" Name=\"Medium Shading 2 Accent 3\"/>\n",
    "  <w:LsdException Locked=\"false\" Priority=\"65\" Name=\"Medium List 1 Accent 3\"/>\n",
    "  <w:LsdException Locked=\"false\" Priority=\"66\" Name=\"Medium List 2 Accent 3\"/>\n",
    "  <w:LsdException Locked=\"false\" Priority=\"67\" Name=\"Medium Grid 1 Accent 3\"/>\n",
    "  <w:LsdException Locked=\"false\" Priority=\"68\" Name=\"Medium Grid 2 Accent 3\"/>\n",
    "  <w:LsdException Locked=\"false\" Priority=\"69\" Name=\"Medium Grid 3 Accent 3\"/>\n",
    "  <w:LsdException Locked=\"false\" Priority=\"70\" Name=\"Dark List Accent 3\"/>\n",
    "  <w:LsdException Locked=\"false\" Priority=\"71\" Name=\"Colorful Shading Accent 3\"/>\n",
    "  <w:LsdException Locked=\"false\" Priority=\"72\" Name=\"Colorful List Accent 3\"/>\n",
    "  <w:LsdException Locked=\"false\" Priority=\"73\" Name=\"Colorful Grid Accent 3\"/>\n",
    "  <w:LsdException Locked=\"false\" Priority=\"60\" Name=\"Light Shading Accent 4\"/>\n",
    "  <w:LsdException Locked=\"false\" Priority=\"61\" Name=\"Light List Accent 4\"/>\n",
    "  <w:LsdException Locked=\"false\" Priority=\"62\" Name=\"Light Grid Accent 4\"/>\n",
    "  <w:LsdException Locked=\"false\" Priority=\"63\" Name=\"Medium Shading 1 Accent 4\"/>\n",
    "  <w:LsdException Locked=\"false\" Priority=\"64\" Name=\"Medium Shading 2 Accent 4\"/>\n",
    "  <w:LsdException Locked=\"false\" Priority=\"65\" Name=\"Medium List 1 Accent 4\"/>\n",
    "  <w:LsdException Locked=\"false\" Priority=\"66\" Name=\"Medium List 2 Accent 4\"/>\n",
    "  <w:LsdException Locked=\"false\" Priority=\"67\" Name=\"Medium Grid 1 Accent 4\"/>\n",
    "  <w:LsdException Locked=\"false\" Priority=\"68\" Name=\"Medium Grid 2 Accent 4\"/>\n",
    "  <w:LsdException Locked=\"false\" Priority=\"69\" Name=\"Medium Grid 3 Accent 4\"/>\n",
    "  <w:LsdException Locked=\"false\" Priority=\"70\" Name=\"Dark List Accent 4\"/>\n",
    "  <w:LsdException Locked=\"false\" Priority=\"71\" Name=\"Colorful Shading Accent 4\"/>\n",
    "  <w:LsdException Locked=\"false\" Priority=\"72\" Name=\"Colorful List Accent 4\"/>\n",
    "  <w:LsdException Locked=\"false\" Priority=\"73\" Name=\"Colorful Grid Accent 4\"/>\n",
    "  <w:LsdException Locked=\"false\" Priority=\"60\" Name=\"Light Shading Accent 5\"/>\n",
    "  <w:LsdException Locked=\"false\" Priority=\"61\" Name=\"Light List Accent 5\"/>\n",
    "  <w:LsdException Locked=\"false\" Priority=\"62\" Name=\"Light Grid Accent 5\"/>\n",
    "  <w:LsdException Locked=\"false\" Priority=\"63\" Name=\"Medium Shading 1 Accent 5\"/>\n",
    "  <w:LsdException Locked=\"false\" Priority=\"64\" Name=\"Medium Shading 2 Accent 5\"/>\n",
    "  <w:LsdException Locked=\"false\" Priority=\"65\" Name=\"Medium List 1 Accent 5\"/>\n",
    "  <w:LsdException Locked=\"false\" Priority=\"66\" Name=\"Medium List 2 Accent 5\"/>\n",
    "  <w:LsdException Locked=\"false\" Priority=\"67\" Name=\"Medium Grid 1 Accent 5\"/>\n",
    "  <w:LsdException Locked=\"false\" Priority=\"68\" Name=\"Medium Grid 2 Accent 5\"/>\n",
    "  <w:LsdException Locked=\"false\" Priority=\"69\" Name=\"Medium Grid 3 Accent 5\"/>\n",
    "  <w:LsdException Locked=\"false\" Priority=\"70\" Name=\"Dark List Accent 5\"/>\n",
    "  <w:LsdException Locked=\"false\" Priority=\"71\" Name=\"Colorful Shading Accent 5\"/>\n",
    "  <w:LsdException Locked=\"false\" Priority=\"72\" Name=\"Colorful List Accent 5\"/>\n",
    "  <w:LsdException Locked=\"false\" Priority=\"73\" Name=\"Colorful Grid Accent 5\"/>\n",
    "  <w:LsdException Locked=\"false\" Priority=\"60\" Name=\"Light Shading Accent 6\"/>\n",
    "  <w:LsdException Locked=\"false\" Priority=\"61\" Name=\"Light List Accent 6\"/>\n",
    "  <w:LsdException Locked=\"false\" Priority=\"62\" Name=\"Light Grid Accent 6\"/>\n",
    "  <w:LsdException Locked=\"false\" Priority=\"63\" Name=\"Medium Shading 1 Accent 6\"/>\n",
    "  <w:LsdException Locked=\"false\" Priority=\"64\" Name=\"Medium Shading 2 Accent 6\"/>\n",
    "  <w:LsdException Locked=\"false\" Priority=\"65\" Name=\"Medium List 1 Accent 6\"/>\n",
    "  <w:LsdException Locked=\"false\" Priority=\"66\" Name=\"Medium List 2 Accent 6\"/>\n",
    "  <w:LsdException Locked=\"false\" Priority=\"67\" Name=\"Medium Grid 1 Accent 6\"/>\n",
    "  <w:LsdException Locked=\"false\" Priority=\"68\" Name=\"Medium Grid 2 Accent 6\"/>\n",
    "  <w:LsdException Locked=\"false\" Priority=\"69\" Name=\"Medium Grid 3 Accent 6\"/>\n",
    "  <w:LsdException Locked=\"false\" Priority=\"70\" Name=\"Dark List Accent 6\"/>\n",
    "  <w:LsdException Locked=\"false\" Priority=\"71\" Name=\"Colorful Shading Accent 6\"/>\n",
    "  <w:LsdException Locked=\"false\" Priority=\"72\" Name=\"Colorful List Accent 6\"/>\n",
    "  <w:LsdException Locked=\"false\" Priority=\"73\" Name=\"Colorful Grid Accent 6\"/>\n",
    "  <w:LsdException Locked=\"false\" Priority=\"19\" QFormat=\"true\"\n",
    "   Name=\"Subtle Emphasis\"/>\n",
    "  <w:LsdException Locked=\"false\" Priority=\"21\" QFormat=\"true\"\n",
    "   Name=\"Intense Emphasis\"/>\n",
    "  <w:LsdException Locked=\"false\" Priority=\"31\" QFormat=\"true\"\n",
    "   Name=\"Subtle Reference\"/>\n",
    "  <w:LsdException Locked=\"false\" Priority=\"32\" QFormat=\"true\"\n",
    "   Name=\"Intense Reference\"/>\n",
    "  <w:LsdException Locked=\"false\" Priority=\"33\" QFormat=\"true\" Name=\"Book Title\"/>\n",
    "  <w:LsdException Locked=\"false\" Priority=\"37\" SemiHidden=\"true\"\n",
    "   UnhideWhenUsed=\"true\" Name=\"Bibliography\"/>\n",
    "  <w:LsdException Locked=\"false\" Priority=\"39\" SemiHidden=\"true\"\n",
    "   UnhideWhenUsed=\"true\" QFormat=\"true\" Name=\"TOC Heading\"/>\n",
    "  <w:LsdException Locked=\"false\" Priority=\"41\" Name=\"Plain Table 1\"/>\n",
    "  <w:LsdException Locked=\"false\" Priority=\"42\" Name=\"Plain Table 2\"/>\n",
    "  <w:LsdException Locked=\"false\" Priority=\"43\" Name=\"Plain Table 3\"/>\n",
    "  <w:LsdException Locked=\"false\" Priority=\"44\" Name=\"Plain Table 4\"/>\n",
    "  <w:LsdException Locked=\"false\" Priority=\"45\" Name=\"Plain Table 5\"/>\n",
    "  <w:LsdException Locked=\"false\" Priority=\"40\" Name=\"Grid Table Light\"/>\n",
    "  <w:LsdException Locked=\"false\" Priority=\"46\" Name=\"Grid Table 1 Light\"/>\n",
    "  <w:LsdException Locked=\"false\" Priority=\"47\" Name=\"Grid Table 2\"/>\n",
    "  <w:LsdException Locked=\"false\" Priority=\"48\" Name=\"Grid Table 3\"/>\n",
    "  <w:LsdException Locked=\"false\" Priority=\"49\" Name=\"Grid Table 4\"/>\n",
    "  <w:LsdException Locked=\"false\" Priority=\"50\" Name=\"Grid Table 5 Dark\"/>\n",
    "  <w:LsdException Locked=\"false\" Priority=\"51\" Name=\"Grid Table 6 Colorful\"/>\n",
    "  <w:LsdException Locked=\"false\" Priority=\"52\" Name=\"Grid Table 7 Colorful\"/>\n",
    "  <w:LsdException Locked=\"false\" Priority=\"46\"\n",
    "   Name=\"Grid Table 1 Light Accent 1\"/>\n",
    "  <w:LsdException Locked=\"false\" Priority=\"47\" Name=\"Grid Table 2 Accent 1\"/>\n",
    "  <w:LsdException Locked=\"false\" Priority=\"48\" Name=\"Grid Table 3 Accent 1\"/>\n",
    "  <w:LsdException Locked=\"false\" Priority=\"49\" Name=\"Grid Table 4 Accent 1\"/>\n",
    "  <w:LsdException Locked=\"false\" Priority=\"50\" Name=\"Grid Table 5 Dark Accent 1\"/>\n",
    "  <w:LsdException Locked=\"false\" Priority=\"51\"\n",
    "   Name=\"Grid Table 6 Colorful Accent 1\"/>\n",
    "  <w:LsdException Locked=\"false\" Priority=\"52\"\n",
    "   Name=\"Grid Table 7 Colorful Accent 1\"/>\n",
    "  <w:LsdException Locked=\"false\" Priority=\"46\"\n",
    "   Name=\"Grid Table 1 Light Accent 2\"/>\n",
    "  <w:LsdException Locked=\"false\" Priority=\"47\" Name=\"Grid Table 2 Accent 2\"/>\n",
    "  <w:LsdException Locked=\"false\" Priority=\"48\" Name=\"Grid Table 3 Accent 2\"/>\n",
    "  <w:LsdException Locked=\"false\" Priority=\"49\" Name=\"Grid Table 4 Accent 2\"/>\n",
    "  <w:LsdException Locked=\"false\" Priority=\"50\" Name=\"Grid Table 5 Dark Accent 2\"/>\n",
    "  <w:LsdException Locked=\"false\" Priority=\"51\"\n",
    "   Name=\"Grid Table 6 Colorful Accent 2\"/>\n",
    "  <w:LsdException Locked=\"false\" Priority=\"52\"\n",
    "   Name=\"Grid Table 7 Colorful Accent 2\"/>\n",
    "  <w:LsdException Locked=\"false\" Priority=\"46\"\n",
    "   Name=\"Grid Table 1 Light Accent 3\"/>\n",
    "  <w:LsdException Locked=\"false\" Priority=\"47\" Name=\"Grid Table 2 Accent 3\"/>\n",
    "  <w:LsdException Locked=\"false\" Priority=\"48\" Name=\"Grid Table 3 Accent 3\"/>\n",
    "  <w:LsdException Locked=\"false\" Priority=\"49\" Name=\"Grid Table 4 Accent 3\"/>\n",
    "  <w:LsdException Locked=\"false\" Priority=\"50\" Name=\"Grid Table 5 Dark Accent 3\"/>\n",
    "  <w:LsdException Locked=\"false\" Priority=\"51\"\n",
    "   Name=\"Grid Table 6 Colorful Accent 3\"/>\n",
    "  <w:LsdException Locked=\"false\" Priority=\"52\"\n",
    "   Name=\"Grid Table 7 Colorful Accent 3\"/>\n",
    "  <w:LsdException Locked=\"false\" Priority=\"46\"\n",
    "   Name=\"Grid Table 1 Light Accent 4\"/>\n",
    "  <w:LsdException Locked=\"false\" Priority=\"47\" Name=\"Grid Table 2 Accent 4\"/>\n",
    "  <w:LsdException Locked=\"false\" Priority=\"48\" Name=\"Grid Table 3 Accent 4\"/>\n",
    "  <w:LsdException Locked=\"false\" Priority=\"49\" Name=\"Grid Table 4 Accent 4\"/>\n",
    "  <w:LsdException Locked=\"false\" Priority=\"50\" Name=\"Grid Table 5 Dark Accent 4\"/>\n",
    "  <w:LsdException Locked=\"false\" Priority=\"51\"\n",
    "   Name=\"Grid Table 6 Colorful Accent 4\"/>\n",
    "  <w:LsdException Locked=\"false\" Priority=\"52\"\n",
    "   Name=\"Grid Table 7 Colorful Accent 4\"/>\n",
    "  <w:LsdException Locked=\"false\" Priority=\"46\"\n",
    "   Name=\"Grid Table 1 Light Accent 5\"/>\n",
    "  <w:LsdException Locked=\"false\" Priority=\"47\" Name=\"Grid Table 2 Accent 5\"/>\n",
    "  <w:LsdException Locked=\"false\" Priority=\"48\" Name=\"Grid Table 3 Accent 5\"/>\n",
    "  <w:LsdException Locked=\"false\" Priority=\"49\" Name=\"Grid Table 4 Accent 5\"/>\n",
    "  <w:LsdException Locked=\"false\" Priority=\"50\" Name=\"Grid Table 5 Dark Accent 5\"/>\n",
    "  <w:LsdException Locked=\"false\" Priority=\"51\"\n",
    "   Name=\"Grid Table 6 Colorful Accent 5\"/>\n",
    "  <w:LsdException Locked=\"false\" Priority=\"52\"\n",
    "   Name=\"Grid Table 7 Colorful Accent 5\"/>\n",
    "  <w:LsdException Locked=\"false\" Priority=\"46\"\n",
    "   Name=\"Grid Table 1 Light Accent 6\"/>\n",
    "  <w:LsdException Locked=\"false\" Priority=\"47\" Name=\"Grid Table 2 Accent 6\"/>\n",
    "  <w:LsdException Locked=\"false\" Priority=\"48\" Name=\"Grid Table 3 Accent 6\"/>\n",
    "  <w:LsdException Locked=\"false\" Priority=\"49\" Name=\"Grid Table 4 Accent 6\"/>\n",
    "  <w:LsdException Locked=\"false\" Priority=\"50\" Name=\"Grid Table 5 Dark Accent 6\"/>\n",
    "  <w:LsdException Locked=\"false\" Priority=\"51\"\n",
    "   Name=\"Grid Table 6 Colorful Accent 6\"/>\n",
    "  <w:LsdException Locked=\"false\" Priority=\"52\"\n",
    "   Name=\"Grid Table 7 Colorful Accent 6\"/>\n",
    "  <w:LsdException Locked=\"false\" Priority=\"46\" Name=\"List Table 1 Light\"/>\n",
    "  <w:LsdException Locked=\"false\" Priority=\"47\" Name=\"List Table 2\"/>\n",
    "  <w:LsdException Locked=\"false\" Priority=\"48\" Name=\"List Table 3\"/>\n",
    "  <w:LsdException Locked=\"false\" Priority=\"49\" Name=\"List Table 4\"/>\n",
    "  <w:LsdException Locked=\"false\" Priority=\"50\" Name=\"List Table 5 Dark\"/>\n",
    "  <w:LsdException Locked=\"false\" Priority=\"51\" Name=\"List Table 6 Colorful\"/>\n",
    "  <w:LsdException Locked=\"false\" Priority=\"52\" Name=\"List Table 7 Colorful\"/>\n",
    "  <w:LsdException Locked=\"false\" Priority=\"46\"\n",
    "   Name=\"List Table 1 Light Accent 1\"/>\n",
    "  <w:LsdException Locked=\"false\" Priority=\"47\" Name=\"List Table 2 Accent 1\"/>\n",
    "  <w:LsdException Locked=\"false\" Priority=\"48\" Name=\"List Table 3 Accent 1\"/>\n",
    "  <w:LsdException Locked=\"false\" Priority=\"49\" Name=\"List Table 4 Accent 1\"/>\n",
    "  <w:LsdException Locked=\"false\" Priority=\"50\" Name=\"List Table 5 Dark Accent 1\"/>\n",
    "  <w:LsdException Locked=\"false\" Priority=\"51\"\n",
    "   Name=\"List Table 6 Colorful Accent 1\"/>\n",
    "  <w:LsdException Locked=\"false\" Priority=\"52\"\n",
    "   Name=\"List Table 7 Colorful Accent 1\"/>\n",
    "  <w:LsdException Locked=\"false\" Priority=\"46\"\n",
    "   Name=\"List Table 1 Light Accent 2\"/>\n",
    "  <w:LsdException Locked=\"false\" Priority=\"47\" Name=\"List Table 2 Accent 2\"/>\n",
    "  <w:LsdException Locked=\"false\" Priority=\"48\" Name=\"List Table 3 Accent 2\"/>\n",
    "  <w:LsdException Locked=\"false\" Priority=\"49\" Name=\"List Table 4 Accent 2\"/>\n",
    "  <w:LsdException Locked=\"false\" Priority=\"50\" Name=\"List Table 5 Dark Accent 2\"/>\n",
    "  <w:LsdException Locked=\"false\" Priority=\"51\"\n",
    "   Name=\"List Table 6 Colorful Accent 2\"/>\n",
    "  <w:LsdException Locked=\"false\" Priority=\"52\"\n",
    "   Name=\"List Table 7 Colorful Accent 2\"/>\n",
    "  <w:LsdException Locked=\"false\" Priority=\"46\"\n",
    "   Name=\"List Table 1 Light Accent 3\"/>\n",
    "  <w:LsdException Locked=\"false\" Priority=\"47\" Name=\"List Table 2 Accent 3\"/>\n",
    "  <w:LsdException Locked=\"false\" Priority=\"48\" Name=\"List Table 3 Accent 3\"/>\n",
    "  <w:LsdException Locked=\"false\" Priority=\"49\" Name=\"List Table 4 Accent 3\"/>\n",
    "  <w:LsdException Locked=\"false\" Priority=\"50\" Name=\"List Table 5 Dark Accent 3\"/>\n",
    "  <w:LsdException Locked=\"false\" Priority=\"51\"\n",
    "   Name=\"List Table 6 Colorful Accent 3\"/>\n",
    "  <w:LsdException Locked=\"false\" Priority=\"52\"\n",
    "   Name=\"List Table 7 Colorful Accent 3\"/>\n",
    "  <w:LsdException Locked=\"false\" Priority=\"46\"\n",
    "   Name=\"List Table 1 Light Accent 4\"/>\n",
    "  <w:LsdException Locked=\"false\" Priority=\"47\" Name=\"List Table 2 Accent 4\"/>\n",
    "  <w:LsdException Locked=\"false\" Priority=\"48\" Name=\"List Table 3 Accent 4\"/>\n",
    "  <w:LsdException Locked=\"false\" Priority=\"49\" Name=\"List Table 4 Accent 4\"/>\n",
    "  <w:LsdException Locked=\"false\" Priority=\"50\" Name=\"List Table 5 Dark Accent 4\"/>\n",
    "  <w:LsdException Locked=\"false\" Priority=\"51\"\n",
    "   Name=\"List Table 6 Colorful Accent 4\"/>\n",
    "  <w:LsdException Locked=\"false\" Priority=\"52\"\n",
    "   Name=\"List Table 7 Colorful Accent 4\"/>\n",
    "  <w:LsdException Locked=\"false\" Priority=\"46\"\n",
    "   Name=\"List Table 1 Light Accent 5\"/>\n",
    "  <w:LsdException Locked=\"false\" Priority=\"47\" Name=\"List Table 2 Accent 5\"/>\n",
    "  <w:LsdException Locked=\"false\" Priority=\"48\" Name=\"List Table 3 Accent 5\"/>\n",
    "  <w:LsdException Locked=\"false\" Priority=\"49\" Name=\"List Table 4 Accent 5\"/>\n",
    "  <w:LsdException Locked=\"false\" Priority=\"50\" Name=\"List Table 5 Dark Accent 5\"/>\n",
    "  <w:LsdException Locked=\"false\" Priority=\"51\"\n",
    "   Name=\"List Table 6 Colorful Accent 5\"/>\n",
    "  <w:LsdException Locked=\"false\" Priority=\"52\"\n",
    "   Name=\"List Table 7 Colorful Accent 5\"/>\n",
    "  <w:LsdException Locked=\"false\" Priority=\"46\"\n",
    "   Name=\"List Table 1 Light Accent 6\"/>\n",
    "  <w:LsdException Locked=\"false\" Priority=\"47\" Name=\"List Table 2 Accent 6\"/>\n",
    "  <w:LsdException Locked=\"false\" Priority=\"48\" Name=\"List Table 3 Accent 6\"/>\n",
    "  <w:LsdException Locked=\"false\" Priority=\"49\" Name=\"List Table 4 Accent 6\"/>\n",
    "  <w:LsdException Locked=\"false\" Priority=\"50\" Name=\"List Table 5 Dark Accent 6\"/>\n",
    "  <w:LsdException Locked=\"false\" Priority=\"51\"\n",
    "   Name=\"List Table 6 Colorful Accent 6\"/>\n",
    "  <w:LsdException Locked=\"false\" Priority=\"52\"\n",
    "   Name=\"List Table 7 Colorful Accent 6\"/>\n",
    "  <w:LsdException Locked=\"false\" SemiHidden=\"true\" UnhideWhenUsed=\"true\"\n",
    "   Name=\"Mention\"/>\n",
    "  <w:LsdException Locked=\"false\" SemiHidden=\"true\" UnhideWhenUsed=\"true\"\n",
    "   Name=\"Smart Hyperlink\"/>\n",
    "  <w:LsdException Locked=\"false\" SemiHidden=\"true\" UnhideWhenUsed=\"true\"\n",
    "   Name=\"Hashtag\"/>\n",
    "  <w:LsdException Locked=\"false\" SemiHidden=\"true\" UnhideWhenUsed=\"true\"\n",
    "   Name=\"Unresolved Mention\"/>\n",
    "  <w:LsdException Locked=\"false\" SemiHidden=\"true\" UnhideWhenUsed=\"true\"\n",
    "   Name=\"Smart Link\"/>\n",
    " </w:LatentStyles>\n",
    "</xml><![endif]-->\n",
    "<style>\n",
    "<!--\n",
    " /* Font Definitions */\n",
    " @font-face\n",
    "\t{font-family:\"Cambria Math\";\n",
    "\tpanose-1:2 4 5 3 5 4 6 3 2 4;\n",
    "\tmso-font-charset:0;\n",
    "\tmso-generic-font-family:roman;\n",
    "\tmso-font-pitch:variable;\n",
    "\tmso-font-signature:-536870145 1107305727 0 0 415 0;}\n",
    "@font-face\n",
    "\t{font-family:Calibri;\n",
    "\tpanose-1:2 15 5 2 2 2 4 3 2 4;\n",
    "\tmso-font-charset:0;\n",
    "\tmso-generic-font-family:swiss;\n",
    "\tmso-font-pitch:variable;\n",
    "\tmso-font-signature:-536859905 -1073732485 9 0 511 0;}\n",
    " /* Style Definitions */\n",
    " p.MsoNormal, li.MsoNormal, div.MsoNormal\n",
    "\t{mso-style-unhide:no;\n",
    "\tmso-style-qformat:yes;\n",
    "\tmso-style-parent:\"\";\n",
    "\tmargin:0cm;\n",
    "\tmso-pagination:widow-orphan;\n",
    "\tfont-size:12.0pt;\n",
    "\tfont-family:\"Calibri\",sans-serif;\n",
    "\tmso-ascii-font-family:Calibri;\n",
    "\tmso-ascii-theme-font:minor-latin;\n",
    "\tmso-fareast-font-family:Calibri;\n",
    "\tmso-fareast-theme-font:minor-latin;\n",
    "\tmso-hansi-font-family:Calibri;\n",
    "\tmso-hansi-theme-font:minor-latin;\n",
    "\tmso-bidi-font-family:\"Times New Roman\";\n",
    "\tmso-bidi-theme-font:minor-bidi;}\n",
    "span.SpellE\n",
    "\t{mso-style-name:\"\";\n",
    "\tmso-spl-e:yes;}\n",
    "span.GramE\n",
    "\t{mso-style-name:\"\";\n",
    "\tmso-gram-e:yes;}\n",
    ".MsoChpDefault\n",
    "\t{mso-style-type:export-only;\n",
    "\tmso-default-props:yes;\n",
    "\tfont-family:\"Calibri\",sans-serif;\n",
    "\tmso-ascii-font-family:Calibri;\n",
    "\tmso-ascii-theme-font:minor-latin;\n",
    "\tmso-fareast-font-family:Calibri;\n",
    "\tmso-fareast-theme-font:minor-latin;\n",
    "\tmso-hansi-font-family:Calibri;\n",
    "\tmso-hansi-theme-font:minor-latin;\n",
    "\tmso-bidi-font-family:\"Times New Roman\";\n",
    "\tmso-bidi-theme-font:minor-bidi;}\n",
    "@page WordSection1\n",
    "\t{size:612.0pt 792.0pt;\n",
    "\tmargin:72.0pt 72.0pt 72.0pt 72.0pt;\n",
    "\tmso-header-margin:35.4pt;\n",
    "\tmso-footer-margin:35.4pt;\n",
    "\tmso-paper-source:0;}\n",
    "div.WordSection1\n",
    "\t{page:WordSection1;}\n",
    "-->\n",
    "</style>\n",
    "<!--[if gte mso 10]>\n",
    "<style>\n",
    " /* Style Definitions */\n",
    " table.MsoNormalTable\n",
    "\t{mso-style-name:\"Table Normal\";\n",
    "\tmso-tstyle-rowband-size:0;\n",
    "\tmso-tstyle-colband-size:0;\n",
    "\tmso-style-noshow:yes;\n",
    "\tmso-style-priority:99;\n",
    "\tmso-style-parent:\"\";\n",
    "\tmso-padding-alt:0cm 5.4pt 0cm 5.4pt;\n",
    "\tmso-para-margin:0cm;\n",
    "\tmso-pagination:widow-orphan;\n",
    "\tfont-size:12.0pt;\n",
    "\tfont-family:\"Calibri\",sans-serif;\n",
    "\tmso-ascii-font-family:Calibri;\n",
    "\tmso-ascii-theme-font:minor-latin;\n",
    "\tmso-hansi-font-family:Calibri;\n",
    "\tmso-hansi-theme-font:minor-latin;\n",
    "\tmso-bidi-font-family:\"Times New Roman\";\n",
    "\tmso-bidi-theme-font:minor-bidi;}\n",
    "</style>\n",
    "<![endif]-->\n",
    "</head>\n",
    "\n",
    "<body lang=EN-CA style='tab-interval:36.0pt;word-wrap:break-word'>\n",
    "\n",
    "<div class=WordSection1>\n",
    "\n",
    "<table class=MsoNormalTable border=0 cellspacing=0 cellpadding=0 width=1288\n",
    " style='width:966.0pt;border-collapse:collapse;mso-yfti-tbllook:1184;\n",
    " mso-padding-alt:0cm 5.4pt 0cm 5.4pt'>\n",
    " <tr style='mso-yfti-irow:0;mso-yfti-firstrow:yes;height:20.0pt'>\n",
    "  <td width=177 valign=top style='width:133.0pt;border:solid #282828 1.0pt;\n",
    "  border-top:none;mso-border-left-alt:solid #282828 .5pt;mso-border-bottom-alt:\n",
    "  solid #282828 .5pt;mso-border-right-alt:solid #282828 .5pt;padding:0cm 5.4pt 0cm 5.4pt;\n",
    "  height:20.0pt'>\n",
    "  <p class=MsoNormal><span style='font-size:19.0pt;font-family:\"Courier New\";\n",
    "  mso-fareast-font-family:\"Times New Roman\";color:#343433'>Dataset</span><span\n",
    "  style='font-size:19.0pt;font-family:\"Courier New\";mso-fareast-font-family:\n",
    "  \"Times New Roman\"'><o:p></o:p></span></p>\n",
    "  </td>\n",
    "  <td width=169 valign=top style='width:127.0pt;border-top:none;border-left:\n",
    "  none;border-bottom:solid #282828 1.0pt;border-right:solid #282828 1.0pt;\n",
    "  mso-border-bottom-alt:solid #282828 .5pt;mso-border-right-alt:solid #282828 .5pt;\n",
    "  padding:0cm 5.4pt 0cm 5.4pt;height:20.0pt'>\n",
    "  <p class=MsoNormal><span style='font-size:19.0pt;font-family:\"Courier New\";\n",
    "  mso-fareast-font-family:\"Times New Roman\";color:#343433'>D.XGB</span><span\n",
    "  style='font-size:19.0pt;font-family:\"Courier New\";mso-fareast-font-family:\n",
    "  \"Times New Roman\"'><o:p></o:p></span></p>\n",
    "  </td>\n",
    "  <td width=187 valign=top style='width:140.0pt;border-top:none;border-left:\n",
    "  none;border-bottom:solid #282828 1.0pt;border-right:solid #282828 1.0pt;\n",
    "  mso-border-bottom-alt:solid #282828 .5pt;mso-border-right-alt:solid #282828 .5pt;\n",
    "  padding:0cm 5.4pt 0cm 5.4pt;height:20.0pt'>\n",
    "  <p class=MsoNormal><span style='font-size:19.0pt;font-family:\"Courier New\";\n",
    "  mso-fareast-font-family:\"Times New Roman\";color:#343433'>T.XGB</span><span\n",
    "  style='font-size:19.0pt;font-family:\"Courier New\";mso-fareast-font-family:\n",
    "  \"Times New Roman\"'><o:p></o:p></span></p>\n",
    "  </td>\n",
    "  <td width=187 valign=top style='width:140.0pt;border-top:none;border-left:\n",
    "  none;border-bottom:solid #282828 1.0pt;border-right:solid #282828 1.0pt;\n",
    "  mso-border-bottom-alt:solid #282828 .5pt;mso-border-right-alt:solid #282828 .5pt;\n",
    "  padding:0cm 5.4pt 0cm 5.4pt;height:20.0pt'>\n",
    "  <p class=MsoNormal><span style='font-size:19.0pt;font-family:\"Courier New\";\n",
    "  mso-fareast-font-family:\"Times New Roman\";color:#343433'>D.RF</span><span\n",
    "  style='font-size:19.0pt;font-family:\"Courier New\";mso-fareast-font-family:\n",
    "  \"Times New Roman\"'><o:p></o:p></span></p>\n",
    "  </td>\n",
    "  <td width=187 valign=top style='width:140.0pt;border-top:none;border-left:\n",
    "  none;border-bottom:solid #282828 1.0pt;border-right:solid #282828 1.0pt;\n",
    "  mso-border-bottom-alt:solid #282828 .5pt;mso-border-right-alt:solid #282828 .5pt;\n",
    "  padding:0cm 5.4pt 0cm 5.4pt;height:20.0pt'>\n",
    "  <p class=MsoNormal><span class=GramE><span style='font-size:19.0pt;\n",
    "  font-family:\"Courier New\";mso-fareast-font-family:\"Times New Roman\";\n",
    "  color:#343433'>T.RF</span></span><span style='font-size:19.0pt;font-family:\n",
    "  \"Courier New\";mso-fareast-font-family:\"Times New Roman\"'><o:p></o:p></span></p>\n",
    "  </td>\n",
    "  <td width=187 valign=top style='width:140.0pt;border-top:none;border-left:\n",
    "  none;border-bottom:solid #282828 1.0pt;border-right:solid #282828 1.0pt;\n",
    "  mso-border-bottom-alt:solid #282828 .5pt;mso-border-right-alt:solid #282828 .5pt;\n",
    "  padding:0cm 5.4pt 0cm 5.4pt;height:20.0pt'>\n",
    "  <p class=MsoNormal><span style='font-size:19.0pt;font-family:\"Courier New\";\n",
    "  mso-fareast-font-family:\"Times New Roman\";color:#343433'>D.GB</span><span\n",
    "  style='font-size:19.0pt;font-family:\"Courier New\";mso-fareast-font-family:\n",
    "  \"Times New Roman\"'><o:p></o:p></span></p>\n",
    "  </td>\n",
    "  <td width=195 valign=top style='width:146.0pt;border-top:none;border-left:\n",
    "  none;border-bottom:solid #282828 1.0pt;border-right:solid #282828 1.0pt;\n",
    "  mso-border-bottom-alt:solid #282828 .5pt;mso-border-right-alt:solid #282828 .5pt;\n",
    "  padding:0cm 5.4pt 0cm 5.4pt;height:20.0pt'>\n",
    "  <p class=MsoNormal><span style='font-size:19.0pt;font-family:\"Courier New\";\n",
    "  mso-fareast-font-family:\"Times New Roman\";color:#343433'>T.GB</span><span\n",
    "  style='font-size:19.0pt;font-family:\"Courier New\";mso-fareast-font-family:\n",
    "  \"Times New Roman\"'><o:p></o:p></span></p>\n",
    "  </td>\n",
    " </tr>\n",
    " <tr style='mso-yfti-irow:1;height:20.0pt'>\n",
    "  <td width=177 valign=top style='width:133.0pt;border:solid #282828 1.0pt;\n",
    "  border-top:none;mso-border-left-alt:solid #282828 .5pt;mso-border-bottom-alt:\n",
    "  solid #282828 .5pt;mso-border-right-alt:solid #282828 .5pt;padding:0cm 5.4pt 0cm 5.4pt;\n",
    "  height:20.0pt'>\n",
    "  <p class=MsoNormal><span style='font-size:17.0pt;font-family:\"Times New Roman\",serif;\n",
    "  mso-fareast-font-family:\"Times New Roman\";color:#343433'>Australian</span><span\n",
    "  style='font-size:17.0pt;font-family:\"Times New Roman\",serif;mso-fareast-font-family:\n",
    "  \"Times New Roman\"'><o:p></o:p></span></p>\n",
    "  </td>\n",
    "  <td width=169 valign=top style='width:127.0pt;border-top:none;border-left:\n",
    "  none;border-bottom:solid #282828 1.0pt;border-right:solid #282828 1.0pt;\n",
    "  mso-border-bottom-alt:solid #282828 .5pt;mso-border-right-alt:solid #282828 .5pt;\n",
    "  padding:0cm 5.4pt 0cm 5.4pt;height:20.0pt'>\n",
    "  <p class=MsoNormal><span style='font-size:17.0pt;font-family:\"Times New Roman\",serif;\n",
    "  mso-fareast-font-family:\"Times New Roman\";color:#343433'>86.94%±2.73</span><span\n",
    "  style='font-size:17.0pt;font-family:\"Times New Roman\",serif;mso-fareast-font-family:\n",
    "  \"Times New Roman\"'><o:p></o:p></span></p>\n",
    "  </td>\n",
    "  <td width=187 valign=top style='width:140.0pt;border-top:none;border-left:\n",
    "  none;border-bottom:solid #282828 1.0pt;border-right:solid #282828 1.0pt;\n",
    "  mso-border-bottom-alt:solid #282828 .5pt;mso-border-right-alt:solid #282828 .5pt;\n",
    "  padding:0cm 5.4pt 0cm 5.4pt;height:20.0pt'>\n",
    "  <p class=MsoNormal><span style='font-size:17.0pt;font-family:\"Times New Roman\",serif;\n",
    "  mso-fareast-font-family:\"Times New Roman\";color:#343433'>87.53%±3.47</span><span\n",
    "  style='font-size:17.0pt;font-family:\"Times New Roman\",serif;mso-fareast-font-family:\n",
    "  \"Times New Roman\"'><o:p></o:p></span></p>\n",
    "  </td>\n",
    "  <td width=187 valign=top style='width:140.0pt;border-top:none;border-left:\n",
    "  none;border-bottom:solid #282828 1.0pt;border-right:solid #282828 1.0pt;\n",
    "  mso-border-bottom-alt:solid #282828 .5pt;mso-border-right-alt:solid #282828 .5pt;\n",
    "  padding:0cm 5.4pt 0cm 5.4pt;height:20.0pt'>\n",
    "  <p class=MsoNormal><span style='font-size:17.0pt;font-family:\"Times New Roman\",serif;\n",
    "  mso-fareast-font-family:\"Times New Roman\";color:#343433'>87.26%±3.83</span><span\n",
    "  style='font-size:17.0pt;font-family:\"Times New Roman\",serif;mso-fareast-font-family:\n",
    "  \"Times New Roman\"'><o:p></o:p></span></p>\n",
    "  </td>\n",
    "  <td width=187 valign=top style='width:140.0pt;border-top:none;border-left:\n",
    "  none;border-bottom:solid #282828 1.0pt;border-right:solid #282828 1.0pt;\n",
    "  mso-border-top-alt:solid #282828 .5pt;mso-border-top-alt:solid #282828 .5pt;\n",
    "  mso-border-bottom-alt:solid #282828 .5pt;mso-border-right-alt:solid #282828 .5pt;\n",
    "  padding:0cm 5.4pt 0cm 5.4pt;height:20.0pt'>\n",
    "  <p class=MsoNormal><span style='font-size:17.0pt;font-family:\"Times New Roman\",serif;\n",
    "  mso-fareast-font-family:\"Times New Roman\";color:#343433'>86.08%±3.42</span><span\n",
    "  style='font-size:17.0pt;font-family:\"Times New Roman\",serif;mso-fareast-font-family:\n",
    "  \"Times New Roman\"'><o:p></o:p></span></p>\n",
    "  </td>\n",
    "  <td width=187 valign=top style='width:140.0pt;border-top:none;border-left:\n",
    "  none;border-bottom:solid #282828 1.0pt;border-right:solid #282828 1.0pt;\n",
    "  mso-border-bottom-alt:solid #282828 .5pt;mso-border-right-alt:solid #282828 .5pt;\n",
    "  padding:0cm 5.4pt 0cm 5.4pt;height:20.0pt'>\n",
    "  <p class=MsoNormal><span style='font-size:17.0pt;font-family:\"Times New Roman\",serif;\n",
    "  mso-fareast-font-family:\"Times New Roman\";color:#343433'>86.23%±3.41</span><span\n",
    "  style='font-size:17.0pt;font-family:\"Times New Roman\",serif;mso-fareast-font-family:\n",
    "  \"Times New Roman\"'><o:p></o:p></span></p>\n",
    "  </td>\n",
    "  <td width=195 valign=top style='width:146.0pt;border-top:none;border-left:\n",
    "  none;border-bottom:solid #282828 1.0pt;border-right:solid #282828 1.0pt;\n",
    "  mso-border-bottom-alt:solid #282828 .5pt;mso-border-right-alt:solid #282828 .5pt;\n",
    "  padding:0cm 5.4pt 0cm 5.4pt;height:20.0pt'>\n",
    "  <p class=MsoNormal><span style='font-size:17.0pt;font-family:\"Times New Roman\",serif;\n",
    "  mso-fareast-font-family:\"Times New Roman\";color:#343433'>86.38%±3.39</span><span\n",
    "  style='font-size:17.0pt;font-family:\"Times New Roman\",serif;mso-fareast-font-family:\n",
    "  \"Times New Roman\"'><o:p></o:p></span></p>\n",
    "  </td>\n",
    " </tr>\n",
    " <tr style='mso-yfti-irow:2;height:20.0pt'>\n",
    "  <td width=177 valign=top style='width:133.0pt;border:solid #282828 1.0pt;\n",
    "  border-top:none;mso-border-left-alt:solid #282828 .5pt;mso-border-bottom-alt:\n",
    "  solid #282828 .5pt;mso-border-right-alt:solid #282828 .5pt;padding:0cm 5.4pt 0cm 5.4pt;\n",
    "  height:20.0pt'>\n",
    "  <p class=MsoNormal><span style='font-size:17.0pt;font-family:\"Times New Roman\",serif;\n",
    "  mso-fareast-font-family:\"Times New Roman\";color:#343433'>Banknote</span><span\n",
    "  style='font-size:17.0pt;font-family:\"Times New Roman\",serif;mso-fareast-font-family:\n",
    "  \"Times New Roman\"'><o:p></o:p></span></p>\n",
    "  </td>\n",
    "  <td width=169 valign=top style='width:127.0pt;border-top:none;border-left:\n",
    "  none;border-bottom:solid #282828 1.0pt;border-right:solid #282828 1.0pt;\n",
    "  mso-border-bottom-alt:solid #282828 .5pt;mso-border-right-alt:solid #282828 .5pt;\n",
    "  padding:0cm 5.4pt 0cm 5.4pt;height:20.0pt'>\n",
    "  <p class=MsoNormal><span style='font-size:17.0pt;font-family:\"Times New Roman\",serif;\n",
    "  mso-fareast-font-family:\"Times New Roman\";color:#343433'>99.64%±0.59</span><span\n",
    "  style='font-size:17.0pt;font-family:\"Times New Roman\",serif;mso-fareast-font-family:\n",
    "  \"Times New Roman\"'><o:p></o:p></span></p>\n",
    "  </td>\n",
    "  <td width=187 valign=top style='width:140.0pt;border-top:none;border-left:\n",
    "  none;border-bottom:solid #282828 1.0pt;border-right:solid #282828 1.0pt;\n",
    "  mso-border-bottom-alt:solid #282828 .5pt;mso-border-right-alt:solid #282828 .5pt;\n",
    "  padding:0cm 5.4pt 0cm 5.4pt;height:20.0pt'>\n",
    "  <p class=MsoNormal><span style='font-size:17.0pt;font-family:\"Times New Roman\",serif;\n",
    "  mso-fareast-font-family:\"Times New Roman\";color:#343433'>99.64%±0.49</span><span\n",
    "  style='font-size:17.0pt;font-family:\"Times New Roman\",serif;mso-fareast-font-family:\n",
    "  \"Times New Roman\"'><o:p></o:p></span></p>\n",
    "  </td>\n",
    "  <td width=187 valign=top style='width:140.0pt;border-top:none;border-left:\n",
    "  none;border-bottom:solid #282828 1.0pt;border-right:solid #282828 1.0pt;\n",
    "  mso-border-bottom-alt:solid #282828 .5pt;mso-border-right-alt:solid #282828 .5pt;\n",
    "  padding:0cm 5.4pt 0cm 5.4pt;height:20.0pt'>\n",
    "  <p class=MsoNormal><span style='font-size:17.0pt;font-family:\"Times New Roman\",serif;\n",
    "  mso-fareast-font-family:\"Times New Roman\";color:#343433'>99.34%±0.60</span><span\n",
    "  style='font-size:17.0pt;font-family:\"Times New Roman\",serif;mso-fareast-font-family:\n",
    "  \"Times New Roman\"'><o:p></o:p></span></p>\n",
    "  </td>\n",
    "  <td width=187 valign=top style='width:140.0pt;border-top:none;border-left:\n",
    "  none;border-bottom:solid #282828 1.0pt;border-right:solid #282828 1.0pt;\n",
    "  mso-border-top-alt:solid #282828 .5pt;mso-border-top-alt:solid #282828 .5pt;\n",
    "  mso-border-bottom-alt:solid #282828 .5pt;mso-border-right-alt:solid #282828 .5pt;\n",
    "  padding:0cm 5.4pt 0cm 5.4pt;height:20.0pt'>\n",
    "  <p class=MsoNormal><span style='font-size:17.0pt;font-family:\"Times New Roman\",serif;\n",
    "  mso-fareast-font-family:\"Times New Roman\";color:#343433'>99.13%±0.71</span><span\n",
    "  style='font-size:17.0pt;font-family:\"Times New Roman\",serif;mso-fareast-font-family:\n",
    "  \"Times New Roman\"'><o:p></o:p></span></p>\n",
    "  </td>\n",
    "  <td width=187 valign=top style='width:140.0pt;border-top:none;border-left:\n",
    "  none;border-bottom:solid #282828 1.0pt;border-right:solid #282828 1.0pt;\n",
    "  mso-border-bottom-alt:solid #282828 .5pt;mso-border-right-alt:solid #282828 .5pt;\n",
    "  padding:0cm 5.4pt 0cm 5.4pt;height:20.0pt'>\n",
    "  <p class=MsoNormal><span style='font-size:17.0pt;font-family:\"Times New Roman\",serif;\n",
    "  mso-fareast-font-family:\"Times New Roman\";color:#343433'>99.71%±0.48</span><span\n",
    "  style='font-size:17.0pt;font-family:\"Times New Roman\",serif;mso-fareast-font-family:\n",
    "  \"Times New Roman\"'><o:p></o:p></span></p>\n",
    "  </td>\n",
    "  <td width=195 valign=top style='width:146.0pt;border-top:none;border-left:\n",
    "  none;border-bottom:solid #282828 1.0pt;border-right:solid #282828 1.0pt;\n",
    "  mso-border-bottom-alt:solid #282828 .5pt;mso-border-right-alt:solid #282828 .5pt;\n",
    "  padding:0cm 5.4pt 0cm 5.4pt;height:20.0pt'>\n",
    "  <p class=MsoNormal><span style='font-size:17.0pt;font-family:\"Times New Roman\",serif;\n",
    "  mso-fareast-font-family:\"Times New Roman\";color:#343433'>99.78%±0.33</span><span\n",
    "  style='font-size:17.0pt;font-family:\"Times New Roman\",serif;mso-fareast-font-family:\n",
    "  \"Times New Roman\"'><o:p></o:p></span></p>\n",
    "  </td>\n",
    " </tr>\n",
    " <tr style='mso-yfti-irow:3;height:20.0pt'>\n",
    "  <td width=177 valign=top style='width:133.0pt;border:solid #282828 1.0pt;\n",
    "  border-top:none;mso-border-left-alt:solid #282828 .5pt;mso-border-bottom-alt:\n",
    "  solid #282828 .5pt;mso-border-right-alt:solid #282828 .5pt;padding:0cm 5.4pt 0cm 5.4pt;\n",
    "  height:20.0pt'>\n",
    "  <p class=MsoNormal><span style='font-size:17.0pt;font-family:\"Times New Roman\",serif;\n",
    "  mso-fareast-font-family:\"Times New Roman\";color:#343433'>Breast</span><span\n",
    "  style='font-size:17.0pt;font-family:\"Times New Roman\",serif;mso-fareast-font-family:\n",
    "  \"Times New Roman\"'><o:p></o:p></span></p>\n",
    "  </td>\n",
    "  <td width=169 valign=top style='width:127.0pt;border-top:none;border-left:\n",
    "  none;border-bottom:solid #282828 1.0pt;border-right:solid #282828 1.0pt;\n",
    "  mso-border-bottom-alt:solid #282828 .5pt;mso-border-right-alt:solid #282828 .5pt;\n",
    "  padding:0cm 5.4pt 0cm 5.4pt;height:20.0pt'>\n",
    "  <p class=MsoNormal><span style='font-size:17.0pt;font-family:\"Times New Roman\",serif;\n",
    "  mso-fareast-font-family:\"Times New Roman\";color:#343433'>96.28%±1.15</span><span\n",
    "  style='font-size:17.0pt;font-family:\"Times New Roman\",serif;mso-fareast-font-family:\n",
    "  \"Times New Roman\"'><o:p></o:p></span></p>\n",
    "  </td>\n",
    "  <td width=187 valign=top style='width:140.0pt;border-top:none;border-left:\n",
    "  none;border-bottom:solid #282828 1.0pt;border-right:solid #282828 1.0pt;\n",
    "  mso-border-bottom-alt:solid #282828 .5pt;mso-border-right-alt:solid #282828 .5pt;\n",
    "  padding:0cm 5.4pt 0cm 5.4pt;height:20.0pt'>\n",
    "  <p class=MsoNormal><span style='font-size:17.0pt;font-family:\"Times New Roman\",serif;\n",
    "  mso-fareast-font-family:\"Times New Roman\";color:#343433'>95.99%±1.68</span><span\n",
    "  style='font-size:17.0pt;font-family:\"Times New Roman\",serif;mso-fareast-font-family:\n",
    "  \"Times New Roman\"'><o:p></o:p></span></p>\n",
    "  </td>\n",
    "  <td width=187 valign=top style='width:140.0pt;border-top:none;border-left:\n",
    "  none;border-bottom:solid #282828 1.0pt;border-right:solid #282828 1.0pt;\n",
    "  mso-border-bottom-alt:solid #282828 .5pt;mso-border-right-alt:solid #282828 .5pt;\n",
    "  padding:0cm 5.4pt 0cm 5.4pt;height:20.0pt'>\n",
    "  <p class=MsoNormal><span style='font-size:17.0pt;font-family:\"Times New Roman\",serif;\n",
    "  mso-fareast-font-family:\"Times New Roman\";color:#343433'>96.99%±1.36</span><span\n",
    "  style='font-size:17.0pt;font-family:\"Times New Roman\",serif;mso-fareast-font-family:\n",
    "  \"Times New Roman\"'><o:p></o:p></span></p>\n",
    "  </td>\n",
    "  <td width=187 valign=top style='width:140.0pt;border-top:none;border-left:\n",
    "  none;border-bottom:solid #282828 1.0pt;border-right:solid #282828 1.0pt;\n",
    "  mso-border-top-alt:solid #282828 .5pt;mso-border-top-alt:solid #282828 .5pt;\n",
    "  mso-border-bottom-alt:solid #282828 .5pt;mso-border-right-alt:solid #282828 .5pt;\n",
    "  padding:0cm 5.4pt 0cm 5.4pt;height:20.0pt'>\n",
    "  <p class=MsoNormal><span style='font-size:17.0pt;font-family:\"Times New Roman\",serif;\n",
    "  mso-fareast-font-family:\"Times New Roman\";color:#343433'>96.85%±1.26</span><span\n",
    "  style='font-size:17.0pt;font-family:\"Times New Roman\",serif;mso-fareast-font-family:\n",
    "  \"Times New Roman\"'><o:p></o:p></span></p>\n",
    "  </td>\n",
    "  <td width=187 valign=top style='width:140.0pt;border-top:none;border-left:\n",
    "  none;border-bottom:solid #282828 1.0pt;border-right:solid #282828 1.0pt;\n",
    "  mso-border-bottom-alt:solid #282828 .5pt;mso-border-right-alt:solid #282828 .5pt;\n",
    "  padding:0cm 5.4pt 0cm 5.4pt;height:20.0pt'>\n",
    "  <p class=MsoNormal><span style='font-size:17.0pt;font-family:\"Times New Roman\",serif;\n",
    "  mso-fareast-font-family:\"Times New Roman\";color:#343433'>96.71%±1.58</span><span\n",
    "  style='font-size:17.0pt;font-family:\"Times New Roman\",serif;mso-fareast-font-family:\n",
    "  \"Times New Roman\"'><o:p></o:p></span></p>\n",
    "  </td>\n",
    "  <td width=195 valign=top style='width:146.0pt;border-top:none;border-left:\n",
    "  none;border-bottom:solid #282828 1.0pt;border-right:solid #282828 1.0pt;\n",
    "  mso-border-bottom-alt:solid #282828 .5pt;mso-border-right-alt:solid #282828 .5pt;\n",
    "  padding:0cm 5.4pt 0cm 5.4pt;height:20.0pt'>\n",
    "  <p class=MsoNormal><span style='font-size:17.0pt;font-family:\"Times New Roman\",serif;\n",
    "  mso-fareast-font-family:\"Times New Roman\";color:#343433'>96.42%±1.61</span><span\n",
    "  style='font-size:17.0pt;font-family:\"Times New Roman\",serif;mso-fareast-font-family:\n",
    "  \"Times New Roman\"'><o:p></o:p></span></p>\n",
    "  </td>\n",
    " </tr>\n",
    " <tr style='mso-yfti-irow:4;height:19.0pt'>\n",
    "  <td width=177 valign=top style='width:133.0pt;border:solid #282828 1.0pt;\n",
    "  border-top:none;mso-border-left-alt:solid #282828 .5pt;mso-border-bottom-alt:\n",
    "  solid #282828 .5pt;mso-border-right-alt:solid #282828 .5pt;padding:0cm 5.4pt 0cm 5.4pt;\n",
    "  height:19.0pt'>\n",
    "  <p class=MsoNormal><span style='font-size:17.0pt;font-family:\"Times New Roman\",serif;\n",
    "  mso-fareast-font-family:\"Times New Roman\";color:#343433'>Cleveland</span><span\n",
    "  style='font-size:17.0pt;font-family:\"Times New Roman\",serif;mso-fareast-font-family:\n",
    "  \"Times New Roman\"'><o:p></o:p></span></p>\n",
    "  </td>\n",
    "  <td width=169 valign=top style='width:127.0pt;border-top:none;border-left:\n",
    "  none;border-bottom:solid #282828 1.0pt;border-right:solid #282828 1.0pt;\n",
    "  mso-border-bottom-alt:solid #282828 .5pt;mso-border-right-alt:solid #282828 .5pt;\n",
    "  padding:0cm 5.4pt 0cm 5.4pt;height:19.0pt'>\n",
    "  <p class=MsoNormal><span style='font-size:17.0pt;font-family:\"Times New Roman\",serif;\n",
    "  mso-fareast-font-family:\"Times New Roman\";color:#343433'>81.14%±7.25</span><span\n",
    "  style='font-size:17.0pt;font-family:\"Times New Roman\",serif;mso-fareast-font-family:\n",
    "  \"Times New Roman\"'><o:p></o:p></span></p>\n",
    "  </td>\n",
    "  <td width=187 valign=top style='width:140.0pt;border-top:none;border-left:\n",
    "  none;border-bottom:solid #282828 1.0pt;border-right:solid #282828 1.0pt;\n",
    "  mso-border-bottom-alt:solid #282828 .5pt;mso-border-right-alt:solid #282828 .5pt;\n",
    "  padding:0cm 5.4pt 0cm 5.4pt;height:19.0pt'>\n",
    "  <p class=MsoNormal><span style='font-size:17.0pt;font-family:\"Times New Roman\",serif;\n",
    "  mso-fareast-font-family:\"Times New Roman\";color:#343433'>83.16%±7.94</span><span\n",
    "  style='font-size:17.0pt;font-family:\"Times New Roman\",serif;mso-fareast-font-family:\n",
    "  \"Times New Roman\"'><o:p></o:p></span></p>\n",
    "  </td>\n",
    "  <td width=187 valign=top style='width:140.0pt;border-top:none;border-left:\n",
    "  none;border-bottom:solid #282828 1.0pt;border-right:solid #282828 1.0pt;\n",
    "  mso-border-bottom-alt:solid #282828 .5pt;mso-border-right-alt:solid #282828 .5pt;\n",
    "  padding:0cm 5.4pt 0cm 5.4pt;height:19.0pt'>\n",
    "  <p class=MsoNormal><span style='font-size:17.0pt;font-family:\"Times New Roman\",serif;\n",
    "  mso-fareast-font-family:\"Times New Roman\";color:#343433'>82.46%±6.77</span><span\n",
    "  style='font-size:17.0pt;font-family:\"Times New Roman\",serif;mso-fareast-font-family:\n",
    "  \"Times New Roman\"'><o:p></o:p></span></p>\n",
    "  </td>\n",
    "  <td width=187 valign=top style='width:140.0pt;border-top:none;border-left:\n",
    "  none;border-bottom:solid #282828 1.0pt;border-right:solid #282828 1.0pt;\n",
    "  mso-border-top-alt:solid #282828 .5pt;mso-border-top-alt:solid #282828 .5pt;\n",
    "  mso-border-bottom-alt:solid #282828 .5pt;mso-border-right-alt:solid #282828 .5pt;\n",
    "  padding:0cm 5.4pt 0cm 5.4pt;height:19.0pt'>\n",
    "  <p class=MsoNormal><span style='font-size:17.0pt;font-family:\"Times New Roman\",serif;\n",
    "  mso-fareast-font-family:\"Times New Roman\";color:#343433'>82.46%±8.03</span><span\n",
    "  style='font-size:17.0pt;font-family:\"Times New Roman\",serif;mso-fareast-font-family:\n",
    "  \"Times New Roman\"'><o:p></o:p></span></p>\n",
    "  </td>\n",
    "  <td width=187 valign=top style='width:140.0pt;border-top:none;border-left:\n",
    "  none;border-bottom:solid #282828 1.0pt;border-right:solid #282828 1.0pt;\n",
    "  mso-border-bottom-alt:solid #282828 .5pt;mso-border-right-alt:solid #282828 .5pt;\n",
    "  padding:0cm 5.4pt 0cm 5.4pt;height:19.0pt'>\n",
    "  <p class=MsoNormal><span style='font-size:17.0pt;font-family:\"Times New Roman\",serif;\n",
    "  mso-fareast-font-family:\"Times New Roman\";color:#343433'>83.78%±6.48</span><span\n",
    "  style='font-size:17.0pt;font-family:\"Times New Roman\",serif;mso-fareast-font-family:\n",
    "  \"Times New Roman\"'><o:p></o:p></span></p>\n",
    "  </td>\n",
    "  <td width=195 valign=top style='width:146.0pt;border-top:none;border-left:\n",
    "  none;border-bottom:solid #282828 1.0pt;border-right:solid #282828 1.0pt;\n",
    "  mso-border-bottom-alt:solid #282828 .5pt;mso-border-right-alt:solid #282828 .5pt;\n",
    "  padding:0cm 5.4pt 0cm 5.4pt;height:19.0pt'>\n",
    "  <p class=MsoNormal><span style='font-size:17.0pt;font-family:\"Times New Roman\",serif;\n",
    "  mso-fareast-font-family:\"Times New Roman\";color:#343433'>82.16%±8.35</span><span\n",
    "  style='font-size:17.0pt;font-family:\"Times New Roman\",serif;mso-fareast-font-family:\n",
    "  \"Times New Roman\"'><o:p></o:p></span></p>\n",
    "  </td>\n",
    " </tr>\n",
    " <tr style='mso-yfti-irow:5;height:20.0pt'>\n",
    "  <td width=177 valign=top style='width:133.0pt;border:solid #282828 1.0pt;\n",
    "  border-top:none;mso-border-left-alt:solid #282828 .5pt;mso-border-bottom-alt:\n",
    "  solid #282828 .5pt;mso-border-right-alt:solid #282828 .5pt;padding:0cm 5.4pt 0cm 5.4pt;\n",
    "  height:20.0pt'>\n",
    "  <p class=MsoNormal><span style='font-size:17.0pt;font-family:\"Times New Roman\",serif;\n",
    "  mso-fareast-font-family:\"Times New Roman\";color:#343433'>Dermatology</span><span\n",
    "  style='font-size:17.0pt;font-family:\"Times New Roman\",serif;mso-fareast-font-family:\n",
    "  \"Times New Roman\"'><o:p></o:p></span></p>\n",
    "  </td>\n",
    "  <td width=169 valign=top style='width:127.0pt;border-top:none;border-left:\n",
    "  none;border-bottom:solid #282828 1.0pt;border-right:solid #282828 1.0pt;\n",
    "  mso-border-bottom-alt:solid #282828 .5pt;mso-border-right-alt:solid #282828 .5pt;\n",
    "  padding:0cm 5.4pt 0cm 5.4pt;height:20.0pt'>\n",
    "  <p class=MsoNormal><span style='font-size:17.0pt;font-family:\"Times New Roman\",serif;\n",
    "  mso-fareast-font-family:\"Times New Roman\";color:#343433'>96.74%±3.21</span><span\n",
    "  style='font-size:17.0pt;font-family:\"Times New Roman\",serif;mso-fareast-font-family:\n",
    "  \"Times New Roman\"'><o:p></o:p></span></p>\n",
    "  </td>\n",
    "  <td width=187 valign=top style='width:140.0pt;border-top:none;border-left:\n",
    "  none;border-bottom:solid #282828 1.0pt;border-right:solid #282828 1.0pt;\n",
    "  mso-border-bottom-alt:solid #282828 .5pt;mso-border-right-alt:solid #282828 .5pt;\n",
    "  padding:0cm 5.4pt 0cm 5.4pt;height:20.0pt'>\n",
    "  <p class=MsoNormal><span style='font-size:17.0pt;font-family:\"Times New Roman\",serif;\n",
    "  mso-fareast-font-family:\"Times New Roman\";color:#343433'>97.27%±3.24</span><span\n",
    "  style='font-size:17.0pt;font-family:\"Times New Roman\",serif;mso-fareast-font-family:\n",
    "  \"Times New Roman\"'><o:p></o:p></span></p>\n",
    "  </td>\n",
    "  <td width=187 valign=top style='width:140.0pt;border-top:none;border-left:\n",
    "  none;border-bottom:solid #282828 1.0pt;border-right:solid #282828 1.0pt;\n",
    "  mso-border-bottom-alt:solid #282828 .5pt;mso-border-right-alt:solid #282828 .5pt;\n",
    "  padding:0cm 5.4pt 0cm 5.4pt;height:20.0pt'>\n",
    "  <p class=MsoNormal><span style='font-size:17.0pt;font-family:\"Times New Roman\",serif;\n",
    "  mso-fareast-font-family:\"Times New Roman\";color:#343433'>97.27%±3.29</span><span\n",
    "  style='font-size:17.0pt;font-family:\"Times New Roman\",serif;mso-fareast-font-family:\n",
    "  \"Times New Roman\"'><o:p></o:p></span></p>\n",
    "  </td>\n",
    "  <td width=187 valign=top style='width:140.0pt;border-top:none;border-left:\n",
    "  none;border-bottom:solid #282828 1.0pt;border-right:solid #282828 1.0pt;\n",
    "  mso-border-top-alt:solid #282828 .5pt;mso-border-top-alt:solid #282828 .5pt;\n",
    "  mso-border-bottom-alt:solid #282828 .5pt;mso-border-right-alt:solid #282828 .5pt;\n",
    "  padding:0cm 5.4pt 0cm 5.4pt;height:20.0pt'>\n",
    "  <p class=MsoNormal><span style='font-size:17.0pt;font-family:\"Times New Roman\",serif;\n",
    "  mso-fareast-font-family:\"Times New Roman\";color:#343433'>97.30%±3.24</span><span\n",
    "  style='font-size:17.0pt;font-family:\"Times New Roman\",serif;mso-fareast-font-family:\n",
    "  \"Times New Roman\"'><o:p></o:p></span></p>\n",
    "  </td>\n",
    "  <td width=187 valign=top style='width:140.0pt;border-top:none;border-left:\n",
    "  none;border-bottom:solid #282828 1.0pt;border-right:solid #282828 1.0pt;\n",
    "  mso-border-bottom-alt:solid #282828 .5pt;mso-border-right-alt:solid #282828 .5pt;\n",
    "  padding:0cm 5.4pt 0cm 5.4pt;height:20.0pt'>\n",
    "  <p class=MsoNormal><span style='font-size:17.0pt;font-family:\"Times New Roman\",serif;\n",
    "  mso-fareast-font-family:\"Times New Roman\";color:#343433'>96.47%±3.28</span><span\n",
    "  style='font-size:17.0pt;font-family:\"Times New Roman\",serif;mso-fareast-font-family:\n",
    "  \"Times New Roman\"'><o:p></o:p></span></p>\n",
    "  </td>\n",
    "  <td width=195 valign=top style='width:146.0pt;border-top:none;border-left:\n",
    "  none;border-bottom:solid #282828 1.0pt;border-right:solid #282828 1.0pt;\n",
    "  mso-border-bottom-alt:solid #282828 .5pt;mso-border-right-alt:solid #282828 .5pt;\n",
    "  padding:0cm 5.4pt 0cm 5.4pt;height:20.0pt'>\n",
    "  <p class=MsoNormal><span style='font-size:17.0pt;font-family:\"Times New Roman\",serif;\n",
    "  mso-fareast-font-family:\"Times New Roman\";color:#343433'>96.18%±2.81</span><span\n",
    "  style='font-size:17.0pt;font-family:\"Times New Roman\",serif;mso-fareast-font-family:\n",
    "  \"Times New Roman\"'><o:p></o:p></span></p>\n",
    "  </td>\n",
    " </tr>\n",
    " <tr style='mso-yfti-irow:6;height:20.0pt'>\n",
    "  <td width=177 valign=top style='width:133.0pt;border:solid #282828 1.0pt;\n",
    "  border-top:none;mso-border-left-alt:solid #282828 .5pt;mso-border-bottom-alt:\n",
    "  solid #282828 .5pt;mso-border-right-alt:solid #282828 .5pt;padding:0cm 5.4pt 0cm 5.4pt;\n",
    "  height:20.0pt'>\n",
    "  <p class=MsoNormal><span style='font-size:17.0pt;font-family:\"Times New Roman\",serif;\n",
    "  mso-fareast-font-family:\"Times New Roman\";color:#343433'>Diabetes</span><span\n",
    "  style='font-size:17.0pt;font-family:\"Times New Roman\",serif;mso-fareast-font-family:\n",
    "  \"Times New Roman\"'><o:p></o:p></span></p>\n",
    "  </td>\n",
    "  <td width=169 valign=top style='width:127.0pt;border-top:none;border-left:\n",
    "  none;border-bottom:solid #282828 1.0pt;border-right:solid #282828 1.0pt;\n",
    "  mso-border-bottom-alt:solid #282828 .5pt;mso-border-right-alt:solid #282828 .5pt;\n",
    "  padding:0cm 5.4pt 0cm 5.4pt;height:20.0pt'>\n",
    "  <p class=MsoNormal><span style='font-size:17.0pt;font-family:\"Times New Roman\",serif;\n",
    "  mso-fareast-font-family:\"Times New Roman\";color:#343433'>75.65%±5.11</span><span\n",
    "  style='font-size:17.0pt;font-family:\"Times New Roman\",serif;mso-fareast-font-family:\n",
    "  \"Times New Roman\"'><o:p></o:p></span></p>\n",
    "  </td>\n",
    "  <td width=187 valign=top style='width:140.0pt;border-top:none;border-left:\n",
    "  none;border-bottom:solid #282828 1.0pt;border-right:solid #282828 1.0pt;\n",
    "  mso-border-bottom-alt:solid #282828 .5pt;mso-border-right-alt:solid #282828 .5pt;\n",
    "  padding:0cm 5.4pt 0cm 5.4pt;height:20.0pt'>\n",
    "  <p class=MsoNormal><span style='font-size:17.0pt;font-family:\"Times New Roman\",serif;\n",
    "  mso-fareast-font-family:\"Times New Roman\";color:#343433'>76.56%±4.50</span><span\n",
    "  style='font-size:17.0pt;font-family:\"Times New Roman\",serif;mso-fareast-font-family:\n",
    "  \"Times New Roman\"'><o:p></o:p></span></p>\n",
    "  </td>\n",
    "  <td width=187 valign=top style='width:140.0pt;border-top:none;border-left:\n",
    "  none;border-bottom:solid #282828 1.0pt;border-right:solid #282828 1.0pt;\n",
    "  mso-border-bottom-alt:solid #282828 .5pt;mso-border-right-alt:solid #282828 .5pt;\n",
    "  padding:0cm 5.4pt 0cm 5.4pt;height:20.0pt'>\n",
    "  <p class=MsoNormal><span style='font-size:17.0pt;font-family:\"Times New Roman\",serif;\n",
    "  mso-fareast-font-family:\"Times New Roman\";color:#343433'>76.69%±3.45</span><span\n",
    "  style='font-size:17.0pt;font-family:\"Times New Roman\",serif;mso-fareast-font-family:\n",
    "  \"Times New Roman\"'><o:p></o:p></span></p>\n",
    "  </td>\n",
    "  <td width=187 valign=top style='width:140.0pt;border-top:none;border-left:\n",
    "  none;border-bottom:solid #282828 1.0pt;border-right:solid #282828 1.0pt;\n",
    "  mso-border-top-alt:solid #282828 .5pt;mso-border-top-alt:solid #282828 .5pt;\n",
    "  mso-border-bottom-alt:solid #282828 .5pt;mso-border-right-alt:solid #282828 .5pt;\n",
    "  padding:0cm 5.4pt 0cm 5.4pt;height:20.0pt'>\n",
    "  <p class=MsoNormal><span style='font-size:17.0pt;font-family:\"Times New Roman\",serif;\n",
    "  mso-fareast-font-family:\"Times New Roman\";color:#343433'>76.69%±4.89</span><span\n",
    "  style='font-size:17.0pt;font-family:\"Times New Roman\",serif;mso-fareast-font-family:\n",
    "  \"Times New Roman\"'><o:p></o:p></span></p>\n",
    "  </td>\n",
    "  <td width=187 valign=top style='width:140.0pt;border-top:none;border-left:\n",
    "  none;border-bottom:solid #282828 1.0pt;border-right:solid #282828 1.0pt;\n",
    "  mso-border-bottom-alt:solid #282828 .5pt;mso-border-right-alt:solid #282828 .5pt;\n",
    "  padding:0cm 5.4pt 0cm 5.4pt;height:20.0pt'>\n",
    "  <p class=MsoNormal><span style='font-size:17.0pt;font-family:\"Times New Roman\",serif;\n",
    "  mso-fareast-font-family:\"Times New Roman\";color:#343433'>76.81%±4.43</span><span\n",
    "  style='font-size:17.0pt;font-family:\"Times New Roman\",serif;mso-fareast-font-family:\n",
    "  \"Times New Roman\"'><o:p></o:p></span></p>\n",
    "  </td>\n",
    "  <td width=195 valign=top style='width:146.0pt;border-top:none;border-left:\n",
    "  none;border-bottom:solid #282828 1.0pt;border-right:solid #282828 1.0pt;\n",
    "  mso-border-bottom-alt:solid #282828 .5pt;mso-border-right-alt:solid #282828 .5pt;\n",
    "  padding:0cm 5.4pt 0cm 5.4pt;height:20.0pt'>\n",
    "  <p class=MsoNormal><span style='font-size:17.0pt;font-family:\"Times New Roman\",serif;\n",
    "  mso-fareast-font-family:\"Times New Roman\";color:#343433'>76.30%±3.74</span><span\n",
    "  style='font-size:17.0pt;font-family:\"Times New Roman\",serif;mso-fareast-font-family:\n",
    "  \"Times New Roman\"'><o:p></o:p></span></p>\n",
    "  </td>\n",
    " </tr>\n",
    " <tr style='mso-yfti-irow:7;height:20.0pt'>\n",
    "  <td width=177 valign=top style='width:133.0pt;border:solid #282828 1.0pt;\n",
    "  border-top:none;mso-border-left-alt:solid #282828 .5pt;mso-border-bottom-alt:\n",
    "  solid #282828 .5pt;mso-border-right-alt:solid #282828 .5pt;padding:0cm 5.4pt 0cm 5.4pt;\n",
    "  height:20.0pt'>\n",
    "  <p class=MsoNormal align=center style='text-align:center'><span\n",
    "  style='font-size:17.0pt;font-family:\"Times New Roman\",serif;mso-fareast-font-family:\n",
    "  \"Times New Roman\";color:#343433'>Echo</span><span style='font-size:17.0pt;\n",
    "  font-family:\"Times New Roman\",serif;mso-fareast-font-family:\"Times New Roman\"'><o:p></o:p></span></p>\n",
    "  </td>\n",
    "  <td width=169 valign=top style='width:127.0pt;border-top:none;border-left:\n",
    "  none;border-bottom:solid #282828 1.0pt;border-right:solid #282828 1.0pt;\n",
    "  mso-border-bottom-alt:solid #282828 .5pt;mso-border-right-alt:solid #282828 .5pt;\n",
    "  padding:0cm 5.4pt 0cm 5.4pt;height:20.0pt'>\n",
    "  <p class=MsoNormal><span style='font-size:17.0pt;font-family:\"Times New Roman\",serif;\n",
    "  mso-fareast-font-family:\"Times New Roman\";color:#343433'>94.46%±6.80</span><span\n",
    "  style='font-size:17.0pt;font-family:\"Times New Roman\",serif;mso-fareast-font-family:\n",
    "  \"Times New Roman\"'><o:p></o:p></span></p>\n",
    "  </td>\n",
    "  <td width=187 valign=top style='width:140.0pt;border-top:none;border-left:\n",
    "  none;border-bottom:solid #282828 1.0pt;border-right:solid #282828 1.0pt;\n",
    "  mso-border-bottom-alt:solid #282828 .5pt;mso-border-right-alt:solid #282828 .5pt;\n",
    "  padding:0cm 5.4pt 0cm 5.4pt;height:20.0pt'>\n",
    "  <p class=MsoNormal><span style='font-size:17.0pt;font-family:\"Times New Roman\",serif;\n",
    "  mso-fareast-font-family:\"Times New Roman\";color:#343433'>98.75%±3.75</span><span\n",
    "  style='font-size:17.0pt;font-family:\"Times New Roman\",serif;mso-fareast-font-family:\n",
    "  \"Times New Roman\"'><o:p></o:p></span></p>\n",
    "  </td>\n",
    "  <td width=187 valign=top style='width:140.0pt;border-top:none;border-left:\n",
    "  none;border-bottom:solid #282828 1.0pt;border-right:solid #282828 1.0pt;\n",
    "  mso-border-bottom-alt:solid #282828 .5pt;mso-border-right-alt:solid #282828 .5pt;\n",
    "  padding:0cm 5.4pt 0cm 5.4pt;height:20.0pt'>\n",
    "  <p class=MsoNormal><span style='font-size:17.0pt;font-family:\"Times New Roman\",serif;\n",
    "  mso-fareast-font-family:\"Times New Roman\";color:#343433'>98.75%±3.75</span><span\n",
    "  style='font-size:17.0pt;font-family:\"Times New Roman\",serif;mso-fareast-font-family:\n",
    "  \"Times New Roman\"'><o:p></o:p></span></p>\n",
    "  </td>\n",
    "  <td width=187 valign=top style='width:140.0pt;border-top:none;border-left:\n",
    "  none;border-bottom:solid #282828 1.0pt;border-right:solid #282828 1.0pt;\n",
    "  mso-border-top-alt:solid #282828 .5pt;mso-border-top-alt:solid #282828 .5pt;\n",
    "  mso-border-bottom-alt:solid #282828 .5pt;mso-border-right-alt:solid #282828 .5pt;\n",
    "  padding:0cm 5.4pt 0cm 5.4pt;height:20.0pt'>\n",
    "  <p class=MsoNormal><span style='font-size:17.0pt;font-family:\"Times New Roman\",serif;\n",
    "  mso-fareast-font-family:\"Times New Roman\";color:#343433'>97.32%±5.37</span><span\n",
    "  style='font-size:17.0pt;font-family:\"Times New Roman\",serif;mso-fareast-font-family:\n",
    "  \"Times New Roman\"'><o:p></o:p></span></p>\n",
    "  </td>\n",
    "  <td width=187 valign=top style='width:140.0pt;border-top:none;border-left:\n",
    "  none;border-bottom:solid #282828 1.0pt;border-right:solid #282828 1.0pt;\n",
    "  mso-border-bottom-alt:solid #282828 .5pt;mso-border-right-alt:solid #282828 .5pt;\n",
    "  padding:0cm 5.4pt 0cm 5.4pt;height:20.0pt'>\n",
    "  <p class=MsoNormal><span style='font-size:17.0pt;font-family:\"Times New Roman\",serif;\n",
    "  mso-fareast-font-family:\"Times New Roman\";color:#343433'>97.32%±5.37</span><span\n",
    "  style='font-size:17.0pt;font-family:\"Times New Roman\",serif;mso-fareast-font-family:\n",
    "  \"Times New Roman\"'><o:p></o:p></span></p>\n",
    "  </td>\n",
    "  <td width=195 valign=top style='width:146.0pt;border-top:none;border-left:\n",
    "  none;border-bottom:solid #282828 1.0pt;border-right:solid #282828 1.0pt;\n",
    "  mso-border-bottom-alt:solid #282828 .5pt;mso-border-right-alt:solid #282828 .5pt;\n",
    "  padding:0cm 5.4pt 0cm 5.4pt;height:20.0pt'>\n",
    "  <p class=MsoNormal><span style='font-size:17.0pt;font-family:\"Times New Roman\",serif;\n",
    "  mso-fareast-font-family:\"Times New Roman\";color:#343433'>95.89%±6.29</span><span\n",
    "  style='font-size:17.0pt;font-family:\"Times New Roman\",serif;mso-fareast-font-family:\n",
    "  \"Times New Roman\"'><o:p></o:p></span></p>\n",
    "  </td>\n",
    " </tr>\n",
    " <tr style='mso-yfti-irow:8;height:20.0pt'>\n",
    "  <td width=177 valign=top style='width:133.0pt;border:solid #282828 1.0pt;\n",
    "  border-top:none;mso-border-left-alt:solid #282828 .5pt;mso-border-bottom-alt:\n",
    "  solid #282828 .5pt;mso-border-right-alt:solid #282828 .5pt;padding:0cm 5.4pt 0cm 5.4pt;\n",
    "  height:20.0pt'>\n",
    "  <p class=MsoNormal align=center style='text-align:center'><span class=SpellE><span\n",
    "  style='font-size:17.0pt;font-family:\"Times New Roman\",serif;mso-fareast-font-family:\n",
    "  \"Times New Roman\";color:#343433'>Ecoli</span></span><span style='font-size:\n",
    "  17.0pt;font-family:\"Times New Roman\",serif;mso-fareast-font-family:\"Times New Roman\"'><o:p></o:p></span></p>\n",
    "  </td>\n",
    "  <td width=169 valign=top style='width:127.0pt;border-top:none;border-left:\n",
    "  none;border-bottom:solid #282828 1.0pt;border-right:solid #282828 1.0pt;\n",
    "  mso-border-bottom-alt:solid #282828 .5pt;mso-border-right-alt:solid #282828 .5pt;\n",
    "  padding:0cm 5.4pt 0cm 5.4pt;height:20.0pt'>\n",
    "  <p class=MsoNormal><span style='font-size:17.0pt;font-family:\"Times New Roman\",serif;\n",
    "  mso-fareast-font-family:\"Times New Roman\";color:#343433'>86.87%±5.31</span><span\n",
    "  style='font-size:17.0pt;font-family:\"Times New Roman\",serif;mso-fareast-font-family:\n",
    "  \"Times New Roman\"'><o:p></o:p></span></p>\n",
    "  </td>\n",
    "  <td width=187 valign=top style='width:140.0pt;border-top:none;border-left:\n",
    "  none;border-bottom:solid #282828 1.0pt;border-right:solid #282828 1.0pt;\n",
    "  mso-border-bottom-alt:solid #282828 .5pt;mso-border-right-alt:solid #282828 .5pt;\n",
    "  padding:0cm 5.4pt 0cm 5.4pt;height:20.0pt'>\n",
    "  <p class=MsoNormal><span style='font-size:17.0pt;font-family:\"Times New Roman\",serif;\n",
    "  mso-fareast-font-family:\"Times New Roman\";color:#343433'>89.05%±4.12</span><span\n",
    "  style='font-size:17.0pt;font-family:\"Times New Roman\",serif;mso-fareast-font-family:\n",
    "  \"Times New Roman\"'><o:p></o:p></span></p>\n",
    "  </td>\n",
    "  <td width=187 valign=top style='width:140.0pt;border-top:none;border-left:\n",
    "  none;border-bottom:solid #282828 1.0pt;border-right:solid #282828 1.0pt;\n",
    "  mso-border-bottom-alt:solid #282828 .5pt;mso-border-right-alt:solid #282828 .5pt;\n",
    "  padding:0cm 5.4pt 0cm 5.4pt;height:20.0pt'>\n",
    "  <p class=MsoNormal><span style='font-size:17.0pt;font-family:\"Times New Roman\",serif;\n",
    "  mso-fareast-font-family:\"Times New Roman\";color:#343433'>89.07%±5.00</span><span\n",
    "  style='font-size:17.0pt;font-family:\"Times New Roman\",serif;mso-fareast-font-family:\n",
    "  \"Times New Roman\"'><o:p></o:p></span></p>\n",
    "  </td>\n",
    "  <td width=187 valign=top style='width:140.0pt;border-top:none;border-left:\n",
    "  none;border-bottom:solid #282828 1.0pt;border-right:solid #282828 1.0pt;\n",
    "  mso-border-top-alt:solid #282828 .5pt;mso-border-top-alt:solid #282828 .5pt;\n",
    "  mso-border-bottom-alt:solid #282828 .5pt;mso-border-right-alt:solid #282828 .5pt;\n",
    "  padding:0cm 5.4pt 0cm 5.4pt;height:20.0pt'>\n",
    "  <p class=MsoNormal><span style='font-size:17.0pt;font-family:\"Times New Roman\",serif;\n",
    "  mso-fareast-font-family:\"Times New Roman\";color:#343433'>89.11%±4.71</span><span\n",
    "  style='font-size:17.0pt;font-family:\"Times New Roman\",serif;mso-fareast-font-family:\n",
    "  \"Times New Roman\"'><o:p></o:p></span></p>\n",
    "  </td>\n",
    "  <td width=187 valign=top style='width:140.0pt;border-top:none;border-left:\n",
    "  none;border-bottom:solid #282828 1.0pt;border-right:solid #282828 1.0pt;\n",
    "  mso-border-bottom-alt:solid #282828 .5pt;mso-border-right-alt:solid #282828 .5pt;\n",
    "  padding:0cm 5.4pt 0cm 5.4pt;height:20.0pt'>\n",
    "  <p class=MsoNormal><span style='font-size:17.0pt;font-family:\"Times New Roman\",serif;\n",
    "  mso-fareast-font-family:\"Times New Roman\";color:#343433'>87.25%±6.88</span><span\n",
    "  style='font-size:17.0pt;font-family:\"Times New Roman\",serif;mso-fareast-font-family:\n",
    "  \"Times New Roman\"'><o:p></o:p></span></p>\n",
    "  </td>\n",
    "  <td width=195 valign=top style='width:146.0pt;border-top:none;border-left:\n",
    "  none;border-bottom:solid #282828 1.0pt;border-right:solid #282828 1.0pt;\n",
    "  mso-border-bottom-alt:solid #282828 .5pt;mso-border-right-alt:solid #282828 .5pt;\n",
    "  padding:0cm 5.4pt 0cm 5.4pt;height:20.0pt'>\n",
    "  <p class=MsoNormal><span style='font-size:17.0pt;font-family:\"Times New Roman\",serif;\n",
    "  mso-fareast-font-family:\"Times New Roman\";color:#343433'>87.81%±4.77</span><span\n",
    "  style='font-size:17.0pt;font-family:\"Times New Roman\",serif;mso-fareast-font-family:\n",
    "  \"Times New Roman\"'><o:p></o:p></span></p>\n",
    "  </td>\n",
    " </tr>\n",
    " <tr style='mso-yfti-irow:9;height:20.0pt'>\n",
    "  <td width=177 valign=top style='width:133.0pt;border:solid #282828 1.0pt;\n",
    "  border-top:none;mso-border-left-alt:solid #282828 .5pt;mso-border-bottom-alt:\n",
    "  solid #282828 .5pt;mso-border-right-alt:solid #282828 .5pt;padding:0cm 5.4pt 0cm 5.4pt;\n",
    "  height:20.0pt'>\n",
    "  <p class=MsoNormal><span style='font-size:17.0pt;font-family:\"Times New Roman\",serif;\n",
    "  mso-fareast-font-family:\"Times New Roman\";color:#343433'>German</span><span\n",
    "  style='font-size:17.0pt;font-family:\"Times New Roman\",serif;mso-fareast-font-family:\n",
    "  \"Times New Roman\"'><o:p></o:p></span></p>\n",
    "  </td>\n",
    "  <td width=169 valign=top style='width:127.0pt;border-top:none;border-left:\n",
    "  none;border-bottom:solid #282828 1.0pt;border-right:solid #282828 1.0pt;\n",
    "  mso-border-bottom-alt:solid #282828 .5pt;mso-border-right-alt:solid #282828 .5pt;\n",
    "  padding:0cm 5.4pt 0cm 5.4pt;height:20.0pt'>\n",
    "  <p class=MsoNormal><span style='font-size:17.0pt;font-family:\"Times New Roman\",serif;\n",
    "  mso-fareast-font-family:\"Times New Roman\";color:#343433'>79.00%±4.22</span><span\n",
    "  style='font-size:17.0pt;font-family:\"Times New Roman\",serif;mso-fareast-font-family:\n",
    "  \"Times New Roman\"'><o:p></o:p></span></p>\n",
    "  </td>\n",
    "  <td width=187 valign=top style='width:140.0pt;border-top:none;border-left:\n",
    "  none;border-bottom:solid #282828 1.0pt;border-right:solid #282828 1.0pt;\n",
    "  mso-border-bottom-alt:solid #282828 .5pt;mso-border-right-alt:solid #282828 .5pt;\n",
    "  padding:0cm 5.4pt 0cm 5.4pt;height:20.0pt'>\n",
    "  <p class=MsoNormal><span style='font-size:17.0pt;font-family:\"Times New Roman\",serif;\n",
    "  mso-fareast-font-family:\"Times New Roman\";color:#343433'>77.40%±4. 13</span><span\n",
    "  style='font-size:17.0pt;font-family:\"Times New Roman\",serif;mso-fareast-font-family:\n",
    "  \"Times New Roman\"'><o:p></o:p></span></p>\n",
    "  </td>\n",
    "  <td width=187 valign=top style='width:140.0pt;border-top:none;border-left:\n",
    "  none;border-bottom:solid #282828 1.0pt;border-right:solid #282828 1.0pt;\n",
    "  mso-border-bottom-alt:solid #282828 .5pt;mso-border-right-alt:solid #282828 .5pt;\n",
    "  padding:0cm 5.4pt 0cm 5.4pt;height:20.0pt'>\n",
    "  <p class=MsoNormal><span style='font-size:17.0pt;font-family:\"Times New Roman\",serif;\n",
    "  mso-fareast-font-family:\"Times New Roman\";color:#343433'>76.40%±4.48</span><span\n",
    "  style='font-size:17.0pt;font-family:\"Times New Roman\",serif;mso-fareast-font-family:\n",
    "  \"Times New Roman\"'><o:p></o:p></span></p>\n",
    "  </td>\n",
    "  <td width=187 valign=top style='width:140.0pt;border-top:none;border-left:\n",
    "  none;border-bottom:solid #282828 1.0pt;border-right:solid #282828 1.0pt;\n",
    "  mso-border-top-alt:solid #282828 .5pt;mso-border-top-alt:solid #282828 .5pt;\n",
    "  mso-border-bottom-alt:solid #282828 .5pt;mso-border-right-alt:solid #282828 .5pt;\n",
    "  padding:0cm 5.4pt 0cm 5.4pt;height:20.0pt'>\n",
    "  <p class=MsoNormal><span style='font-size:17.0pt;font-family:\"Times New Roman\",serif;\n",
    "  mso-fareast-font-family:\"Times New Roman\";color:#343433'>75.80%±4.17</span><span\n",
    "  style='font-size:17.0pt;font-family:\"Times New Roman\",serif;mso-fareast-font-family:\n",
    "  \"Times New Roman\"'><o:p></o:p></span></p>\n",
    "  </td>\n",
    "  <td width=187 valign=top style='width:140.0pt;border-top:none;border-left:\n",
    "  none;border-bottom:solid #282828 1.0pt;border-right:solid #282828 1.0pt;\n",
    "  mso-border-bottom-alt:solid #282828 .5pt;mso-border-right-alt:solid #282828 .5pt;\n",
    "  padding:0cm 5.4pt 0cm 5.4pt;height:20.0pt'>\n",
    "  <p class=MsoNormal><span style='font-size:17.0pt;font-family:\"Times New Roman\",serif;\n",
    "  mso-fareast-font-family:\"Times New Roman\";color:#343433'>76.70%±5.12</span><span\n",
    "  style='font-size:17.0pt;font-family:\"Times New Roman\",serif;mso-fareast-font-family:\n",
    "  \"Times New Roman\"'><o:p></o:p></span></p>\n",
    "  </td>\n",
    "  <td width=195 valign=top style='width:146.0pt;border-top:none;border-left:\n",
    "  none;border-bottom:solid #282828 1.0pt;border-right:solid #282828 1.0pt;\n",
    "  mso-border-bottom-alt:solid #282828 .5pt;mso-border-right-alt:solid #282828 .5pt;\n",
    "  padding:0cm 5.4pt 0cm 5.4pt;height:20.0pt'>\n",
    "  <p class=MsoNormal><span style='font-size:17.0pt;font-family:\"Times New Roman\",serif;\n",
    "  mso-fareast-font-family:\"Times New Roman\";color:#343433'>77.20%±3.99</span><span\n",
    "  style='font-size:17.0pt;font-family:\"Times New Roman\",serif;mso-fareast-font-family:\n",
    "  \"Times New Roman\"'><o:p></o:p></span></p>\n",
    "  </td>\n",
    " </tr>\n",
    " <tr style='mso-yfti-irow:10;height:20.0pt'>\n",
    "  <td width=177 valign=top style='width:133.0pt;border:solid #282828 1.0pt;\n",
    "  border-top:none;mso-border-left-alt:solid #282828 .5pt;mso-border-bottom-alt:\n",
    "  solid #282828 .5pt;mso-border-right-alt:solid #282828 .5pt;padding:0cm 5.4pt 0cm 5.4pt;\n",
    "  height:20.0pt'>\n",
    "  <p class=MsoNormal><span style='font-size:17.0pt;font-family:\"Times New Roman\",serif;\n",
    "  mso-fareast-font-family:\"Times New Roman\";color:#343433'>Heart</span><span\n",
    "  style='font-size:17.0pt;font-family:\"Times New Roman\",serif;mso-fareast-font-family:\n",
    "  \"Times New Roman\"'><o:p></o:p></span></p>\n",
    "  </td>\n",
    "  <td width=169 valign=top style='width:127.0pt;border-top:none;border-left:\n",
    "  none;border-bottom:solid #282828 1.0pt;border-right:solid #282828 1.0pt;\n",
    "  mso-border-bottom-alt:solid #282828 .5pt;mso-border-right-alt:solid #282828 .5pt;\n",
    "  padding:0cm 5.4pt 0cm 5.4pt;height:20.0pt'>\n",
    "  <p class=MsoNormal><span style='font-size:17.0pt;font-family:\"Times New Roman\",serif;\n",
    "  mso-fareast-font-family:\"Times New Roman\";color:#343433'>79.26%±5.29</span><span\n",
    "  style='font-size:17.0pt;font-family:\"Times New Roman\",serif;mso-fareast-font-family:\n",
    "  \"Times New Roman\"'><o:p></o:p></span></p>\n",
    "  </td>\n",
    "  <td width=187 valign=top style='width:140.0pt;border-top:none;border-left:\n",
    "  none;border-bottom:solid #282828 1.0pt;border-right:solid #282828 1.0pt;\n",
    "  mso-border-bottom-alt:solid #282828 .5pt;mso-border-right-alt:solid #282828 .5pt;\n",
    "  padding:0cm 5.4pt 0cm 5.4pt;height:20.0pt'>\n",
    "  <p class=MsoNormal><span style='font-size:17.0pt;font-family:\"Times New Roman\",serif;\n",
    "  mso-fareast-font-family:\"Times New Roman\";color:#343433'>84.07%±5.98</span><span\n",
    "  style='font-size:17.0pt;font-family:\"Times New Roman\",serif;mso-fareast-font-family:\n",
    "  \"Times New Roman\"'><o:p></o:p></span></p>\n",
    "  </td>\n",
    "  <td width=187 valign=top style='width:140.0pt;border-top:none;border-left:\n",
    "  none;border-bottom:solid #282828 1.0pt;border-right:solid #282828 1.0pt;\n",
    "  mso-border-bottom-alt:solid #282828 .5pt;mso-border-right-alt:solid #282828 .5pt;\n",
    "  padding:0cm 5.4pt 0cm 5.4pt;height:20.0pt'>\n",
    "  <p class=MsoNormal><span style='font-size:17.0pt;font-family:\"Times New Roman\",serif;\n",
    "  mso-fareast-font-family:\"Times New Roman\";color:#343433'>83.33%±5.56</span><span\n",
    "  style='font-size:17.0pt;font-family:\"Times New Roman\",serif;mso-fareast-font-family:\n",
    "  \"Times New Roman\"'><o:p></o:p></span></p>\n",
    "  </td>\n",
    "  <td width=187 valign=top style='width:140.0pt;border-top:none;border-left:\n",
    "  none;border-bottom:solid #282828 1.0pt;border-right:solid #282828 1.0pt;\n",
    "  mso-border-top-alt:solid #282828 .5pt;mso-border-top-alt:solid #282828 .5pt;\n",
    "  mso-border-bottom-alt:solid #282828 .5pt;mso-border-right-alt:solid #282828 .5pt;\n",
    "  padding:0cm 5.4pt 0cm 5.4pt;height:20.0pt'>\n",
    "  <p class=MsoNormal><span style='font-size:17.0pt;font-family:\"Times New Roman\",serif;\n",
    "  mso-fareast-font-family:\"Times New Roman\";color:#343433'>84.44%±5 .19</span><span\n",
    "  style='font-size:17.0pt;font-family:\"Times New Roman\",serif;mso-fareast-font-family:\n",
    "  \"Times New Roman\"'><o:p></o:p></span></p>\n",
    "  </td>\n",
    "  <td width=187 valign=top style='width:140.0pt;border-top:none;border-left:\n",
    "  none;border-bottom:solid #282828 1.0pt;border-right:solid #282828 1.0pt;\n",
    "  mso-border-bottom-alt:solid #282828 .5pt;mso-border-right-alt:solid #282828 .5pt;\n",
    "  padding:0cm 5.4pt 0cm 5.4pt;height:20.0pt'>\n",
    "  <p class=MsoNormal><span style='font-size:17.0pt;font-family:\"Times New Roman\",serif;\n",
    "  mso-fareast-font-family:\"Times New Roman\";color:#343433'>81.85%±7.67</span><span\n",
    "  style='font-size:17.0pt;font-family:\"Times New Roman\",serif;mso-fareast-font-family:\n",
    "  \"Times New Roman\"'><o:p></o:p></span></p>\n",
    "  </td>\n",
    "  <td width=195 valign=top style='width:146.0pt;border-top:none;border-left:\n",
    "  none;border-bottom:solid #282828 1.0pt;border-right:solid #282828 1.0pt;\n",
    "  mso-border-bottom-alt:solid #282828 .5pt;mso-border-right-alt:solid #282828 .5pt;\n",
    "  padding:0cm 5.4pt 0cm 5.4pt;height:20.0pt'>\n",
    "  <p class=MsoNormal><span style='font-size:17.0pt;font-family:\"Times New Roman\",serif;\n",
    "  mso-fareast-font-family:\"Times New Roman\";color:#343433'>83.70%±5.29</span><span\n",
    "  style='font-size:17.0pt;font-family:\"Times New Roman\",serif;mso-fareast-font-family:\n",
    "  \"Times New Roman\"'><o:p></o:p></span></p>\n",
    "  </td>\n",
    " </tr>\n",
    " <tr style='mso-yfti-irow:11;height:20.0pt'>\n",
    "  <td width=177 valign=top style='width:133.0pt;border:solid #282828 1.0pt;\n",
    "  border-top:none;mso-border-left-alt:solid #282828 .5pt;mso-border-bottom-alt:\n",
    "  solid #282828 .5pt;mso-border-right-alt:solid #282828 .5pt;padding:0cm 5.4pt 0cm 5.4pt;\n",
    "  height:20.0pt'>\n",
    "  <p class=MsoNormal><span style='font-size:17.0pt;font-family:\"Times New Roman\",serif;\n",
    "  mso-fareast-font-family:\"Times New Roman\";color:#343433'>Hepatitis</span><span\n",
    "  style='font-size:17.0pt;font-family:\"Times New Roman\",serif;mso-fareast-font-family:\n",
    "  \"Times New Roman\"'><o:p></o:p></span></p>\n",
    "  </td>\n",
    "  <td width=169 valign=top style='width:127.0pt;border-top:none;border-left:\n",
    "  none;border-bottom:solid #282828 1.0pt;border-right:solid #282828 1.0pt;\n",
    "  mso-border-bottom-alt:solid #282828 .5pt;mso-border-right-alt:solid #282828 .5pt;\n",
    "  padding:0cm 5.4pt 0cm 5.4pt;height:20.0pt'>\n",
    "  <p class=MsoNormal><span style='font-size:17.0pt;font-family:\"Times New Roman\",serif;\n",
    "  mso-fareast-font-family:\"Times New Roman\";color:#343433'>59.21%±8.28</span><span\n",
    "  style='font-size:17.0pt;font-family:\"Times New Roman\",serif;mso-fareast-font-family:\n",
    "  \"Times New Roman\"'><o:p></o:p></span></p>\n",
    "  </td>\n",
    "  <td width=187 valign=top style='width:140.0pt;border-top:none;border-left:\n",
    "  none;border-bottom:solid #282828 1.0pt;border-right:solid #282828 1.0pt;\n",
    "  mso-border-bottom-alt:solid #282828 .5pt;mso-border-right-alt:solid #282828 .5pt;\n",
    "  padding:0cm 5.4pt 0cm 5.4pt;height:20.0pt'>\n",
    "  <p class=MsoNormal><span style='font-size:17.0pt;font-family:\"Times New Roman\",serif;\n",
    "  mso-fareast-font-family:\"Times New Roman\";color:#343433'>67.00%±6.56</span><span\n",
    "  style='font-size:17.0pt;font-family:\"Times New Roman\",serif;mso-fareast-font-family:\n",
    "  \"Times New Roman\"'><o:p></o:p></span></p>\n",
    "  </td>\n",
    "  <td width=187 valign=top style='width:140.0pt;border-top:none;border-left:\n",
    "  none;border-bottom:solid #282828 1.0pt;border-right:solid #282828 1.0pt;\n",
    "  mso-border-bottom-alt:solid #282828 .5pt;mso-border-right-alt:solid #282828 .5pt;\n",
    "  padding:0cm 5.4pt 0cm 5.4pt;height:20.0pt'>\n",
    "  <p class=MsoNormal><span style='font-size:17.0pt;font-family:\"Times New Roman\",serif;\n",
    "  mso-fareast-font-family:\"Times New Roman\";color:#343433'>65.54%±12.35</span><span\n",
    "  style='font-size:17.0pt;font-family:\"Times New Roman\",serif;mso-fareast-font-family:\n",
    "  \"Times New Roman\"'><o:p></o:p></span></p>\n",
    "  </td>\n",
    "  <td width=187 valign=top style='width:140.0pt;border-top:none;border-left:\n",
    "  none;border-bottom:solid #282828 1.0pt;border-right:solid #282828 1.0pt;\n",
    "  mso-border-top-alt:solid #282828 .5pt;mso-border-top-alt:solid #282828 .5pt;\n",
    "  mso-border-bottom-alt:solid #282828 .5pt;mso-border-right-alt:solid #282828 .5pt;\n",
    "  padding:0cm 5.4pt 0cm 5.4pt;height:20.0pt'>\n",
    "  <p class=MsoNormal><span style='font-size:17.0pt;font-family:\"Times New Roman\",serif;\n",
    "  mso-fareast-font-family:\"Times New Roman\";color:#343433'>61.83%±12.68</span><span\n",
    "  style='font-size:17.0pt;font-family:\"Times New Roman\",serif;mso-fareast-font-family:\n",
    "  \"Times New Roman\"'><o:p></o:p></span></p>\n",
    "  </td>\n",
    "  <td width=187 valign=top style='width:140.0pt;border-top:none;border-left:\n",
    "  none;border-bottom:solid #282828 1.0pt;border-right:solid #282828 1.0pt;\n",
    "  mso-border-bottom-alt:solid #282828 .5pt;mso-border-right-alt:solid #282828 .5pt;\n",
    "  padding:0cm 5.4pt 0cm 5.4pt;height:20.0pt'>\n",
    "  <p class=MsoNormal><span style='font-size:17.0pt;font-family:\"Times New Roman\",serif;\n",
    "  mso-fareast-font-family:\"Times New Roman\";color:#343433'>56.58%±11.90</span><span\n",
    "  style='font-size:17.0pt;font-family:\"Times New Roman\",serif;mso-fareast-font-family:\n",
    "  \"Times New Roman\"'><o:p></o:p></span></p>\n",
    "  </td>\n",
    "  <td width=195 valign=top style='width:146.0pt;border-top:none;border-left:\n",
    "  none;border-bottom:solid #282828 1.0pt;border-right:solid #282828 1.0pt;\n",
    "  mso-border-bottom-alt:solid #282828 .5pt;mso-border-right-alt:solid #282828 .5pt;\n",
    "  padding:0cm 5.4pt 0cm 5.4pt;height:20.0pt'>\n",
    "  <p class=MsoNormal><span style='font-size:17.0pt;font-family:\"Times New Roman\",serif;\n",
    "  mso-fareast-font-family:\"Times New Roman\";color:#343433'>64.96%±13.08</span><span\n",
    "  style='font-size:17.0pt;font-family:\"Times New Roman\",serif;mso-fareast-font-family:\n",
    "  \"Times New Roman\"'><o:p></o:p></span></p>\n",
    "  </td>\n",
    " </tr>\n",
    " <tr style='mso-yfti-irow:12;height:20.0pt'>\n",
    "  <td width=177 valign=top style='width:133.0pt;border:solid #282828 1.0pt;\n",
    "  border-top:none;mso-border-left-alt:solid #282828 .5pt;mso-border-bottom-alt:\n",
    "  solid #282828 .5pt;mso-border-right-alt:solid #282828 .5pt;padding:0cm 5.4pt 0cm 5.4pt;\n",
    "  height:20.0pt'>\n",
    "  <p class=MsoNormal><span style='font-size:17.0pt;font-family:\"Times New Roman\",serif;\n",
    "  mso-fareast-font-family:\"Times New Roman\";color:#343433'>Ionosphere</span><span\n",
    "  style='font-size:17.0pt;font-family:\"Times New Roman\",serif;mso-fareast-font-family:\n",
    "  \"Times New Roman\"'><o:p></o:p></span></p>\n",
    "  </td>\n",
    "  <td width=169 valign=top style='width:127.0pt;border-top:none;border-left:\n",
    "  none;border-bottom:solid #282828 1.0pt;border-right:solid #282828 1.0pt;\n",
    "  mso-border-bottom-alt:solid #282828 .5pt;mso-border-right-alt:solid #282828 .5pt;\n",
    "  padding:0cm 5.4pt 0cm 5.4pt;height:20.0pt'>\n",
    "  <p class=MsoNormal><span style='font-size:17.0pt;font-family:\"Times New Roman\",serif;\n",
    "  mso-fareast-font-family:\"Times New Roman\";color:#343433'>92.56%±2.69</span><span\n",
    "  style='font-size:17.0pt;font-family:\"Times New Roman\",serif;mso-fareast-font-family:\n",
    "  \"Times New Roman\"'><o:p></o:p></span></p>\n",
    "  </td>\n",
    "  <td width=187 valign=top style='width:140.0pt;border-top:none;border-left:\n",
    "  none;border-bottom:solid #282828 1.0pt;border-right:solid #282828 1.0pt;\n",
    "  mso-border-bottom-alt:solid #282828 .5pt;mso-border-right-alt:solid #282828 .5pt;\n",
    "  padding:0cm 5.4pt 0cm 5.4pt;height:20.0pt'>\n",
    "  <p class=MsoNormal><span style='font-size:17.0pt;font-family:\"Times New Roman\",serif;\n",
    "  mso-fareast-font-family:\"Times New Roman\";color:#343433'>92.59%±3.17</span><span\n",
    "  style='font-size:17.0pt;font-family:\"Times New Roman\",serif;mso-fareast-font-family:\n",
    "  \"Times New Roman\"'><o:p></o:p></span></p>\n",
    "  </td>\n",
    "  <td width=187 valign=top style='width:140.0pt;border-top:none;border-left:\n",
    "  none;border-bottom:solid #282828 1.0pt;border-right:solid #282828 1.0pt;\n",
    "  mso-border-bottom-alt:solid #282828 .5pt;mso-border-right-alt:solid #282828 .5pt;\n",
    "  padding:0cm 5.4pt 0cm 5.4pt;height:20.0pt'>\n",
    "  <p class=MsoNormal><span style='font-size:17.0pt;font-family:\"Times New Roman\",serif;\n",
    "  mso-fareast-font-family:\"Times New Roman\";color:#343433'>93.44%±2.88</span><span\n",
    "  style='font-size:17.0pt;font-family:\"Times New Roman\",serif;mso-fareast-font-family:\n",
    "  \"Times New Roman\"'><o:p></o:p></span></p>\n",
    "  </td>\n",
    "  <td width=187 valign=top style='width:140.0pt;border-top:none;border-left:\n",
    "  none;border-bottom:solid #282828 1.0pt;border-right:solid #282828 1.0pt;\n",
    "  mso-border-top-alt:solid #282828 .5pt;mso-border-top-alt:solid #282828 .5pt;\n",
    "  mso-border-bottom-alt:solid #282828 .5pt;mso-border-right-alt:solid #282828 .5pt;\n",
    "  padding:0cm 5.4pt 0cm 5.4pt;height:20.0pt'>\n",
    "  <p class=MsoNormal><span style='font-size:17.0pt;font-family:\"Times New Roman\",serif;\n",
    "  mso-fareast-font-family:\"Times New Roman\";color:#343433'>93.16%±2.91</span><span\n",
    "  style='font-size:17.0pt;font-family:\"Times New Roman\",serif;mso-fareast-font-family:\n",
    "  \"Times New Roman\"'><o:p></o:p></span></p>\n",
    "  </td>\n",
    "  <td width=187 valign=top style='width:140.0pt;border-top:none;border-left:\n",
    "  none;border-bottom:solid #282828 1.0pt;border-right:solid #282828 1.0pt;\n",
    "  mso-border-bottom-alt:solid #282828 .5pt;mso-border-right-alt:solid #282828 .5pt;\n",
    "  padding:0cm 5.4pt 0cm 5.4pt;height:20.0pt'>\n",
    "  <p class=MsoNormal><span style='font-size:17.0pt;font-family:\"Times New Roman\",serif;\n",
    "  mso-fareast-font-family:\"Times New Roman\";color:#343433'>93.72%±2.51</span><span\n",
    "  style='font-size:17.0pt;font-family:\"Times New Roman\",serif;mso-fareast-font-family:\n",
    "  \"Times New Roman\"'><o:p></o:p></span></p>\n",
    "  </td>\n",
    "  <td width=195 valign=top style='width:146.0pt;border-top:none;border-left:\n",
    "  none;border-bottom:solid #282828 1.0pt;border-right:solid #282828 1.0pt;\n",
    "  mso-border-bottom-alt:solid #282828 .5pt;mso-border-right-alt:solid #282828 .5pt;\n",
    "  padding:0cm 5.4pt 0cm 5.4pt;height:20.0pt'>\n",
    "  <p class=MsoNormal><span style='font-size:17.0pt;font-family:\"Times New Roman\",serif;\n",
    "  mso-fareast-font-family:\"Times New Roman\";color:#343433'>92.85%±3.02</span><span\n",
    "  style='font-size:17.0pt;font-family:\"Times New Roman\",serif;mso-fareast-font-family:\n",
    "  \"Times New Roman\"'><o:p></o:p></span></p>\n",
    "  </td>\n",
    " </tr>\n",
    " <tr style='mso-yfti-irow:13;height:20.0pt'>\n",
    "  <td width=177 valign=top style='width:133.0pt;border:solid #282828 1.0pt;\n",
    "  border-top:none;mso-border-left-alt:solid #282828 .5pt;mso-border-bottom-alt:\n",
    "  solid #282828 .5pt;mso-border-right-alt:solid #282828 .5pt;padding:0cm 5.4pt 0cm 5.4pt;\n",
    "  height:20.0pt'>\n",
    "  <p class=MsoNormal align=center style='text-align:center'><span\n",
    "  style='font-size:17.0pt;font-family:\"Times New Roman\",serif;mso-fareast-font-family:\n",
    "  \"Times New Roman\";color:#343433'>Iris</span><span style='font-size:17.0pt;\n",
    "  font-family:\"Times New Roman\",serif;mso-fareast-font-family:\"Times New Roman\"'><o:p></o:p></span></p>\n",
    "  </td>\n",
    "  <td width=169 valign=top style='width:127.0pt;border-top:none;border-left:\n",
    "  none;border-bottom:solid #282828 1.0pt;border-right:solid #282828 1.0pt;\n",
    "  mso-border-bottom-alt:solid #282828 .5pt;mso-border-right-alt:solid #282828 .5pt;\n",
    "  padding:0cm 5.4pt 0cm 5.4pt;height:20.0pt'>\n",
    "  <p class=MsoNormal><span style='font-size:17.0pt;font-family:\"Times New Roman\",serif;\n",
    "  mso-fareast-font-family:\"Times New Roman\";color:#343433'>92.67%±6.29</span><span\n",
    "  style='font-size:17.0pt;font-family:\"Times New Roman\",serif;mso-fareast-font-family:\n",
    "  \"Times New Roman\"'><o:p></o:p></span></p>\n",
    "  </td>\n",
    "  <td width=187 valign=top style='width:140.0pt;border-top:none;border-left:\n",
    "  none;border-bottom:solid #282828 1.0pt;border-right:solid #282828 1.0pt;\n",
    "  mso-border-bottom-alt:solid #282828 .5pt;mso-border-right-alt:solid #282828 .5pt;\n",
    "  padding:0cm 5.4pt 0cm 5.4pt;height:20.0pt'>\n",
    "  <p class=MsoNormal><span style='font-size:17.0pt;font-family:\"Times New Roman\",serif;\n",
    "  mso-fareast-font-family:\"Times New Roman\";color:#343433'>94.00%±4.67</span><span\n",
    "  style='font-size:17.0pt;font-family:\"Times New Roman\",serif;mso-fareast-font-family:\n",
    "  \"Times New Roman\"'><o:p></o:p></span></p>\n",
    "  </td>\n",
    "  <td width=187 valign=top style='width:140.0pt;border-top:none;border-left:\n",
    "  none;border-bottom:solid #282828 1.0pt;border-right:solid #282828 1.0pt;\n",
    "  mso-border-bottom-alt:solid #282828 .5pt;mso-border-right-alt:solid #282828 .5pt;\n",
    "  padding:0cm 5.4pt 0cm 5.4pt;height:20.0pt'>\n",
    "  <p class=MsoNormal><span style='font-size:17.0pt;font-family:\"Times New Roman\",serif;\n",
    "  mso-fareast-font-family:\"Times New Roman\";color:#343433'>94.67%±4.99</span><span\n",
    "  style='font-size:17.0pt;font-family:\"Times New Roman\",serif;mso-fareast-font-family:\n",
    "  \"Times New Roman\"'><o:p></o:p></span></p>\n",
    "  </td>\n",
    "  <td width=187 valign=top style='width:140.0pt;border-top:none;border-left:\n",
    "  none;border-bottom:solid #282828 1.0pt;border-right:solid #282828 1.0pt;\n",
    "  mso-border-top-alt:solid #282828 .5pt;mso-border-top-alt:solid #282828 .5pt;\n",
    "  mso-border-bottom-alt:solid #282828 .5pt;mso-border-right-alt:solid #282828 .5pt;\n",
    "  padding:0cm 5.4pt 0cm 5.4pt;height:20.0pt'>\n",
    "  <p class=MsoNormal><span style='font-size:17.0pt;font-family:\"Times New Roman\",serif;\n",
    "  mso-fareast-font-family:\"Times New Roman\";color:#343433'>92.67%±6.29</span><span\n",
    "  style='font-size:17.0pt;font-family:\"Times New Roman\",serif;mso-fareast-font-family:\n",
    "  \"Times New Roman\"'><o:p></o:p></span></p>\n",
    "  </td>\n",
    "  <td width=187 valign=top style='width:140.0pt;border-top:none;border-left:\n",
    "  none;border-bottom:solid #282828 1.0pt;border-right:solid #282828 1.0pt;\n",
    "  mso-border-bottom-alt:solid #282828 .5pt;mso-border-right-alt:solid #282828 .5pt;\n",
    "  padding:0cm 5.4pt 0cm 5.4pt;height:20.0pt'>\n",
    "  <p class=MsoNormal><span style='font-size:17.0pt;font-family:\"Times New Roman\",serif;\n",
    "  mso-fareast-font-family:\"Times New Roman\";color:#343433'>94.67%±4.99</span><span\n",
    "  style='font-size:17.0pt;font-family:\"Times New Roman\",serif;mso-fareast-font-family:\n",
    "  \"Times New Roman\"'><o:p></o:p></span></p>\n",
    "  </td>\n",
    "  <td width=195 valign=top style='width:146.0pt;border-top:none;border-left:\n",
    "  none;border-bottom:solid #282828 1.0pt;border-right:solid #282828 1.0pt;\n",
    "  mso-border-bottom-alt:solid #282828 .5pt;mso-border-right-alt:solid #282828 .5pt;\n",
    "  padding:0cm 5.4pt 0cm 5.4pt;height:20.0pt'>\n",
    "  <p class=MsoNormal><span style='font-size:17.0pt;font-family:\"Times New Roman\",serif;\n",
    "  mso-fareast-font-family:\"Times New Roman\";color:#343433'>94.67%±4.99</span><span\n",
    "  style='font-size:17.0pt;font-family:\"Times New Roman\",serif;mso-fareast-font-family:\n",
    "  \"Times New Roman\"'><o:p></o:p></span></p>\n",
    "  </td>\n",
    " </tr>\n",
    " <tr style='mso-yfti-irow:14;height:19.0pt'>\n",
    "  <td width=177 valign=top style='width:133.0pt;border:solid #282828 1.0pt;\n",
    "  border-top:none;mso-border-left-alt:solid #282828 .5pt;mso-border-bottom-alt:\n",
    "  solid #282828 .5pt;mso-border-right-alt:solid #282828 .5pt;padding:0cm 5.4pt 0cm 5.4pt;\n",
    "  height:19.0pt'>\n",
    "  <p class=MsoNormal align=center style='text-align:center'><span\n",
    "  style='font-size:17.0pt;font-family:\"Times New Roman\",serif;mso-fareast-font-family:\n",
    "  \"Times New Roman\";color:#343433'>Liver</span><span style='font-size:17.0pt;\n",
    "  font-family:\"Times New Roman\",serif;mso-fareast-font-family:\"Times New Roman\"'><o:p></o:p></span></p>\n",
    "  </td>\n",
    "  <td width=169 valign=top style='width:127.0pt;border-top:none;border-left:\n",
    "  none;border-bottom:solid #282828 1.0pt;border-right:solid #282828 1.0pt;\n",
    "  mso-border-bottom-alt:solid #282828 .5pt;mso-border-right-alt:solid #282828 .5pt;\n",
    "  padding:0cm 5.4pt 0cm 5.4pt;height:19.0pt'>\n",
    "  <p class=MsoNormal><span style='font-size:17.0pt;font-family:\"Times New Roman\",serif;\n",
    "  mso-fareast-font-family:\"Times New Roman\";color:#343433'>68.65%±4.69</span><span\n",
    "  style='font-size:17.0pt;font-family:\"Times New Roman\",serif;mso-fareast-font-family:\n",
    "  \"Times New Roman\"'><o:p></o:p></span></p>\n",
    "  </td>\n",
    "  <td width=187 valign=top style='width:140.0pt;border-top:none;border-left:\n",
    "  none;border-bottom:solid #282828 1.0pt;border-right:solid #282828 1.0pt;\n",
    "  mso-border-bottom-alt:solid #282828 .5pt;mso-border-right-alt:solid #282828 .5pt;\n",
    "  padding:0cm 5.4pt 0cm 5.4pt;height:19.0pt'>\n",
    "  <p class=MsoNormal><span style='font-size:17.0pt;font-family:\"Times New Roman\",serif;\n",
    "  mso-fareast-font-family:\"Times New Roman\";color:#343433'>68.11%±6.12</span><span\n",
    "  style='font-size:17.0pt;font-family:\"Times New Roman\",serif;mso-fareast-font-family:\n",
    "  \"Times New Roman\"'><o:p></o:p></span></p>\n",
    "  </td>\n",
    "  <td width=187 valign=top style='width:140.0pt;border-top:none;border-left:\n",
    "  none;border-bottom:solid #282828 1.0pt;border-right:solid #282828 1.0pt;\n",
    "  mso-border-bottom-alt:solid #282828 .5pt;mso-border-right-alt:solid #282828 .5pt;\n",
    "  padding:0cm 5.4pt 0cm 5.4pt;height:19.0pt'>\n",
    "  <p class=MsoNormal><span style='font-size:17.0pt;font-family:\"Times New Roman\",serif;\n",
    "  mso-fareast-font-family:\"Times New Roman\";color:#343433'>67.76%±5.03</span><span\n",
    "  style='font-size:17.0pt;font-family:\"Times New Roman\",serif;mso-fareast-font-family:\n",
    "  \"Times New Roman\"'><o:p></o:p></span></p>\n",
    "  </td>\n",
    "  <td width=187 valign=top style='width:140.0pt;border-top:none;border-left:\n",
    "  none;border-bottom:solid #282828 1.0pt;border-right:solid #282828 1.0pt;\n",
    "  mso-border-top-alt:solid #282828 .5pt;mso-border-top-alt:solid #282828 .5pt;\n",
    "  mso-border-bottom-alt:solid #282828 .5pt;mso-border-right-alt:solid #282828 .5pt;\n",
    "  padding:0cm 5.4pt 0cm 5.4pt;height:19.0pt'>\n",
    "  <p class=MsoNormal><span style='font-size:17.0pt;font-family:\"Times New Roman\",serif;\n",
    "  mso-fareast-font-family:\"Times New Roman\";color:#343433'>67.58%±4.07</span><span\n",
    "  style='font-size:17.0pt;font-family:\"Times New Roman\",serif;mso-fareast-font-family:\n",
    "  \"Times New Roman\"'><o:p></o:p></span></p>\n",
    "  </td>\n",
    "  <td width=187 valign=top style='width:140.0pt;border-top:none;border-left:\n",
    "  none;border-bottom:solid #282828 1.0pt;border-right:solid #282828 1.0pt;\n",
    "  mso-border-bottom-alt:solid #282828 .5pt;mso-border-right-alt:solid #282828 .5pt;\n",
    "  padding:0cm 5.4pt 0cm 5.4pt;height:19.0pt'>\n",
    "  <p class=MsoNormal><span style='font-size:17.0pt;font-family:\"Times New Roman\",serif;\n",
    "  mso-fareast-font-family:\"Times New Roman\";color:#343433'>69.33%±5.26</span><span\n",
    "  style='font-size:17.0pt;font-family:\"Times New Roman\",serif;mso-fareast-font-family:\n",
    "  \"Times New Roman\"'><o:p></o:p></span></p>\n",
    "  </td>\n",
    "  <td width=195 valign=top style='width:146.0pt;border-top:none;border-left:\n",
    "  none;border-bottom:solid #282828 1.0pt;border-right:solid #282828 1.0pt;\n",
    "  mso-border-bottom-alt:solid #282828 .5pt;mso-border-right-alt:solid #282828 .5pt;\n",
    "  padding:0cm 5.4pt 0cm 5.4pt;height:19.0pt'>\n",
    "  <p class=MsoNormal><span style='font-size:17.0pt;font-family:\"Times New Roman\",serif;\n",
    "  mso-fareast-font-family:\"Times New Roman\";color:#343433'>70.16%±4.42</span><span\n",
    "  style='font-size:17.0pt;font-family:\"Times New Roman\",serif;mso-fareast-font-family:\n",
    "  \"Times New Roman\"'><o:p></o:p></span></p>\n",
    "  </td>\n",
    " </tr>\n",
    " <tr style='mso-yfti-irow:15;height:20.0pt'>\n",
    "  <td width=177 valign=top style='width:133.0pt;border:solid #282828 1.0pt;\n",
    "  border-top:none;mso-border-left-alt:solid #282828 .5pt;mso-border-bottom-alt:\n",
    "  solid #282828 .5pt;mso-border-right-alt:solid #282828 .5pt;padding:0cm 5.4pt 0cm 5.4pt;\n",
    "  height:20.0pt'>\n",
    "  <p class=MsoNormal><span style='font-size:17.0pt;font-family:\"Times New Roman\",serif;\n",
    "  mso-fareast-font-family:\"Times New Roman\";color:#343433'>Magic04</span><span\n",
    "  style='font-size:17.0pt;font-family:\"Times New Roman\",serif;mso-fareast-font-family:\n",
    "  \"Times New Roman\"'><o:p></o:p></span></p>\n",
    "  </td>\n",
    "  <td width=169 valign=top style='width:127.0pt;border-top:none;border-left:\n",
    "  none;border-bottom:solid #282828 1.0pt;border-right:solid #282828 1.0pt;\n",
    "  mso-border-bottom-alt:solid #282828 .5pt;mso-border-right-alt:solid #282828 .5pt;\n",
    "  padding:0cm 5.4pt 0cm 5.4pt;height:20.0pt'>\n",
    "  <p class=MsoNormal><span style='font-size:17.0pt;font-family:\"Times New Roman\",serif;\n",
    "  mso-fareast-font-family:\"Times New Roman\";color:#343433'>87.47%±0.57</span><span\n",
    "  style='font-size:17.0pt;font-family:\"Times New Roman\",serif;mso-fareast-font-family:\n",
    "  \"Times New Roman\"'><o:p></o:p></span></p>\n",
    "  </td>\n",
    "  <td width=187 valign=top style='width:140.0pt;border-top:none;border-left:\n",
    "  none;border-bottom:solid #282828 1.0pt;border-right:solid #282828 1.0pt;\n",
    "  mso-border-bottom-alt:solid #282828 .5pt;mso-border-right-alt:solid #282828 .5pt;\n",
    "  padding:0cm 5.4pt 0cm 5.4pt;height:20.0pt'>\n",
    "  <p class=MsoNormal><span style='font-size:17.0pt;font-family:\"Times New Roman\",serif;\n",
    "  mso-fareast-font-family:\"Times New Roman\";color:#343433'>88.63%±0.48</span><span\n",
    "  style='font-size:17.0pt;font-family:\"Times New Roman\",serif;mso-fareast-font-family:\n",
    "  \"Times New Roman\"'><o:p></o:p></span></p>\n",
    "  </td>\n",
    "  <td width=187 valign=top style='width:140.0pt;border-top:none;border-left:\n",
    "  none;border-bottom:solid #282828 1.0pt;border-right:solid #282828 1.0pt;\n",
    "  mso-border-bottom-alt:solid #282828 .5pt;mso-border-right-alt:solid #282828 .5pt;\n",
    "  padding:0cm 5.4pt 0cm 5.4pt;height:20.0pt'>\n",
    "  <p class=MsoNormal><span style='font-size:17.0pt;font-family:\"Times New Roman\",serif;\n",
    "  mso-fareast-font-family:\"Times New Roman\";color:#343433'>88.19%±0.42</span><span\n",
    "  style='font-size:17.0pt;font-family:\"Times New Roman\",serif;mso-fareast-font-family:\n",
    "  \"Times New Roman\"'><o:p></o:p></span></p>\n",
    "  </td>\n",
    "  <td width=187 valign=top style='width:140.0pt;border-top:none;border-left:\n",
    "  none;border-bottom:solid #282828 1.0pt;border-right:solid #282828 1.0pt;\n",
    "  mso-border-top-alt:solid #282828 .5pt;mso-border-top-alt:solid #282828 .5pt;\n",
    "  mso-border-bottom-alt:solid #282828 .5pt;mso-border-right-alt:solid #282828 .5pt;\n",
    "  padding:0cm 5.4pt 0cm 5.4pt;height:20.0pt'>\n",
    "  <p class=MsoNormal><span style='font-size:17.0pt;font-family:\"Times New Roman\",serif;\n",
    "  mso-fareast-font-family:\"Times New Roman\";color:#343433'>88.18%±0.46</span><span\n",
    "  style='font-size:17.0pt;font-family:\"Times New Roman\",serif;mso-fareast-font-family:\n",
    "  \"Times New Roman\"'><o:p></o:p></span></p>\n",
    "  </td>\n",
    "  <td width=187 valign=top style='width:140.0pt;border-top:none;border-left:\n",
    "  none;border-bottom:solid #282828 1.0pt;border-right:solid #282828 1.0pt;\n",
    "  mso-border-bottom-alt:solid #282828 .5pt;mso-border-right-alt:solid #282828 .5pt;\n",
    "  padding:0cm 5.4pt 0cm 5.4pt;height:20.0pt'>\n",
    "  <p class=MsoNormal><span style='font-size:17.0pt;font-family:\"Times New Roman\",serif;\n",
    "  mso-fareast-font-family:\"Times New Roman\";color:#343433'>86.85%±0.37</span><span\n",
    "  style='font-size:17.0pt;font-family:\"Times New Roman\",serif;mso-fareast-font-family:\n",
    "  \"Times New Roman\"'><o:p></o:p></span></p>\n",
    "  </td>\n",
    "  <td width=195 valign=top style='width:146.0pt;border-top:none;border-left:\n",
    "  none;border-bottom:solid #282828 1.0pt;border-right:solid #282828 1.0pt;\n",
    "  mso-border-bottom-alt:solid #282828 .5pt;mso-border-right-alt:solid #282828 .5pt;\n",
    "  padding:0cm 5.4pt 0cm 5.4pt;height:20.0pt'>\n",
    "  <p class=MsoNormal><span style='font-size:17.0pt;font-family:\"Times New Roman\",serif;\n",
    "  mso-fareast-font-family:\"Times New Roman\";color:#343433'>88.83%±0.45</span><span\n",
    "  style='font-size:17.0pt;font-family:\"Times New Roman\",serif;mso-fareast-font-family:\n",
    "  \"Times New Roman\"'><o:p></o:p></span></p>\n",
    "  </td>\n",
    " </tr>\n",
    " <tr style='mso-yfti-irow:16;height:20.0pt'>\n",
    "  <td width=177 valign=top style='width:133.0pt;border:solid #282828 1.0pt;\n",
    "  border-top:none;mso-border-left-alt:solid #282828 .5pt;mso-border-bottom-alt:\n",
    "  solid #282828 .5pt;mso-border-right-alt:solid #282828 .5pt;padding:0cm 5.4pt 0cm 5.4pt;\n",
    "  height:20.0pt'>\n",
    "  <p class=MsoNormal><span class=GramE><span style='font-size:17.0pt;\n",
    "  font-family:\"Times New Roman\",serif;mso-fareast-font-family:\"Times New Roman\";\n",
    "  color:#343433'>New-thyroid</span></span><span style='font-size:17.0pt;\n",
    "  font-family:\"Times New Roman\",serif;mso-fareast-font-family:\"Times New Roman\"'><o:p></o:p></span></p>\n",
    "  </td>\n",
    "  <td width=169 valign=top style='width:127.0pt;border-top:none;border-left:\n",
    "  none;border-bottom:solid #282828 1.0pt;border-right:solid #282828 1.0pt;\n",
    "  mso-border-bottom-alt:solid #282828 .5pt;mso-border-right-alt:solid #282828 .5pt;\n",
    "  padding:0cm 5.4pt 0cm 5.4pt;height:20.0pt'>\n",
    "  <p class=MsoNormal><span style='font-size:17.0pt;font-family:\"Times New Roman\",serif;\n",
    "  mso-fareast-font-family:\"Times New Roman\";color:#343433'>95.80%±3.26</span><span\n",
    "  style='font-size:17.0pt;font-family:\"Times New Roman\",serif;mso-fareast-font-family:\n",
    "  \"Times New Roman\"'><o:p></o:p></span></p>\n",
    "  </td>\n",
    "  <td width=187 valign=top style='width:140.0pt;border-top:none;border-left:\n",
    "  none;border-bottom:solid #282828 1.0pt;border-right:solid #282828 1.0pt;\n",
    "  mso-border-bottom-alt:solid #282828 .5pt;mso-border-right-alt:solid #282828 .5pt;\n",
    "  padding:0cm 5.4pt 0cm 5.4pt;height:20.0pt'>\n",
    "  <p class=MsoNormal><span style='font-size:17.0pt;font-family:\"Times New Roman\",serif;\n",
    "  mso-fareast-font-family:\"Times New Roman\";color:#343433'>95.80%±3.26</span><span\n",
    "  style='font-size:17.0pt;font-family:\"Times New Roman\",serif;mso-fareast-font-family:\n",
    "  \"Times New Roman\"'><o:p></o:p></span></p>\n",
    "  </td>\n",
    "  <td width=187 valign=top style='width:140.0pt;border-top:none;border-left:\n",
    "  none;border-bottom:solid #282828 1.0pt;border-right:solid #282828 1.0pt;\n",
    "  mso-border-bottom-alt:solid #282828 .5pt;mso-border-right-alt:solid #282828 .5pt;\n",
    "  padding:0cm 5.4pt 0cm 5.4pt;height:20.0pt'>\n",
    "  <p class=MsoNormal><span style='font-size:17.0pt;font-family:\"Times New Roman\",serif;\n",
    "  mso-fareast-font-family:\"Times New Roman\";color:#343433'>96.75%±2.94</span><span\n",
    "  style='font-size:17.0pt;font-family:\"Times New Roman\",serif;mso-fareast-font-family:\n",
    "  \"Times New Roman\"'><o:p></o:p></span></p>\n",
    "  </td>\n",
    "  <td width=187 valign=top style='width:140.0pt;border-top:none;border-left:\n",
    "  none;border-bottom:solid #282828 1.0pt;border-right:solid #282828 1.0pt;\n",
    "  mso-border-top-alt:solid #282828 .5pt;mso-border-top-alt:solid #282828 .5pt;\n",
    "  mso-border-bottom-alt:solid #282828 .5pt;mso-border-right-alt:solid #282828 .5pt;\n",
    "  padding:0cm 5.4pt 0cm 5.4pt;height:20.0pt'>\n",
    "  <p class=MsoNormal><span style='font-size:17.0pt;font-family:\"Times New Roman\",serif;\n",
    "  mso-fareast-font-family:\"Times New Roman\";color:#343433'>96.28%±3.48</span><span\n",
    "  style='font-size:17.0pt;font-family:\"Times New Roman\",serif;mso-fareast-font-family:\n",
    "  \"Times New Roman\"'><o:p></o:p></span></p>\n",
    "  </td>\n",
    "  <td width=187 valign=top style='width:140.0pt;border-top:none;border-left:\n",
    "  none;border-bottom:solid #282828 1.0pt;border-right:solid #282828 1.0pt;\n",
    "  mso-border-bottom-alt:solid #282828 .5pt;mso-border-right-alt:solid #282828 .5pt;\n",
    "  padding:0cm 5.4pt 0cm 5.4pt;height:20.0pt'>\n",
    "  <p class=MsoNormal><span style='font-size:17.0pt;font-family:\"Times New Roman\",serif;\n",
    "  mso-fareast-font-family:\"Times New Roman\";color:#343433'>96.75%±2.94</span><span\n",
    "  style='font-size:17.0pt;font-family:\"Times New Roman\",serif;mso-fareast-font-family:\n",
    "  \"Times New Roman\"'><o:p></o:p></span></p>\n",
    "  </td>\n",
    "  <td width=195 valign=top style='width:146.0pt;border-top:none;border-left:\n",
    "  none;border-bottom:solid #282828 1.0pt;border-right:solid #282828 1.0pt;\n",
    "  mso-border-bottom-alt:solid #282828 .5pt;mso-border-right-alt:solid #282828 .5pt;\n",
    "  padding:0cm 5.4pt 0cm 5.4pt;height:20.0pt'>\n",
    "  <p class=MsoNormal><span style='font-size:17.0pt;font-family:\"Times New Roman\",serif;\n",
    "  mso-fareast-font-family:\"Times New Roman\";color:#343433'>96.28%±3.48</span><span\n",
    "  style='font-size:17.0pt;font-family:\"Times New Roman\",serif;mso-fareast-font-family:\n",
    "  \"Times New Roman\"'><o:p></o:p></span></p>\n",
    "  </td>\n",
    " </tr>\n",
    " <tr style='mso-yfti-irow:17;height:20.0pt'>\n",
    "  <td width=177 valign=top style='width:133.0pt;border:solid #282828 1.0pt;\n",
    "  border-top:none;mso-border-left-alt:solid #282828 .5pt;mso-border-bottom-alt:\n",
    "  solid #282828 .5pt;mso-border-right-alt:solid #282828 .5pt;padding:0cm 5.4pt 0cm 5.4pt;\n",
    "  height:20.0pt'>\n",
    "  <p class=MsoNormal><span class=SpellE><span style='font-size:17.0pt;\n",
    "  font-family:\"Times New Roman\",serif;mso-fareast-font-family:\"Times New Roman\";\n",
    "  color:#343433'>Parkinsons</span></span><span style='font-size:17.0pt;\n",
    "  font-family:\"Times New Roman\",serif;mso-fareast-font-family:\"Times New Roman\"'><o:p></o:p></span></p>\n",
    "  </td>\n",
    "  <td width=169 valign=top style='width:127.0pt;border-top:none;border-left:\n",
    "  none;border-bottom:solid #282828 1.0pt;border-right:solid #282828 1.0pt;\n",
    "  mso-border-bottom-alt:solid #282828 .5pt;mso-border-right-alt:solid #282828 .5pt;\n",
    "  padding:0cm 5.4pt 0cm 5.4pt;height:20.0pt'>\n",
    "  <p class=MsoNormal><span style='font-size:17.0pt;font-family:\"Times New Roman\",serif;\n",
    "  mso-fareast-font-family:\"Times New Roman\";color:#343433'>92.14%±5.72</span><span\n",
    "  style='font-size:17.0pt;font-family:\"Times New Roman\",serif;mso-fareast-font-family:\n",
    "  \"Times New Roman\"'><o:p></o:p></span></p>\n",
    "  </td>\n",
    "  <td width=187 valign=top style='width:140.0pt;border-top:none;border-left:\n",
    "  none;border-bottom:solid #282828 1.0pt;border-right:solid #282828 1.0pt;\n",
    "  mso-border-bottom-alt:solid #282828 .5pt;mso-border-right-alt:solid #282828 .5pt;\n",
    "  padding:0cm 5.4pt 0cm 5.4pt;height:20.0pt'>\n",
    "  <p class=MsoNormal><span style='font-size:17.0pt;font-family:\"Times New Roman\",serif;\n",
    "  mso-fareast-font-family:\"Times New Roman\";color:#343433'>90.14%±4.01</span><span\n",
    "  style='font-size:17.0pt;font-family:\"Times New Roman\",serif;mso-fareast-font-family:\n",
    "  \"Times New Roman\"'><o:p></o:p></span></p>\n",
    "  </td>\n",
    "  <td width=187 valign=top style='width:140.0pt;border-top:none;border-left:\n",
    "  none;border-bottom:solid #282828 1.0pt;border-right:solid #282828 1.0pt;\n",
    "  mso-border-bottom-alt:solid #282828 .5pt;mso-border-right-alt:solid #282828 .5pt;\n",
    "  padding:0cm 5.4pt 0cm 5.4pt;height:20.0pt'>\n",
    "  <p class=MsoNormal><span style='font-size:17.0pt;font-family:\"Times New Roman\",serif;\n",
    "  mso-fareast-font-family:\"Times New Roman\";color:#343433'>90.70%±5.60</span><span\n",
    "  style='font-size:17.0pt;font-family:\"Times New Roman\",serif;mso-fareast-font-family:\n",
    "  \"Times New Roman\"'><o:p></o:p></span></p>\n",
    "  </td>\n",
    "  <td width=187 valign=top style='width:140.0pt;border-top:none;border-left:\n",
    "  none;border-bottom:solid #282828 1.0pt;border-right:solid #282828 1.0pt;\n",
    "  mso-border-top-alt:solid #282828 .5pt;mso-border-top-alt:solid #282828 .5pt;\n",
    "  mso-border-bottom-alt:solid #282828 .5pt;mso-border-right-alt:solid #282828 .5pt;\n",
    "  padding:0cm 5.4pt 0cm 5.4pt;height:20.0pt'>\n",
    "  <p class=MsoNormal><span style='font-size:17.0pt;font-family:\"Times New Roman\",serif;\n",
    "  mso-fareast-font-family:\"Times New Roman\";color:#343433'>90.70%±4.62</span><span\n",
    "  style='font-size:17.0pt;font-family:\"Times New Roman\",serif;mso-fareast-font-family:\n",
    "  \"Times New Roman\"'><o:p></o:p></span></p>\n",
    "  </td>\n",
    "  <td width=187 valign=top style='width:140.0pt;border-top:none;border-left:\n",
    "  none;border-bottom:solid #282828 1.0pt;border-right:solid #282828 1.0pt;\n",
    "  mso-border-bottom-alt:solid #282828 .5pt;mso-border-right-alt:solid #282828 .5pt;\n",
    "  padding:0cm 5.4pt 0cm 5.4pt;height:20.0pt'>\n",
    "  <p class=MsoNormal><span style='font-size:17.0pt;font-family:\"Times New Roman\",serif;\n",
    "  mso-fareast-font-family:\"Times New Roman\";color:#343433'>91.14%±6.00</span><span\n",
    "  style='font-size:17.0pt;font-family:\"Times New Roman\",serif;mso-fareast-font-family:\n",
    "  \"Times New Roman\"'><o:p></o:p></span></p>\n",
    "  </td>\n",
    "  <td width=195 valign=top style='width:146.0pt;border-top:none;border-left:\n",
    "  none;border-bottom:solid #282828 1.0pt;border-right:solid #282828 1.0pt;\n",
    "  mso-border-bottom-alt:solid #282828 .5pt;mso-border-right-alt:solid #282828 .5pt;\n",
    "  padding:0cm 5.4pt 0cm 5.4pt;height:20.0pt'>\n",
    "  <p class=MsoNormal><span style='font-size:17.0pt;font-family:\"Times New Roman\",serif;\n",
    "  mso-fareast-font-family:\"Times New Roman\";color:#343433'>91.20%±4.23</span><span\n",
    "  style='font-size:17.0pt;font-family:\"Times New Roman\",serif;mso-fareast-font-family:\n",
    "  \"Times New Roman\"'><o:p></o:p></span></p>\n",
    "  </td>\n",
    " </tr>\n",
    " <tr style='mso-yfti-irow:18;height:20.0pt'>\n",
    "  <td width=177 valign=top style='width:133.0pt;border:solid #282828 1.0pt;\n",
    "  border-top:none;mso-border-left-alt:solid #282828 .5pt;mso-border-bottom-alt:\n",
    "  solid #282828 .5pt;mso-border-right-alt:solid #282828 .5pt;padding:0cm 5.4pt 0cm 5.4pt;\n",
    "  height:20.0pt'>\n",
    "  <p class=MsoNormal><span style='font-size:17.0pt;font-family:\"Times New Roman\",serif;\n",
    "  mso-fareast-font-family:\"Times New Roman\";color:#343433'>Phishing</span><span\n",
    "  style='font-size:17.0pt;font-family:\"Times New Roman\",serif;mso-fareast-font-family:\n",
    "  \"Times New Roman\"'><o:p></o:p></span></p>\n",
    "  </td>\n",
    "  <td width=169 valign=top style='width:127.0pt;border-top:none;border-left:\n",
    "  none;border-bottom:solid #282828 1.0pt;border-right:solid #282828 1.0pt;\n",
    "  mso-border-bottom-alt:solid #282828 .5pt;mso-border-right-alt:solid #282828 .5pt;\n",
    "  padding:0cm 5.4pt 0cm 5.4pt;height:20.0pt'>\n",
    "  <p class=MsoNormal><span style='font-size:17.0pt;font-family:\"Times New Roman\",serif;\n",
    "  mso-fareast-font-family:\"Times New Roman\";color:#343433'>89.65%±2.44</span><span\n",
    "  style='font-size:17.0pt;font-family:\"Times New Roman\",serif;mso-fareast-font-family:\n",
    "  \"Times New Roman\"'><o:p></o:p></span></p>\n",
    "  </td>\n",
    "  <td width=187 valign=top style='width:140.0pt;border-top:none;border-left:\n",
    "  none;border-bottom:solid #282828 1.0pt;border-right:solid #282828 1.0pt;\n",
    "  mso-border-bottom-alt:solid #282828 .5pt;mso-border-right-alt:solid #282828 .5pt;\n",
    "  padding:0cm 5.4pt 0cm 5.4pt;height:20.0pt'>\n",
    "  <p class=MsoNormal><span style='font-size:17.0pt;font-family:\"Times New Roman\",serif;\n",
    "  mso-fareast-font-family:\"Times New Roman\";color:#343433'>91.13%±1.30</span><span\n",
    "  style='font-size:17.0pt;font-family:\"Times New Roman\",serif;mso-fareast-font-family:\n",
    "  \"Times New Roman\"'><o:p></o:p></span></p>\n",
    "  </td>\n",
    "  <td width=187 valign=top style='width:140.0pt;border-top:none;border-left:\n",
    "  none;border-bottom:solid #282828 1.0pt;border-right:solid #282828 1.0pt;\n",
    "  mso-border-bottom-alt:solid #282828 .5pt;mso-border-right-alt:solid #282828 .5pt;\n",
    "  padding:0cm 5.4pt 0cm 5.4pt;height:20.0pt'>\n",
    "  <p class=MsoNormal><span style='font-size:17.0pt;font-family:\"Times New Roman\",serif;\n",
    "  mso-fareast-font-family:\"Times New Roman\";color:#343433'>88.63%±3.38</span><span\n",
    "  style='font-size:17.0pt;font-family:\"Times New Roman\",serif;mso-fareast-font-family:\n",
    "  \"Times New Roman\"'><o:p></o:p></span></p>\n",
    "  </td>\n",
    "  <td width=187 valign=top style='width:140.0pt;border-top:none;border-left:\n",
    "  none;border-bottom:solid #282828 1.0pt;border-right:solid #282828 1.0pt;\n",
    "  mso-border-top-alt:solid #282828 .5pt;mso-border-top-alt:solid #282828 .5pt;\n",
    "  mso-border-bottom-alt:solid #282828 .5pt;mso-border-right-alt:solid #282828 .5pt;\n",
    "  padding:0cm 5.4pt 0cm 5.4pt;height:20.0pt'>\n",
    "  <p class=MsoNormal><span style='font-size:17.0pt;font-family:\"Times New Roman\",serif;\n",
    "  mso-fareast-font-family:\"Times New Roman\";color:#343433'>89.51%±2.42</span><span\n",
    "  style='font-size:17.0pt;font-family:\"Times New Roman\",serif;mso-fareast-font-family:\n",
    "  \"Times New Roman\"'><o:p></o:p></span></p>\n",
    "  </td>\n",
    "  <td width=187 valign=top style='width:140.0pt;border-top:none;border-left:\n",
    "  none;border-bottom:solid #282828 1.0pt;border-right:solid #282828 1.0pt;\n",
    "  mso-border-bottom-alt:solid #282828 .5pt;mso-border-right-alt:solid #282828 .5pt;\n",
    "  padding:0cm 5.4pt 0cm 5.4pt;height:20.0pt'>\n",
    "  <p class=MsoNormal><span style='font-size:17.0pt;font-family:\"Times New Roman\",serif;\n",
    "  mso-fareast-font-family:\"Times New Roman\";color:#343433'>90.62%±1.76</span><span\n",
    "  style='font-size:17.0pt;font-family:\"Times New Roman\",serif;mso-fareast-font-family:\n",
    "  \"Times New Roman\"'><o:p></o:p></span></p>\n",
    "  </td>\n",
    "  <td width=195 valign=top style='width:146.0pt;border-top:none;border-left:\n",
    "  none;border-bottom:solid #282828 1.0pt;border-right:solid #282828 1.0pt;\n",
    "  mso-border-bottom-alt:solid #282828 .5pt;mso-border-right-alt:solid #282828 .5pt;\n",
    "  padding:0cm 5.4pt 0cm 5.4pt;height:20.0pt'>\n",
    "  <p class=MsoNormal><span style='font-size:17.0pt;font-family:\"Times New Roman\",serif;\n",
    "  mso-fareast-font-family:\"Times New Roman\";color:#343433'>90.25%±2.19</span><span\n",
    "  style='font-size:17.0pt;font-family:\"Times New Roman\",serif;mso-fareast-font-family:\n",
    "  \"Times New Roman\"'><o:p></o:p></span></p>\n",
    "  </td>\n",
    " </tr>\n",
    " <tr style='mso-yfti-irow:19;height:20.0pt'>\n",
    "  <td width=177 valign=top style='width:133.0pt;border:solid #282828 1.0pt;\n",
    "  border-top:none;mso-border-left-alt:solid #282828 .5pt;mso-border-bottom-alt:\n",
    "  solid #282828 .5pt;mso-border-right-alt:solid #282828 .5pt;padding:0cm 5.4pt 0cm 5.4pt;\n",
    "  height:20.0pt'>\n",
    "  <p class=MsoNormal><span style='font-size:17.0pt;font-family:\"Times New Roman\",serif;\n",
    "  mso-fareast-font-family:\"Times New Roman\";color:#343433'>Segment</span><span\n",
    "  style='font-size:17.0pt;font-family:\"Times New Roman\",serif;mso-fareast-font-family:\n",
    "  \"Times New Roman\"'><o:p></o:p></span></p>\n",
    "  </td>\n",
    "  <td width=169 valign=top style='width:127.0pt;border-top:none;border-left:\n",
    "  none;border-bottom:solid #282828 1.0pt;border-right:solid #282828 1.0pt;\n",
    "  mso-border-bottom-alt:solid #282828 .5pt;mso-border-right-alt:solid #282828 .5pt;\n",
    "  padding:0cm 5.4pt 0cm 5.4pt;height:20.0pt'>\n",
    "  <p class=MsoNormal><span style='font-size:17.0pt;font-family:\"Times New Roman\",serif;\n",
    "  mso-fareast-font-family:\"Times New Roman\";color:#343433'>98.48%±0.70</span><span\n",
    "  style='font-size:17.0pt;font-family:\"Times New Roman\",serif;mso-fareast-font-family:\n",
    "  \"Times New Roman\"'><o:p></o:p></span></p>\n",
    "  </td>\n",
    "  <td width=187 valign=top style='width:140.0pt;border-top:none;border-left:\n",
    "  none;border-bottom:solid #282828 1.0pt;border-right:solid #282828 1.0pt;\n",
    "  mso-border-bottom-alt:solid #282828 .5pt;mso-border-right-alt:solid #282828 .5pt;\n",
    "  padding:0cm 5.4pt 0cm 5.4pt;height:20.0pt'>\n",
    "  <p class=MsoNormal><span style='font-size:17.0pt;font-family:\"Times New Roman\",serif;\n",
    "  mso-fareast-font-family:\"Times New Roman\";color:#343433'>98.70%±0.77</span><span\n",
    "  style='font-size:17.0pt;font-family:\"Times New Roman\",serif;mso-fareast-font-family:\n",
    "  \"Times New Roman\"'><o:p></o:p></span></p>\n",
    "  </td>\n",
    "  <td width=187 valign=top style='width:140.0pt;border-top:none;border-left:\n",
    "  none;border-bottom:solid #282828 1.0pt;border-right:solid #282828 1.0pt;\n",
    "  mso-border-bottom-alt:solid #282828 .5pt;mso-border-right-alt:solid #282828 .5pt;\n",
    "  padding:0cm 5.4pt 0cm 5.4pt;height:20.0pt'>\n",
    "  <p class=MsoNormal><span style='font-size:17.0pt;font-family:\"Times New Roman\",serif;\n",
    "  mso-fareast-font-family:\"Times New Roman\";color:#343433'>98.01%±0.80</span><span\n",
    "  style='font-size:17.0pt;font-family:\"Times New Roman\",serif;mso-fareast-font-family:\n",
    "  \"Times New Roman\"'><o:p></o:p></span></p>\n",
    "  </td>\n",
    "  <td width=187 valign=top style='width:140.0pt;border-top:none;border-left:\n",
    "  none;border-bottom:solid #282828 1.0pt;border-right:solid #282828 1.0pt;\n",
    "  mso-border-top-alt:solid #282828 .5pt;mso-border-top-alt:solid #282828 .5pt;\n",
    "  mso-border-bottom-alt:solid #282828 .5pt;mso-border-right-alt:solid #282828 .5pt;\n",
    "  padding:0cm 5.4pt 0cm 5.4pt;height:20.0pt'>\n",
    "  <p class=MsoNormal><span style='font-size:17.0pt;font-family:\"Times New Roman\",serif;\n",
    "  mso-fareast-font-family:\"Times New Roman\";color:#343433'>98.18%±0.67</span><span\n",
    "  style='font-size:17.0pt;font-family:\"Times New Roman\",serif;mso-fareast-font-family:\n",
    "  \"Times New Roman\"'><o:p></o:p></span></p>\n",
    "  </td>\n",
    "  <td width=187 valign=top style='width:140.0pt;border-top:none;border-left:\n",
    "  none;border-bottom:solid #282828 1.0pt;border-right:solid #282828 1.0pt;\n",
    "  mso-border-bottom-alt:solid #282828 .5pt;mso-border-right-alt:solid #282828 .5pt;\n",
    "  padding:0cm 5.4pt 0cm 5.4pt;height:20.0pt'>\n",
    "  <p class=MsoNormal><span style='font-size:17.0pt;font-family:\"Times New Roman\",serif;\n",
    "  mso-fareast-font-family:\"Times New Roman\";color:#343433'>97.75%±0.74</span><span\n",
    "  style='font-size:17.0pt;font-family:\"Times New Roman\",serif;mso-fareast-font-family:\n",
    "  \"Times New Roman\"'><o:p></o:p></span></p>\n",
    "  </td>\n",
    "  <td width=195 valign=top style='width:146.0pt;border-top:none;border-left:\n",
    "  none;border-bottom:solid #282828 1.0pt;border-right:solid #282828 1.0pt;\n",
    "  mso-border-bottom-alt:solid #282828 .5pt;mso-border-right-alt:solid #282828 .5pt;\n",
    "  padding:0cm 5.4pt 0cm 5.4pt;height:20.0pt'>\n",
    "  <p class=MsoNormal><span style='font-size:17.0pt;font-family:\"Times New Roman\",serif;\n",
    "  mso-fareast-font-family:\"Times New Roman\";color:#343433'>98.35%±0.64</span><span\n",
    "  style='font-size:17.0pt;font-family:\"Times New Roman\",serif;mso-fareast-font-family:\n",
    "  \"Times New Roman\"'><o:p></o:p></span></p>\n",
    "  </td>\n",
    " </tr>\n",
    " <tr style='mso-yfti-irow:20;height:20.0pt'>\n",
    "  <td width=177 valign=top style='width:133.0pt;border:solid #282828 1.0pt;\n",
    "  border-top:none;mso-border-left-alt:solid #282828 .5pt;mso-border-bottom-alt:\n",
    "  solid #282828 .5pt;mso-border-right-alt:solid #282828 .5pt;padding:0cm 5.4pt 0cm 5.4pt;\n",
    "  height:20.0pt'>\n",
    "  <p class=MsoNormal><span style='font-size:17.0pt;font-family:\"Times New Roman\",serif;\n",
    "  mso-fareast-font-family:\"Times New Roman\";color:#343433'>Sonar</span><span\n",
    "  style='font-size:17.0pt;font-family:\"Times New Roman\",serif;mso-fareast-font-family:\n",
    "  \"Times New Roman\"'><o:p></o:p></span></p>\n",
    "  </td>\n",
    "  <td width=169 valign=top style='width:127.0pt;border-top:none;border-left:\n",
    "  none;border-bottom:solid #282828 1.0pt;border-right:solid #282828 1.0pt;\n",
    "  mso-border-bottom-alt:solid #282828 .5pt;mso-border-right-alt:solid #282828 .5pt;\n",
    "  padding:0cm 5.4pt 0cm 5.4pt;height:20.0pt'>\n",
    "  <p class=MsoNormal><span style='font-size:17.0pt;font-family:\"Times New Roman\",serif;\n",
    "  mso-fareast-font-family:\"Times New Roman\";color:#343433'>85.59%±6.44</span><span\n",
    "  style='font-size:17.0pt;font-family:\"Times New Roman\",serif;mso-fareast-font-family:\n",
    "  \"Times New Roman\"'><o:p></o:p></span></p>\n",
    "  </td>\n",
    "  <td width=187 valign=top style='width:140.0pt;border-top:none;border-left:\n",
    "  none;border-bottom:solid #282828 1.0pt;border-right:solid #282828 1.0pt;\n",
    "  mso-border-bottom-alt:solid #282828 .5pt;mso-border-right-alt:solid #282828 .5pt;\n",
    "  padding:0cm 5.4pt 0cm 5.4pt;height:20.0pt'>\n",
    "  <p class=MsoNormal><span style='font-size:17.0pt;font-family:\"Times New Roman\",serif;\n",
    "  mso-fareast-font-family:\"Times New Roman\";color:#343433'>86.97%±4.84</span><span\n",
    "  style='font-size:17.0pt;font-family:\"Times New Roman\",serif;mso-fareast-font-family:\n",
    "  \"Times New Roman\"'><o:p></o:p></span></p>\n",
    "  </td>\n",
    "  <td width=187 valign=top style='width:140.0pt;border-top:none;border-left:\n",
    "  none;border-bottom:solid #282828 1.0pt;border-right:solid #282828 1.0pt;\n",
    "  mso-border-bottom-alt:solid #282828 .5pt;mso-border-right-alt:solid #282828 .5pt;\n",
    "  padding:0cm 5.4pt 0cm 5.4pt;height:20.0pt'>\n",
    "  <p class=MsoNormal><span style='font-size:17.0pt;font-family:\"Times New Roman\",serif;\n",
    "  mso-fareast-font-family:\"Times New Roman\";color:#343433'>83.64%±3.87</span><span\n",
    "  style='font-size:17.0pt;font-family:\"Times New Roman\",serif;mso-fareast-font-family:\n",
    "  \"Times New Roman\"'><o:p></o:p></span></p>\n",
    "  </td>\n",
    "  <td width=187 valign=top style='width:140.0pt;border-top:none;border-left:\n",
    "  none;border-bottom:solid #282828 1.0pt;border-right:solid #282828 1.0pt;\n",
    "  mso-border-top-alt:solid #282828 .5pt;mso-border-top-alt:solid #282828 .5pt;\n",
    "  mso-border-bottom-alt:solid #282828 .5pt;mso-border-right-alt:solid #282828 .5pt;\n",
    "  padding:0cm 5.4pt 0cm 5.4pt;height:20.0pt'>\n",
    "  <p class=MsoNormal><span style='font-size:17.0pt;font-family:\"Times New Roman\",serif;\n",
    "  mso-fareast-font-family:\"Times New Roman\";color:#343433'>85.59%±4.83</span><span\n",
    "  style='font-size:17.0pt;font-family:\"Times New Roman\",serif;mso-fareast-font-family:\n",
    "  \"Times New Roman\"'><o:p></o:p></span></p>\n",
    "  </td>\n",
    "  <td width=187 valign=top style='width:140.0pt;border-top:none;border-left:\n",
    "  none;border-bottom:solid #282828 1.0pt;border-right:solid #282828 1.0pt;\n",
    "  mso-border-bottom-alt:solid #282828 .5pt;mso-border-right-alt:solid #282828 .5pt;\n",
    "  padding:0cm 5.4pt 0cm 5.4pt;height:20.0pt'>\n",
    "  <p class=MsoNormal><span style='font-size:17.0pt;font-family:\"Times New Roman\",serif;\n",
    "  mso-fareast-font-family:\"Times New Roman\";color:#343433'>84.66%±4.61</span><span\n",
    "  style='font-size:17.0pt;font-family:\"Times New Roman\",serif;mso-fareast-font-family:\n",
    "  \"Times New Roman\"'><o:p></o:p></span></p>\n",
    "  </td>\n",
    "  <td width=195 valign=top style='width:146.0pt;border-top:none;border-left:\n",
    "  none;border-bottom:solid #282828 1.0pt;border-right:solid #282828 1.0pt;\n",
    "  mso-border-bottom-alt:solid #282828 .5pt;mso-border-right-alt:solid #282828 .5pt;\n",
    "  padding:0cm 5.4pt 0cm 5.4pt;height:20.0pt'>\n",
    "  <p class=MsoNormal><span style='font-size:17.0pt;font-family:\"Times New Roman\",serif;\n",
    "  mso-fareast-font-family:\"Times New Roman\";color:#343433'>88.95%±4.32</span><span\n",
    "  style='font-size:17.0pt;font-family:\"Times New Roman\",serif;mso-fareast-font-family:\n",
    "  \"Times New Roman\"'><o:p></o:p></span></p>\n",
    "  </td>\n",
    " </tr>\n",
    " <tr style='mso-yfti-irow:21;height:20.0pt'>\n",
    "  <td width=177 valign=top style='width:133.0pt;border:solid #282828 1.0pt;\n",
    "  border-top:none;mso-border-left-alt:solid #282828 .5pt;mso-border-bottom-alt:\n",
    "  solid #282828 .5pt;mso-border-right-alt:solid #282828 .5pt;padding:0cm 5.4pt 0cm 5.4pt;\n",
    "  height:20.0pt'>\n",
    "  <p class=MsoNormal><span style='font-size:17.0pt;font-family:\"Times New Roman\",serif;\n",
    "  mso-fareast-font-family:\"Times New Roman\";color:#343433'>Soybean</span><span\n",
    "  style='font-size:17.0pt;font-family:\"Times New Roman\",serif;mso-fareast-font-family:\n",
    "  \"Times New Roman\"'><o:p></o:p></span></p>\n",
    "  </td>\n",
    "  <td width=169 valign=top style='width:127.0pt;border-top:none;border-left:\n",
    "  none;border-bottom:solid #282828 1.0pt;border-right:solid #282828 1.0pt;\n",
    "  mso-border-bottom-alt:solid #282828 .5pt;mso-border-right-alt:solid #282828 .5pt;\n",
    "  padding:0cm 5.4pt 0cm 5.4pt;height:20.0pt'>\n",
    "  <p class=MsoNormal><span style='font-size:17.0pt;font-family:\"Times New Roman\",serif;\n",
    "  mso-fareast-font-family:\"Times New Roman\";color:#343433'>94.80%±3.35</span><span\n",
    "  style='font-size:17.0pt;font-family:\"Times New Roman\",serif;mso-fareast-font-family:\n",
    "  \"Times New Roman\"'><o:p></o:p></span></p>\n",
    "  </td>\n",
    "  <td width=187 valign=top style='width:140.0pt;border-top:none;border-left:\n",
    "  none;border-bottom:solid #282828 1.0pt;border-right:solid #282828 1.0pt;\n",
    "  mso-border-bottom-alt:solid #282828 .5pt;mso-border-right-alt:solid #282828 .5pt;\n",
    "  padding:0cm 5.4pt 0cm 5.4pt;height:20.0pt'>\n",
    "  <p class=MsoNormal><span style='font-size:17.0pt;font-family:\"Times New Roman\",serif;\n",
    "  mso-fareast-font-family:\"Times New Roman\";color:#343433'>95.22%±2.96</span><span\n",
    "  style='font-size:17.0pt;font-family:\"Times New Roman\",serif;mso-fareast-font-family:\n",
    "  \"Times New Roman\"'><o:p></o:p></span></p>\n",
    "  </td>\n",
    "  <td width=187 valign=top style='width:140.0pt;border-top:none;border-left:\n",
    "  none;border-bottom:solid #282828 1.0pt;border-right:solid #282828 1.0pt;\n",
    "  mso-border-bottom-alt:solid #282828 .5pt;mso-border-right-alt:solid #282828 .5pt;\n",
    "  padding:0cm 5.4pt 0cm 5.4pt;height:20.0pt'>\n",
    "  <p class=MsoNormal><span style='font-size:17.0pt;font-family:\"Times New Roman\",serif;\n",
    "  mso-fareast-font-family:\"Times New Roman\";color:#343433'>94.06%±2.27</span><span\n",
    "  style='font-size:17.0pt;font-family:\"Times New Roman\",serif;mso-fareast-font-family:\n",
    "  \"Times New Roman\"'><o:p></o:p></span></p>\n",
    "  </td>\n",
    "  <td width=187 valign=top style='width:140.0pt;border-top:none;border-left:\n",
    "  none;border-bottom:solid #282828 1.0pt;border-right:solid #282828 1.0pt;\n",
    "  mso-border-top-alt:solid #282828 .5pt;mso-border-top-alt:solid #282828 .5pt;\n",
    "  mso-border-bottom-alt:solid #282828 .5pt;mso-border-right-alt:solid #282828 .5pt;\n",
    "  padding:0cm 5.4pt 0cm 5.4pt;height:20.0pt'>\n",
    "  <p class=MsoNormal><span style='font-size:17.0pt;font-family:\"Times New Roman\",serif;\n",
    "  mso-fareast-font-family:\"Times New Roman\";color:#343433'>94.65%±2.57</span><span\n",
    "  style='font-size:17.0pt;font-family:\"Times New Roman\",serif;mso-fareast-font-family:\n",
    "  \"Times New Roman\"'><o:p></o:p></span></p>\n",
    "  </td>\n",
    "  <td width=187 valign=top style='width:140.0pt;border-top:none;border-left:\n",
    "  none;border-bottom:solid #282828 1.0pt;border-right:solid #282828 1.0pt;\n",
    "  mso-border-bottom-alt:solid #282828 .5pt;mso-border-right-alt:solid #282828 .5pt;\n",
    "  padding:0cm 5.4pt 0cm 5.4pt;height:20.0pt'>\n",
    "  <p class=MsoNormal><span style='font-size:17.0pt;font-family:\"Times New Roman\",serif;\n",
    "  mso-fareast-font-family:\"Times New Roman\";color:#343433'>93.63%±2.86</span><span\n",
    "  style='font-size:17.0pt;font-family:\"Times New Roman\",serif;mso-fareast-font-family:\n",
    "  \"Times New Roman\"'><o:p></o:p></span></p>\n",
    "  </td>\n",
    "  <td width=195 valign=top style='width:146.0pt;border-top:none;border-left:\n",
    "  none;border-bottom:solid #282828 1.0pt;border-right:solid #282828 1.0pt;\n",
    "  mso-border-bottom-alt:solid #282828 .5pt;mso-border-right-alt:solid #282828 .5pt;\n",
    "  padding:0cm 5.4pt 0cm 5.4pt;height:20.0pt'>\n",
    "  <p class=MsoNormal><span style='font-size:17.0pt;font-family:\"Times New Roman\",serif;\n",
    "  mso-fareast-font-family:\"Times New Roman\";color:#343433'>93.58%±3.45</span><span\n",
    "  style='font-size:17.0pt;font-family:\"Times New Roman\",serif;mso-fareast-font-family:\n",
    "  \"Times New Roman\"'><o:p></o:p></span></p>\n",
    "  </td>\n",
    " </tr>\n",
    " <tr style='mso-yfti-irow:22;height:20.0pt'>\n",
    "  <td width=177 valign=top style='width:133.0pt;border:solid #282828 1.0pt;\n",
    "  border-top:none;mso-border-left-alt:solid #282828 .5pt;mso-border-bottom-alt:\n",
    "  solid #282828 .5pt;mso-border-right-alt:solid #282828 .5pt;padding:0cm 5.4pt 0cm 5.4pt;\n",
    "  height:20.0pt'>\n",
    "  <p class=MsoNormal><span class=SpellE><span style='font-size:17.0pt;\n",
    "  font-family:\"Times New Roman\",serif;mso-fareast-font-family:\"Times New Roman\";\n",
    "  color:#343433'>Spambase</span></span><span style='font-size:17.0pt;\n",
    "  font-family:\"Times New Roman\",serif;mso-fareast-font-family:\"Times New Roman\"'><o:p></o:p></span></p>\n",
    "  </td>\n",
    "  <td width=169 valign=top style='width:127.0pt;border-top:none;border-left:\n",
    "  none;border-bottom:solid #282828 1.0pt;border-right:solid #282828 1.0pt;\n",
    "  mso-border-bottom-alt:solid #282828 .5pt;mso-border-right-alt:solid #282828 .5pt;\n",
    "  padding:0cm 5.4pt 0cm 5.4pt;height:20.0pt'>\n",
    "  <p class=MsoNormal><span style='font-size:17.0pt;font-family:\"Times New Roman\",serif;\n",
    "  mso-fareast-font-family:\"Times New Roman\";color:#343433'>95.17%±1.29</span><span\n",
    "  style='font-size:17.0pt;font-family:\"Times New Roman\",serif;mso-fareast-font-family:\n",
    "  \"Times New Roman\"'><o:p></o:p></span></p>\n",
    "  </td>\n",
    "  <td width=187 valign=top style='width:140.0pt;border-top:none;border-left:\n",
    "  none;border-bottom:solid #282828 1.0pt;border-right:solid #282828 1.0pt;\n",
    "  mso-border-bottom-alt:solid #282828 .5pt;mso-border-right-alt:solid #282828 .5pt;\n",
    "  padding:0cm 5.4pt 0cm 5.4pt;height:20.0pt'>\n",
    "  <p class=MsoNormal><span style='font-size:17.0pt;font-family:\"Times New Roman\",serif;\n",
    "  mso-fareast-font-family:\"Times New Roman\";color:#343433'>95.57%±1.28</span><span\n",
    "  style='font-size:17.0pt;font-family:\"Times New Roman\",serif;mso-fareast-font-family:\n",
    "  \"Times New Roman\"'><o:p></o:p></span></p>\n",
    "  </td>\n",
    "  <td width=187 valign=top style='width:140.0pt;border-top:none;border-left:\n",
    "  none;border-bottom:solid #282828 1.0pt;border-right:solid #282828 1.0pt;\n",
    "  mso-border-bottom-alt:solid #282828 .5pt;mso-border-right-alt:solid #282828 .5pt;\n",
    "  padding:0cm 5.4pt 0cm 5.4pt;height:20.0pt'>\n",
    "  <p class=MsoNormal><span style='font-size:17.0pt;font-family:\"Times New Roman\",serif;\n",
    "  mso-fareast-font-family:\"Times New Roman\";color:#343433'>95.46%±1.38</span><span\n",
    "  style='font-size:17.0pt;font-family:\"Times New Roman\",serif;mso-fareast-font-family:\n",
    "  \"Times New Roman\"'><o:p></o:p></span></p>\n",
    "  </td>\n",
    "  <td width=187 valign=top style='width:140.0pt;border-top:none;border-left:\n",
    "  none;border-bottom:solid #282828 1.0pt;border-right:solid #282828 1.0pt;\n",
    "  mso-border-top-alt:solid #282828 .5pt;mso-border-top-alt:solid #282828 .5pt;\n",
    "  mso-border-bottom-alt:solid #282828 .5pt;mso-border-right-alt:solid #282828 .5pt;\n",
    "  padding:0cm 5.4pt 0cm 5.4pt;height:20.0pt'>\n",
    "  <p class=MsoNormal><span style='font-size:17.0pt;font-family:\"Times New Roman\",serif;\n",
    "  mso-fareast-font-family:\"Times New Roman\";color:#343433'>95.48%±1.26</span><span\n",
    "  style='font-size:17.0pt;font-family:\"Times New Roman\",serif;mso-fareast-font-family:\n",
    "  \"Times New Roman\"'><o:p></o:p></span></p>\n",
    "  </td>\n",
    "  <td width=187 valign=top style='width:140.0pt;border-top:none;border-left:\n",
    "  none;border-bottom:solid #282828 1.0pt;border-right:solid #282828 1.0pt;\n",
    "  mso-border-bottom-alt:solid #282828 .5pt;mso-border-right-alt:solid #282828 .5pt;\n",
    "  padding:0cm 5.4pt 0cm 5.4pt;height:20.0pt'>\n",
    "  <p class=MsoNormal><span style='font-size:17.0pt;font-family:\"Times New Roman\",serif;\n",
    "  mso-fareast-font-family:\"Times New Roman\";color:#343433'>94.59%±1.43</span><span\n",
    "  style='font-size:17.0pt;font-family:\"Times New Roman\",serif;mso-fareast-font-family:\n",
    "  \"Times New Roman\"'><o:p></o:p></span></p>\n",
    "  </td>\n",
    "  <td width=195 valign=top style='width:146.0pt;border-top:none;border-left:\n",
    "  none;border-bottom:solid #282828 1.0pt;border-right:solid #282828 1.0pt;\n",
    "  mso-border-bottom-alt:solid #282828 .5pt;mso-border-right-alt:solid #282828 .5pt;\n",
    "  padding:0cm 5.4pt 0cm 5.4pt;height:20.0pt'>\n",
    "  <p class=MsoNormal><span style='font-size:17.0pt;font-family:\"Times New Roman\",serif;\n",
    "  mso-fareast-font-family:\"Times New Roman\";color:#343433'>96.11%±1.20</span><span\n",
    "  style='font-size:17.0pt;font-family:\"Times New Roman\",serif;mso-fareast-font-family:\n",
    "  \"Times New Roman\"'><o:p></o:p></span></p>\n",
    "  </td>\n",
    " </tr>\n",
    " <tr style='mso-yfti-irow:23;height:20.0pt'>\n",
    "  <td width=177 valign=top style='width:133.0pt;border:solid #282828 1.0pt;\n",
    "  border-top:none;mso-border-left-alt:solid #282828 .5pt;mso-border-bottom-alt:\n",
    "  solid #282828 .5pt;mso-border-right-alt:solid #282828 .5pt;padding:0cm 5.4pt 0cm 5.4pt;\n",
    "  height:20.0pt'>\n",
    "  <p class=MsoNormal><span style='font-size:17.0pt;font-family:\"Times New Roman\",serif;\n",
    "  mso-fareast-font-family:\"Times New Roman\";color:#343433'>Teaching</span><span\n",
    "  style='font-size:17.0pt;font-family:\"Times New Roman\",serif;mso-fareast-font-family:\n",
    "  \"Times New Roman\"'><o:p></o:p></span></p>\n",
    "  </td>\n",
    "  <td width=169 valign=top style='width:127.0pt;border-top:none;border-left:\n",
    "  none;border-bottom:solid #282828 1.0pt;border-right:solid #282828 1.0pt;\n",
    "  mso-border-bottom-alt:solid #282828 .5pt;mso-border-right-alt:solid #282828 .5pt;\n",
    "  padding:0cm 5.4pt 0cm 5.4pt;height:20.0pt'>\n",
    "  <p class=MsoNormal><span style='font-size:17.0pt;font-family:\"Times New Roman\",serif;\n",
    "  mso-fareast-font-family:\"Times New Roman\";color:#343433'>63.55%±8.00</span><span\n",
    "  style='font-size:17.0pt;font-family:\"Times New Roman\",serif;mso-fareast-font-family:\n",
    "  \"Times New Roman\"'><o:p></o:p></span></p>\n",
    "  </td>\n",
    "  <td width=187 valign=top style='width:140.0pt;border-top:none;border-left:\n",
    "  none;border-bottom:solid #282828 1.0pt;border-right:solid #282828 1.0pt;\n",
    "  mso-border-bottom-alt:solid #282828 .5pt;mso-border-right-alt:solid #282828 .5pt;\n",
    "  padding:0cm 5.4pt 0cm 5.4pt;height:20.0pt'>\n",
    "  <p class=MsoNormal><span style='font-size:17.0pt;font-family:\"Times New Roman\",serif;\n",
    "  mso-fareast-font-family:\"Times New Roman\";color:#343433'>64.26%±14.15</span><span\n",
    "  style='font-size:17.0pt;font-family:\"Times New Roman\",serif;mso-fareast-font-family:\n",
    "  \"Times New Roman\"'><o:p></o:p></span></p>\n",
    "  </td>\n",
    "  <td width=187 valign=top style='width:140.0pt;border-top:none;border-left:\n",
    "  none;border-bottom:solid #282828 1.0pt;border-right:solid #282828 1.0pt;\n",
    "  mso-border-bottom-alt:solid #282828 .5pt;mso-border-right-alt:solid #282828 .5pt;\n",
    "  padding:0cm 5.4pt 0cm 5.4pt;height:20.0pt'>\n",
    "  <p class=MsoNormal><span style='font-size:17.0pt;font-family:\"Times New Roman\",serif;\n",
    "  mso-fareast-font-family:\"Times New Roman\";color:#343433'>65.51%±8.95</span><span\n",
    "  style='font-size:17.0pt;font-family:\"Times New Roman\",serif;mso-fareast-font-family:\n",
    "  \"Times New Roman\"'><o:p></o:p></span></p>\n",
    "  </td>\n",
    "  <td width=187 valign=top style='width:140.0pt;border-top:none;border-left:\n",
    "  none;border-bottom:solid #282828 1.0pt;border-right:solid #282828 1.0pt;\n",
    "  mso-border-top-alt:solid #282828 .5pt;mso-border-top-alt:solid #282828 .5pt;\n",
    "  mso-border-bottom-alt:solid #282828 .5pt;mso-border-right-alt:solid #282828 .5pt;\n",
    "  padding:0cm 5.4pt 0cm 5.4pt;height:20.0pt'>\n",
    "  <p class=MsoNormal><span style='font-size:17.0pt;font-family:\"Times New Roman\",serif;\n",
    "  mso-fareast-font-family:\"Times New Roman\";color:#343433'>63.41%±11.13</span><span\n",
    "  style='font-size:17.0pt;font-family:\"Times New Roman\",serif;mso-fareast-font-family:\n",
    "  \"Times New Roman\"'><o:p></o:p></span></p>\n",
    "  </td>\n",
    "  <td width=187 valign=top style='width:140.0pt;border-top:none;border-left:\n",
    "  none;border-bottom:solid #282828 1.0pt;border-right:solid #282828 1.0pt;\n",
    "  mso-border-bottom-alt:solid #282828 .5pt;mso-border-right-alt:solid #282828 .5pt;\n",
    "  padding:0cm 5.4pt 0cm 5.4pt;height:20.0pt'>\n",
    "  <p class=MsoNormal><span style='font-size:17.0pt;font-family:\"Times New Roman\",serif;\n",
    "  mso-fareast-font-family:\"Times New Roman\";color:#343433'>62.76%±7.38</span><span\n",
    "  style='font-size:17.0pt;font-family:\"Times New Roman\",serif;mso-fareast-font-family:\n",
    "  \"Times New Roman\"'><o:p></o:p></span></p>\n",
    "  </td>\n",
    "  <td width=195 valign=top style='width:146.0pt;border-top:none;border-left:\n",
    "  none;border-bottom:solid #282828 1.0pt;border-right:solid #282828 1.0pt;\n",
    "  mso-border-bottom-alt:solid #282828 .5pt;mso-border-right-alt:solid #282828 .5pt;\n",
    "  padding:0cm 5.4pt 0cm 5.4pt;height:20.0pt'>\n",
    "  <p class=MsoNormal><span style='font-size:17.0pt;font-family:\"Times New Roman\",serif;\n",
    "  mso-fareast-font-family:\"Times New Roman\";color:#343433'>68.75%±14.65</span><span\n",
    "  style='font-size:17.0pt;font-family:\"Times New Roman\",serif;mso-fareast-font-family:\n",
    "  \"Times New Roman\"'><o:p></o:p></span></p>\n",
    "  </td>\n",
    " </tr>\n",
    " <tr style='mso-yfti-irow:24;height:19.0pt'>\n",
    "  <td width=177 valign=top style='width:133.0pt;border:solid #282828 1.0pt;\n",
    "  border-top:none;mso-border-left-alt:solid #282828 .5pt;mso-border-bottom-alt:\n",
    "  solid #282828 .5pt;mso-border-right-alt:solid #282828 .5pt;padding:0cm 5.4pt 0cm 5.4pt;\n",
    "  height:19.0pt'>\n",
    "  <p class=MsoNormal><span style='font-size:17.0pt;font-family:\"Times New Roman\",serif;\n",
    "  mso-fareast-font-family:\"Times New Roman\";color:#343433'>Tic-tac-toe</span><span\n",
    "  style='font-size:17.0pt;font-family:\"Times New Roman\",serif;mso-fareast-font-family:\n",
    "  \"Times New Roman\"'><o:p></o:p></span></p>\n",
    "  </td>\n",
    "  <td width=169 valign=top style='width:127.0pt;border-top:none;border-left:\n",
    "  none;border-bottom:solid #282828 1.0pt;border-right:solid #282828 1.0pt;\n",
    "  mso-border-bottom-alt:solid #282828 .5pt;mso-border-right-alt:solid #282828 .5pt;\n",
    "  padding:0cm 5.4pt 0cm 5.4pt;height:19.0pt'>\n",
    "  <p class=MsoNormal><span style='font-size:17.0pt;font-family:\"Times New Roman\",serif;\n",
    "  mso-fareast-font-family:\"Times New Roman\";color:#343433'>96.56%±1.63</span><span\n",
    "  style='font-size:17.0pt;font-family:\"Times New Roman\",serif;mso-fareast-font-family:\n",
    "  \"Times New Roman\"'><o:p></o:p></span></p>\n",
    "  </td>\n",
    "  <td width=187 valign=top style='width:140.0pt;border-top:none;border-left:\n",
    "  none;border-bottom:solid #282828 1.0pt;border-right:solid #282828 1.0pt;\n",
    "  mso-border-bottom-alt:solid #282828 .5pt;mso-border-right-alt:solid #282828 .5pt;\n",
    "  padding:0cm 5.4pt 0cm 5.4pt;height:19.0pt'>\n",
    "  <p class=MsoNormal><span style='font-size:17.0pt;font-family:\"Times New Roman\",serif;\n",
    "  mso-fareast-font-family:\"Times New Roman\";color:#343433'>100.00%±0.00</span><span\n",
    "  style='font-size:17.0pt;font-family:\"Times New Roman\",serif;mso-fareast-font-family:\n",
    "  \"Times New Roman\"'><o:p></o:p></span></p>\n",
    "  </td>\n",
    "  <td width=187 valign=top style='width:140.0pt;border-top:none;border-left:\n",
    "  none;border-bottom:solid #282828 1.0pt;border-right:solid #282828 1.0pt;\n",
    "  mso-border-bottom-alt:solid #282828 .5pt;mso-border-right-alt:solid #282828 .5pt;\n",
    "  padding:0cm 5.4pt 0cm 5.4pt;height:19.0pt'>\n",
    "  <p class=MsoNormal><span style='font-size:17.0pt;font-family:\"Times New Roman\",serif;\n",
    "  mso-fareast-font-family:\"Times New Roman\";color:#343433'>95.52%±1.68</span><span\n",
    "  style='font-size:17.0pt;font-family:\"Times New Roman\",serif;mso-fareast-font-family:\n",
    "  \"Times New Roman\"'><o:p></o:p></span></p>\n",
    "  </td>\n",
    "  <td width=187 valign=top style='width:140.0pt;border-top:none;border-left:\n",
    "  none;border-bottom:solid #282828 1.0pt;border-right:solid #282828 1.0pt;\n",
    "  mso-border-top-alt:solid #282828 .5pt;mso-border-top-alt:solid #282828 .5pt;\n",
    "  mso-border-bottom-alt:solid #282828 .5pt;mso-border-right-alt:solid #282828 .5pt;\n",
    "  padding:0cm 5.4pt 0cm 5.4pt;height:19.0pt'>\n",
    "  <p class=MsoNormal><span style='font-size:17.0pt;font-family:\"Times New Roman\",serif;\n",
    "  mso-fareast-font-family:\"Times New Roman\";color:#343433'>95.62%±1.38</span><span\n",
    "  style='font-size:17.0pt;font-family:\"Times New Roman\",serif;mso-fareast-font-family:\n",
    "  \"Times New Roman\"'><o:p></o:p></span></p>\n",
    "  </td>\n",
    "  <td width=187 valign=top style='width:140.0pt;border-top:none;border-left:\n",
    "  none;border-bottom:solid #282828 1.0pt;border-right:solid #282828 1.0pt;\n",
    "  mso-border-bottom-alt:solid #282828 .5pt;mso-border-right-alt:solid #282828 .5pt;\n",
    "  padding:0cm 5.4pt 0cm 5.4pt;height:19.0pt'>\n",
    "  <p class=MsoNormal><span style='font-size:17.0pt;font-family:\"Times New Roman\",serif;\n",
    "  mso-fareast-font-family:\"Times New Roman\";color:#343433'>90.09%±2.77</span><span\n",
    "  style='font-size:17.0pt;font-family:\"Times New Roman\",serif;mso-fareast-font-family:\n",
    "  \"Times New Roman\"'><o:p></o:p></span></p>\n",
    "  </td>\n",
    "  <td width=195 valign=top style='width:146.0pt;border-top:none;border-left:\n",
    "  none;border-bottom:solid #282828 1.0pt;border-right:solid #282828 1.0pt;\n",
    "  mso-border-bottom-alt:solid #282828 .5pt;mso-border-right-alt:solid #282828 .5pt;\n",
    "  padding:0cm 5.4pt 0cm 5.4pt;height:19.0pt'>\n",
    "  <p class=MsoNormal><span style='font-size:17.0pt;font-family:\"Times New Roman\",serif;\n",
    "  mso-fareast-font-family:\"Times New Roman\";color:#343433'>100.00%±0.00</span><span\n",
    "  style='font-size:17.0pt;font-family:\"Times New Roman\",serif;mso-fareast-font-family:\n",
    "  \"Times New Roman\"'><o:p></o:p></span></p>\n",
    "  </td>\n",
    " </tr>\n",
    " <tr style='mso-yfti-irow:25;height:20.0pt'>\n",
    "  <td width=177 valign=top style='width:133.0pt;border:solid #282828 1.0pt;\n",
    "  border-top:none;mso-border-left-alt:solid #282828 .5pt;mso-border-bottom-alt:\n",
    "  solid #282828 .5pt;mso-border-right-alt:solid #282828 .5pt;padding:0cm 5.4pt 0cm 5.4pt;\n",
    "  height:20.0pt'>\n",
    "  <p class=MsoNormal><span style='font-size:17.0pt;font-family:\"Times New Roman\",serif;\n",
    "  mso-fareast-font-family:\"Times New Roman\";color:#343433'>Vehicle</span><span\n",
    "  style='font-size:17.0pt;font-family:\"Times New Roman\",serif;mso-fareast-font-family:\n",
    "  \"Times New Roman\"'><o:p></o:p></span></p>\n",
    "  </td>\n",
    "  <td width=169 valign=top style='width:127.0pt;border-top:none;border-left:\n",
    "  none;border-bottom:solid #282828 1.0pt;border-right:solid #282828 1.0pt;\n",
    "  mso-border-bottom-alt:solid #282828 .5pt;mso-border-right-alt:solid #282828 .5pt;\n",
    "  padding:0cm 5.4pt 0cm 5.4pt;height:20.0pt'>\n",
    "  <p class=MsoNormal><span style='font-size:17.0pt;font-family:\"Times New Roman\",serif;\n",
    "  mso-fareast-font-family:\"Times New Roman\";color:#343433'>78.74%±3.29</span><span\n",
    "  style='font-size:17.0pt;font-family:\"Times New Roman\",serif;mso-fareast-font-family:\n",
    "  \"Times New Roman\"'><o:p></o:p></span></p>\n",
    "  </td>\n",
    "  <td width=187 valign=top style='width:140.0pt;border-top:none;border-left:\n",
    "  none;border-bottom:solid #282828 1.0pt;border-right:solid #282828 1.0pt;\n",
    "  mso-border-bottom-alt:solid #282828 .5pt;mso-border-right-alt:solid #282828 .5pt;\n",
    "  padding:0cm 5.4pt 0cm 5.4pt;height:20.0pt'>\n",
    "  <p class=MsoNormal><span style='font-size:17.0pt;font-family:\"Times New Roman\",serif;\n",
    "  mso-fareast-font-family:\"Times New Roman\";color:#343433'>77.18%±2.31</span><span\n",
    "  style='font-size:17.0pt;font-family:\"Times New Roman\",serif;mso-fareast-font-family:\n",
    "  \"Times New Roman\"'><o:p></o:p></span></p>\n",
    "  </td>\n",
    "  <td width=187 valign=top style='width:140.0pt;border-top:none;border-left:\n",
    "  none;border-bottom:solid #282828 1.0pt;border-right:solid #282828 1.0pt;\n",
    "  mso-border-bottom-alt:solid #282828 .5pt;mso-border-right-alt:solid #282828 .5pt;\n",
    "  padding:0cm 5.4pt 0cm 5.4pt;height:20.0pt'>\n",
    "  <p class=MsoNormal><span style='font-size:17.0pt;font-family:\"Times New Roman\",serif;\n",
    "  mso-fareast-font-family:\"Times New Roman\";color:#343433'>74.50%±3.55</span><span\n",
    "  style='font-size:17.0pt;font-family:\"Times New Roman\",serif;mso-fareast-font-family:\n",
    "  \"Times New Roman\"'><o:p></o:p></span></p>\n",
    "  </td>\n",
    "  <td width=187 valign=top style='width:140.0pt;border-top:none;border-left:\n",
    "  none;border-bottom:solid #282828 1.0pt;border-right:solid #282828 1.0pt;\n",
    "  mso-border-top-alt:solid #282828 .5pt;mso-border-top-alt:solid #282828 .5pt;\n",
    "  mso-border-bottom-alt:solid #282828 .5pt;mso-border-right-alt:solid #282828 .5pt;\n",
    "  padding:0cm 5.4pt 0cm 5.4pt;height:20.0pt'>\n",
    "  <p class=MsoNormal><span style='font-size:17.0pt;font-family:\"Times New Roman\",serif;\n",
    "  mso-fareast-font-family:\"Times New Roman\";color:#343433'>74.13%±3.98</span><span\n",
    "  style='font-size:17.0pt;font-family:\"Times New Roman\",serif;mso-fareast-font-family:\n",
    "  \"Times New Roman\"'><o:p></o:p></span></p>\n",
    "  </td>\n",
    "  <td width=187 valign=top style='width:140.0pt;border-top:none;border-left:\n",
    "  none;border-bottom:solid #282828 1.0pt;border-right:solid #282828 1.0pt;\n",
    "  mso-border-bottom-alt:solid #282828 .5pt;mso-border-right-alt:solid #282828 .5pt;\n",
    "  padding:0cm 5.4pt 0cm 5.4pt;height:20.0pt'>\n",
    "  <p class=MsoNormal><span style='font-size:17.0pt;font-family:\"Times New Roman\",serif;\n",
    "  mso-fareast-font-family:\"Times New Roman\";color:#343433'>78.15%±1.89</span><span\n",
    "  style='font-size:17.0pt;font-family:\"Times New Roman\",serif;mso-fareast-font-family:\n",
    "  \"Times New Roman\"'><o:p></o:p></span></p>\n",
    "  </td>\n",
    "  <td width=195 valign=top style='width:146.0pt;border-top:none;border-left:\n",
    "  none;border-bottom:solid #282828 1.0pt;border-right:solid #282828 1.0pt;\n",
    "  mso-border-bottom-alt:solid #282828 .5pt;mso-border-right-alt:solid #282828 .5pt;\n",
    "  padding:0cm 5.4pt 0cm 5.4pt;height:20.0pt'>\n",
    "  <p class=MsoNormal><span style='font-size:17.0pt;font-family:\"Times New Roman\",serif;\n",
    "  mso-fareast-font-family:\"Times New Roman\";color:#343433'>77.79%±2.04</span><span\n",
    "  style='font-size:17.0pt;font-family:\"Times New Roman\",serif;mso-fareast-font-family:\n",
    "  \"Times New Roman\"'><o:p></o:p></span></p>\n",
    "  </td>\n",
    " </tr>\n",
    " <tr style='mso-yfti-irow:26;height:20.0pt'>\n",
    "  <td width=177 valign=top style='width:133.0pt;border:solid #282828 1.0pt;\n",
    "  border-top:none;mso-border-left-alt:solid #282828 .5pt;mso-border-bottom-alt:\n",
    "  solid #282828 .5pt;mso-border-right-alt:solid #282828 .5pt;padding:0cm 5.4pt 0cm 5.4pt;\n",
    "  height:20.0pt'>\n",
    "  <p class=MsoNormal><span style='font-size:17.0pt;font-family:\"Times New Roman\",serif;\n",
    "  mso-fareast-font-family:\"Times New Roman\";color:#343433'>Vowel</span><span\n",
    "  style='font-size:17.0pt;font-family:\"Times New Roman\",serif;mso-fareast-font-family:\n",
    "  \"Times New Roman\"'><o:p></o:p></span></p>\n",
    "  </td>\n",
    "  <td width=169 valign=top style='width:127.0pt;border-top:none;border-left:\n",
    "  none;border-bottom:solid #282828 1.0pt;border-right:solid #282828 1.0pt;\n",
    "  mso-border-bottom-alt:solid #282828 .5pt;mso-border-right-alt:solid #282828 .5pt;\n",
    "  padding:0cm 5.4pt 0cm 5.4pt;height:20.0pt'>\n",
    "  <p class=MsoNormal><span style='font-size:17.0pt;font-family:\"Times New Roman\",serif;\n",
    "  mso-fareast-font-family:\"Times New Roman\";color:#343433'>92.63%±3.53</span><span\n",
    "  style='font-size:17.0pt;font-family:\"Times New Roman\",serif;mso-fareast-font-family:\n",
    "  \"Times New Roman\"'><o:p></o:p></span></p>\n",
    "  </td>\n",
    "  <td width=187 valign=top style='width:140.0pt;border-top:none;border-left:\n",
    "  none;border-bottom:solid #282828 1.0pt;border-right:solid #282828 1.0pt;\n",
    "  mso-border-bottom-alt:solid #282828 .5pt;mso-border-right-alt:solid #282828 .5pt;\n",
    "  padding:0cm 5.4pt 0cm 5.4pt;height:20.0pt'>\n",
    "  <p class=MsoNormal><span style='font-size:17.0pt;font-family:\"Times New Roman\",serif;\n",
    "  mso-fareast-font-family:\"Times New Roman\";color:#343433'>95.86%±2.14</span><span\n",
    "  style='font-size:17.0pt;font-family:\"Times New Roman\",serif;mso-fareast-font-family:\n",
    "  \"Times New Roman\"'><o:p></o:p></span></p>\n",
    "  </td>\n",
    "  <td width=187 valign=top style='width:140.0pt;border-top:none;border-left:\n",
    "  none;border-bottom:solid #282828 1.0pt;border-right:solid #282828 1.0pt;\n",
    "  mso-border-bottom-alt:solid #282828 .5pt;mso-border-right-alt:solid #282828 .5pt;\n",
    "  padding:0cm 5.4pt 0cm 5.4pt;height:20.0pt'>\n",
    "  <p class=MsoNormal><span style='font-size:17.0pt;font-family:\"Times New Roman\",serif;\n",
    "  mso-fareast-font-family:\"Times New Roman\";color:#343433'>97.47%±1.37</span><span\n",
    "  style='font-size:17.0pt;font-family:\"Times New Roman\",serif;mso-fareast-font-family:\n",
    "  \"Times New Roman\"'><o:p></o:p></span></p>\n",
    "  </td>\n",
    "  <td width=187 valign=top style='width:140.0pt;border-top:none;border-left:\n",
    "  none;border-bottom:solid #282828 1.0pt;border-right:solid #282828 1.0pt;\n",
    "  mso-border-top-alt:solid #282828 .5pt;mso-border-top-alt:solid #282828 .5pt;\n",
    "  mso-border-bottom-alt:solid #282828 .5pt;mso-border-right-alt:solid #282828 .5pt;\n",
    "  padding:0cm 5.4pt 0cm 5.4pt;height:20.0pt'>\n",
    "  <p class=MsoNormal><span style='font-size:17.0pt;font-family:\"Times New Roman\",serif;\n",
    "  mso-fareast-font-family:\"Times New Roman\";color:#343433'>97.78%±1.68</span><span\n",
    "  style='font-size:17.0pt;font-family:\"Times New Roman\",serif;mso-fareast-font-family:\n",
    "  \"Times New Roman\"'><o:p></o:p></span></p>\n",
    "  </td>\n",
    "  <td width=187 valign=top style='width:140.0pt;border-top:none;border-left:\n",
    "  none;border-bottom:solid #282828 1.0pt;border-right:solid #282828 1.0pt;\n",
    "  mso-border-bottom-alt:solid #282828 .5pt;mso-border-right-alt:solid #282828 .5pt;\n",
    "  padding:0cm 5.4pt 0cm 5.4pt;height:20.0pt'>\n",
    "  <p class=MsoNormal><span style='font-size:17.0pt;font-family:\"Times New Roman\",serif;\n",
    "  mso-fareast-font-family:\"Times New Roman\";color:#343433'>93.23%±3.32</span><span\n",
    "  style='font-size:17.0pt;font-family:\"Times New Roman\",serif;mso-fareast-font-family:\n",
    "  \"Times New Roman\"'><o:p></o:p></span></p>\n",
    "  </td>\n",
    "  <td width=195 valign=top style='width:146.0pt;border-top:none;border-left:\n",
    "  none;border-bottom:solid #282828 1.0pt;border-right:solid #282828 1.0pt;\n",
    "  mso-border-bottom-alt:solid #282828 .5pt;mso-border-right-alt:solid #282828 .5pt;\n",
    "  padding:0cm 5.4pt 0cm 5.4pt;height:20.0pt'>\n",
    "  <p class=MsoNormal><span style='font-size:17.0pt;font-family:\"Times New Roman\",serif;\n",
    "  mso-fareast-font-family:\"Times New Roman\";color:#343433'>96.77%±2.01</span><span\n",
    "  style='font-size:17.0pt;font-family:\"Times New Roman\",serif;mso-fareast-font-family:\n",
    "  \"Times New Roman\"'><o:p></o:p></span></p>\n",
    "  </td>\n",
    " </tr>\n",
    " <tr style='mso-yfti-irow:27;height:20.0pt'>\n",
    "  <td width=177 valign=top style='width:133.0pt;border:solid #282828 1.0pt;\n",
    "  border-top:none;mso-border-left-alt:solid #282828 .5pt;mso-border-bottom-alt:\n",
    "  solid #282828 .5pt;mso-border-right-alt:solid #282828 .5pt;padding:0cm 5.4pt 0cm 5.4pt;\n",
    "  height:20.0pt'>\n",
    "  <p class=MsoNormal><span style='font-size:17.0pt;font-family:\"Times New Roman\",serif;\n",
    "  mso-fareast-font-family:\"Times New Roman\";color:#343433'>Waveform</span><span\n",
    "  style='font-size:17.0pt;font-family:\"Times New Roman\",serif;mso-fareast-font-family:\n",
    "  \"Times New Roman\"'><o:p></o:p></span></p>\n",
    "  </td>\n",
    "  <td width=169 valign=top style='width:127.0pt;border-top:none;border-left:\n",
    "  none;border-bottom:solid #282828 1.0pt;border-right:solid #282828 1.0pt;\n",
    "  mso-border-bottom-alt:solid #282828 .5pt;mso-border-right-alt:solid #282828 .5pt;\n",
    "  padding:0cm 5.4pt 0cm 5.4pt;height:20.0pt'>\n",
    "  <p class=MsoNormal><span style='font-size:17.0pt;font-family:\"Times New Roman\",serif;\n",
    "  mso-fareast-font-family:\"Times New Roman\";color:#343433'>85.72%±1.05</span><span\n",
    "  style='font-size:17.0pt;font-family:\"Times New Roman\",serif;mso-fareast-font-family:\n",
    "  \"Times New Roman\"'><o:p></o:p></span></p>\n",
    "  </td>\n",
    "  <td width=187 valign=top style='width:140.0pt;border-top:none;border-left:\n",
    "  none;border-bottom:solid #282828 1.0pt;border-right:solid #282828 1.0pt;\n",
    "  mso-border-bottom-alt:solid #282828 .5pt;mso-border-right-alt:solid #282828 .5pt;\n",
    "  padding:0cm 5.4pt 0cm 5.4pt;height:20.0pt'>\n",
    "  <p class=MsoNormal><span style='font-size:17.0pt;font-family:\"Times New Roman\",serif;\n",
    "  mso-fareast-font-family:\"Times New Roman\";color:#343433'>85.72%±1.77</span><span\n",
    "  style='font-size:17.0pt;font-family:\"Times New Roman\",serif;mso-fareast-font-family:\n",
    "  \"Times New Roman\"'><o:p></o:p></span></p>\n",
    "  </td>\n",
    "  <td width=187 valign=top style='width:140.0pt;border-top:none;border-left:\n",
    "  none;border-bottom:solid #282828 1.0pt;border-right:solid #282828 1.0pt;\n",
    "  mso-border-bottom-alt:solid #282828 .5pt;mso-border-right-alt:solid #282828 .5pt;\n",
    "  padding:0cm 5.4pt 0cm 5.4pt;height:20.0pt'>\n",
    "  <p class=MsoNormal><span style='font-size:17.0pt;font-family:\"Times New Roman\",serif;\n",
    "  mso-fareast-font-family:\"Times New Roman\";color:#343433'>85.42%±1.73</span><span\n",
    "  style='font-size:17.0pt;font-family:\"Times New Roman\",serif;mso-fareast-font-family:\n",
    "  \"Times New Roman\"'><o:p></o:p></span></p>\n",
    "  </td>\n",
    "  <td width=187 valign=top style='width:140.0pt;border-top:none;border-left:\n",
    "  none;border-bottom:solid #282828 1.0pt;border-right:solid #282828 1.0pt;\n",
    "  mso-border-top-alt:solid #282828 .5pt;mso-border-top-alt:solid #282828 .5pt;\n",
    "  mso-border-bottom-alt:solid #282828 .5pt;mso-border-right-alt:solid #282828 .5pt;\n",
    "  padding:0cm 5.4pt 0cm 5.4pt;height:20.0pt'>\n",
    "  <p class=MsoNormal><span style='font-size:17.0pt;font-family:\"Times New Roman\",serif;\n",
    "  mso-fareast-font-family:\"Times New Roman\";color:#343433'>85.62%±1.46</span><span\n",
    "  style='font-size:17.0pt;font-family:\"Times New Roman\",serif;mso-fareast-font-family:\n",
    "  \"Times New Roman\"'><o:p></o:p></span></p>\n",
    "  </td>\n",
    "  <td width=187 valign=top style='width:140.0pt;border-top:none;border-left:\n",
    "  none;border-bottom:solid #282828 1.0pt;border-right:solid #282828 1.0pt;\n",
    "  mso-border-bottom-alt:solid #282828 .5pt;mso-border-right-alt:solid #282828 .5pt;\n",
    "  padding:0cm 5.4pt 0cm 5.4pt;height:20.0pt'>\n",
    "  <p class=MsoNormal><span style='font-size:17.0pt;font-family:\"Times New Roman\",serif;\n",
    "  mso-fareast-font-family:\"Times New Roman\";color:#343433'>85.32%±0.85</span><span\n",
    "  style='font-size:17.0pt;font-family:\"Times New Roman\",serif;mso-fareast-font-family:\n",
    "  \"Times New Roman\"'><o:p></o:p></span></p>\n",
    "  </td>\n",
    "  <td width=195 valign=top style='width:146.0pt;border-top:none;border-left:\n",
    "  none;border-bottom:solid #282828 1.0pt;border-right:solid #282828 1.0pt;\n",
    "  mso-border-bottom-alt:solid #282828 .5pt;mso-border-right-alt:solid #282828 .5pt;\n",
    "  padding:0cm 5.4pt 0cm 5.4pt;height:20.0pt'>\n",
    "  <p class=MsoNormal><span style='font-size:17.0pt;font-family:\"Times New Roman\",serif;\n",
    "  mso-fareast-font-family:\"Times New Roman\";color:#343433'>85.86%±1.18</span><span\n",
    "  style='font-size:17.0pt;font-family:\"Times New Roman\",serif;mso-fareast-font-family:\n",
    "  \"Times New Roman\"'><o:p></o:p></span></p>\n",
    "  </td>\n",
    " </tr>\n",
    " <tr style='mso-yfti-irow:28;mso-yfti-lastrow:yes;height:20.0pt'>\n",
    "  <td width=177 valign=top style='width:133.0pt;border:solid #282828 1.0pt;\n",
    "  border-top:none;mso-border-left-alt:solid #282828 .5pt;mso-border-bottom-alt:\n",
    "  solid #282828 .5pt;mso-border-right-alt:solid #282828 .5pt;padding:0cm 5.4pt 0cm 5.4pt;\n",
    "  height:20.0pt'>\n",
    "  <p class=MsoNormal><span style='font-size:17.0pt;font-family:\"Times New Roman\",serif;\n",
    "  mso-fareast-font-family:\"Times New Roman\";color:#343433'>Wine</span><span\n",
    "  style='font-size:17.0pt;font-family:\"Times New Roman\",serif;mso-fareast-font-family:\n",
    "  \"Times New Roman\"'><o:p></o:p></span></p>\n",
    "  </td>\n",
    "  <td width=169 valign=top style='width:127.0pt;border-top:none;border-left:\n",
    "  none;border-bottom:solid #282828 1.0pt;border-right:solid #282828 1.0pt;\n",
    "  mso-border-bottom-alt:solid #282828 .5pt;mso-border-right-alt:solid #282828 .5pt;\n",
    "  padding:0cm 5.4pt 0cm 5.4pt;height:20.0pt'>\n",
    "  <p class=MsoNormal><span style='font-size:17.0pt;font-family:\"Times New Roman\",serif;\n",
    "  mso-fareast-font-family:\"Times New Roman\";color:#343433'>97.18%±2.83</span><span\n",
    "  style='font-size:17.0pt;font-family:\"Times New Roman\",serif;mso-fareast-font-family:\n",
    "  \"Times New Roman\"'><o:p></o:p></span></p>\n",
    "  </td>\n",
    "  <td width=187 valign=top style='width:140.0pt;border-top:none;border-left:\n",
    "  none;border-bottom:solid #282828 1.0pt;border-right:solid #282828 1.0pt;\n",
    "  mso-border-bottom-alt:solid #282828 .5pt;mso-border-right-alt:solid #282828 .5pt;\n",
    "  padding:0cm 5.4pt 0cm 5.4pt;height:20.0pt'>\n",
    "  <p class=MsoNormal><span style='font-size:17.0pt;font-family:\"Times New Roman\",serif;\n",
    "  mso-fareast-font-family:\"Times New Roman\";color:#343433'>98.82%±2.37</span><span\n",
    "  style='font-size:17.0pt;font-family:\"Times New Roman\",serif;mso-fareast-font-family:\n",
    "  \"Times New Roman\"'><o:p></o:p></span></p>\n",
    "  </td>\n",
    "  <td width=187 valign=top style='width:140.0pt;border-top:none;border-left:\n",
    "  none;border-bottom:solid #282828 1.0pt;border-right:solid #282828 1.0pt;\n",
    "  mso-border-bottom-alt:solid #282828 .5pt;mso-border-right-alt:solid #282828 .5pt;\n",
    "  padding:0cm 5.4pt 0cm 5.4pt;height:20.0pt'>\n",
    "  <p class=MsoNormal><span style='font-size:17.0pt;font-family:\"Times New Roman\",serif;\n",
    "  mso-fareast-font-family:\"Times New Roman\";color:#343433'>98.26%±2.66</span><span\n",
    "  style='font-size:17.0pt;font-family:\"Times New Roman\",serif;mso-fareast-font-family:\n",
    "  \"Times New Roman\"'><o:p></o:p></span></p>\n",
    "  </td>\n",
    "  <td width=187 valign=top style='width:140.0pt;border-top:none;border-left:\n",
    "  none;border-bottom:solid #282828 1.0pt;border-right:solid #282828 1.0pt;\n",
    "  mso-border-top-alt:solid #282828 .5pt;mso-border-top-alt:solid #282828 .5pt;\n",
    "  mso-border-bottom-alt:solid #282828 .5pt;mso-border-right-alt:solid #282828 .5pt;\n",
    "  padding:0cm 5.4pt 0cm 5.4pt;height:20.0pt'>\n",
    "  <p class=MsoNormal><span style='font-size:17.0pt;font-family:\"Times New Roman\",serif;\n",
    "  mso-fareast-font-family:\"Times New Roman\";color:#343433'>98.26%±2.66</span><span\n",
    "  style='font-size:17.0pt;font-family:\"Times New Roman\",serif;mso-fareast-font-family:\n",
    "  \"Times New Roman\"'><o:p></o:p></span></p>\n",
    "  </td>\n",
    "  <td width=187 valign=top style='width:140.0pt;border-top:none;border-left:\n",
    "  none;border-bottom:solid #282828 1.0pt;border-right:solid #282828 1.0pt;\n",
    "  mso-border-bottom-alt:solid #282828 .5pt;mso-border-right-alt:solid #282828 .5pt;\n",
    "  padding:0cm 5.4pt 0cm 5.4pt;height:20.0pt'>\n",
    "  <p class=MsoNormal><span style='font-size:17.0pt;font-family:\"Times New Roman\",serif;\n",
    "  mso-fareast-font-family:\"Times New Roman\";color:#343433'>97.74%±2.78</span><span\n",
    "  style='font-size:17.0pt;font-family:\"Times New Roman\",serif;mso-fareast-font-family:\n",
    "  \"Times New Roman\"'><o:p></o:p></span></p>\n",
    "  </td>\n",
    "  <td width=195 valign=top style='width:146.0pt;border-top:none;border-left:\n",
    "  none;border-bottom:solid #282828 1.0pt;border-right:solid #282828 1.0pt;\n",
    "  mso-border-bottom-alt:solid #282828 .5pt;mso-border-right-alt:solid #282828 .5pt;\n",
    "  padding:0cm 5.4pt 0cm 5.4pt;height:20.0pt'>\n",
    "  <p class=MsoNormal><span style='font-size:17.0pt;font-family:\"Times New Roman\",serif;\n",
    "  mso-fareast-font-family:\"Times New Roman\";color:#343433'>98.82%±2.37</span><span\n",
    "  style='font-size:17.0pt;font-family:\"Times New Roman\",serif;mso-fareast-font-family:\n",
    "  \"Times New Roman\"'><o:p></o:p></span></p>\n",
    "  </td>\n",
    " </tr>\n",
    "</table>\n",
    "\n",
    "<p class=MsoNormal><o:p>&nbsp;</o:p></p>\n",
    "\n",
    "</div>\n",
    "\n",
    "</body>\n",
    "\n",
    "</html>\n"
   ]
  },
  {
   "cell_type": "markdown",
   "metadata": {},
   "source": [
    "Gradient boosting is a family of algorithms; in the following optional  section, we will provide an overview but check out the following references for more info on Gradient boosting <a href=\"https://www.cs.cornell.edu/courses/cs4780/2018fa/lectures/lecturenote19.html?utm_medium=Exinfluencer&utm_source=Exinfluencer&utm_content=000026UJ&utm_term=10006555&utm_id=NA-SkillsNetwork-Channel-SkillsNetworkCoursesIBMML241ENSkillsNetwork31576874-2022-01-01\">\\[1] </a>, <a href=\"http://noiselab.ucsd.edu/ECE228/Murphy_Machine_Learning.pdf?utm_medium=Exinfluencer&utm_source=Exinfluencer&utm_content=000026UJ&utm_term=10006555&utm_id=NA-SkillsNetwork-Channel-SkillsNetworkCoursesIBMML241ENSkillsNetwork31576874-2022-01-01#page=585\">\\[2] </a>,<a href=\"https://arxiv.org/pdf/1603.02754.pdf?utm_medium=Exinfluencer&utm_source=Exinfluencer&utm_content=000026UJ&utm_term=10006555&utm_id=NA-SkillsNetwork-Channel-SkillsNetworkCoursesIBMML241ENSkillsNetwork31576874-2022-01-01\">\\[3]</a>.\n"
   ]
  },
  {
   "cell_type": "markdown",
   "metadata": {},
   "source": [
    "## **Table of Contents**\n",
    "\n",
    "​\n",
    "\n",
    "<!-- <a href=\"#Multi-Dimensional_Scaling\">Multi-Dimensional Scaling/a> -->\n",
    "\n",
    "<ol>\n",
    "<li style=\"list-style-type: none;\">\n",
    "<ol>\n",
    "<li>Objectives</li>\n",
    "<li>Setup\n",
    "<ol>\n",
    "<li>Installing Required Libraries&lt;</li>\n",
    "<li>Importing Required Libraries</li>\n",
    "<li>Defining Helper Functions</li>\n",
    "</ol>\n",
    "</li>\n",
    "<li>How  Gradient Boosting  Works (Optional)\n",
    "    <ol>\n",
    "    <li> How to Minimize Cost</li>\n",
    "    <li>  Example with Python </li>\n",
    "    </ol>\n",
    "\n",
    "<li>Xgboost<br />\n",
    "<ol>\n",
    "<li>About the dataset</li>\n",
    "<li>Gradient Boosting parameter</li>\n",
    " <li>Evaluation Metric on Second Dataset </li>\n",
    "    <li>Early Stopping </li>\n",
    "    <li>Parameters for Trees </li>\n",
    "\n",
    "</ol>\n",
    "</li>\n",
    "<li>Cancer Data Example with GridSearchCV</li>\n",
    "<li>Practice</li>\n",
    "</ol>\n",
    "</li>\n",
    "</ol>\n"
   ]
  },
  {
   "cell_type": "markdown",
   "metadata": {},
   "source": [
    "Let's first import the required libraries:\n"
   ]
  },
  {
   "cell_type": "code",
   "execution_count": 1,
   "metadata": {
    "tags": []
   },
   "outputs": [],
   "source": [
    "# All Libraries required for this lab are listed below. The libraries pre-installed on Skills Network Labs are commented.\n",
    "# !mamba install -qy pandas==1.3.3 numpy==1.21.2 ipywidgets==7.4.2 scipy==7.4.2 tqdm==4.62.3 matplotlib==3.5.0 seaborn==0.9.0\n",
    "# Note: If your environment doesn't support \"!mamba install\", use \"!pip install\""
   ]
  },
  {
   "cell_type": "markdown",
   "metadata": {},
   "source": [
    "## Objectives\n",
    "\n",
    "After completing this lab you will be able to:\n",
    "\n",
    "*   Understand   Gradient Boosting  is a linear combination of  𝑇 weak classifiers\n",
    "*   Apply Gradient Boosting using  XGBoost,\n",
    "*   Understand Hyperparameters selection in  XGBoost\n"
   ]
  },
  {
   "cell_type": "code",
   "execution_count": 2,
   "metadata": {
    "tags": []
   },
   "outputs": [
    {
     "name": "stderr",
     "output_type": "stream",
     "text": [
      "/home/jupyterlab/conda/envs/python/lib/python3.7/site-packages/sklearn/utils/validation.py:37: DeprecationWarning: distutils Version classes are deprecated. Use packaging.version instead.\n",
      "  LARGE_SPARSE_SUPPORTED = LooseVersion(scipy_version) >= '0.14.0'\n"
     ]
    }
   ],
   "source": [
    "import pandas as pd\n",
    "import pylab as plt\n",
    "import numpy as np\n",
    "import scipy.optimize as opt\n",
    "from sklearn import preprocessing\n",
    "%matplotlib inline \n",
    "import matplotlib.pyplot as plt\n",
    "from sklearn import metrics\n",
    "from sklearn.tree import DecisionTreeRegressor\n",
    "from tqdm import tqdm"
   ]
  },
  {
   "cell_type": "markdown",
   "metadata": {},
   "source": [
    "Ignore error warnings.\n"
   ]
  },
  {
   "cell_type": "code",
   "execution_count": 3,
   "metadata": {
    "tags": []
   },
   "outputs": [],
   "source": [
    "import warnings\n",
    "warnings.filterwarnings('ignore')"
   ]
  },
  {
   "cell_type": "markdown",
   "metadata": {},
   "source": [
    "This function will calculate the accuracy of the training and testing data given a model.\n"
   ]
  },
  {
   "cell_type": "code",
   "execution_count": 4,
   "metadata": {
    "tags": []
   },
   "outputs": [],
   "source": [
    "def get_accuracy(X_train, X_test, y_train, y_test, model):\n",
    "    return  {\"test Accuracy\":metrics.accuracy_score(y_test, model.predict(X_test)),\"train Accuracy\": metrics.accuracy_score(y_train, model.predict(X_train))}"
   ]
  },
  {
   "cell_type": "markdown",
   "metadata": {},
   "source": [
    "This function calculates the average accuracy of differnt learning rates on training and test data.\n"
   ]
  },
  {
   "cell_type": "code",
   "execution_count": 5,
   "metadata": {
    "tags": []
   },
   "outputs": [],
   "source": [
    "def get_accuracy_boost(X,y,title,times=20,xlabel='Number Estimators',Learning_rate_=[0.2,0.4,0.6,1], n_est = 100):\n",
    "\n",
    "    lines_array=['solid','--', '-.', ':']\n",
    "\n",
    "    N_estimators=[n*2 for n in range(1,n_est//2)]\n",
    "    \n",
    "    train_acc=np.zeros((times,len(Learning_rate_),len(N_estimators)))\n",
    "    test_acc=np.zeros((times,len(Learning_rate_),len(N_estimators)))\n",
    "\n",
    "\n",
    "    #Iterate through different number of Learning rate  and average out the results  \n",
    "    \n",
    "    for n in tqdm(range(times)):\n",
    "        X_train, X_test, y_train, y_test = train_test_split( X, y, test_size=0.3)\n",
    "        for n_estimators in N_estimators:\n",
    "            for j,lr in enumerate(Learning_rate_):\n",
    "\n",
    "\n",
    "                model = XGBClassifier(objective=objective,learning_rate=lr,n_estimators=n_estimators,eval_metric='mlogloss')\n",
    "\n",
    "\n",
    "                model.fit(X_train,y_train)\n",
    "\n",
    "\n",
    "\n",
    "                Accuracy=get_accuracy(X_train, X_test, y_train, y_test,  model)\n",
    "\n",
    "\n",
    "\n",
    "                train_acc[n,j,(n_estimators//2)-1]=Accuracy['train Accuracy']\n",
    "                test_acc[n,j,(n_estimators//2)-1]=Accuracy['test Accuracy']\n",
    "    \n",
    "\n",
    "\n",
    "\n",
    "    fig, ax1 = plt.subplots()\n",
    "    mean_test=test_acc.mean(axis=0)\n",
    "    mean_train=train_acc.mean(axis=0)\n",
    "    ax2 = ax1.twinx()\n",
    "\n",
    "    for j,(lr,line) in enumerate(zip(Learning_rate_,lines_array)): \n",
    "\n",
    "        ax1.plot(mean_train[j,:],linestyle = line,color='b',label=\"Learning rate \"+str(lr))\n",
    "        ax2.plot(mean_test[j,:],linestyle = line, color='r',label=str(lr))\n",
    "\n",
    "    ax1.set_ylabel('Training accuracy',color='b')\n",
    "    ax1.legend()\n",
    "    ax2.set_ylabel('Testing accuracy', color='r')\n",
    "    ax2.legend()\n",
    "    ax1.set_xlabel(xlabel)\n",
    "    plt.show()"
   ]
  },
  {
   "cell_type": "markdown",
   "metadata": {},
   "source": [
    "# Xgboost\n"
   ]
  },
  {
   "cell_type": "markdown",
   "metadata": {},
   "source": [
    "### About the dataset\n",
    "\n",
    "We will use a telecommunications dataset for predicting customer churn. This is a historical customer dataset where each row represents one customer. The data is relatively easy to understand, and you may uncover insights you can use immediately. Typically, it is less expensive to keep customers than to acquire new ones, so the focus of this analysis is to predict the customers who will stay with the company.\n",
    "\n",
    "This data set provides information to help you predict what behavior will help you to retain customers. You can analyze all relevant customer data and develop focused customer retention programs.\n",
    "\n",
    "The dataset includes information about:\n",
    "\n",
    "*   Customers who left within the last month – the column is called Churn\n",
    "*   Services that each customer has signed up for – phone, multiple lines, internet, online security, online backup, device protection, tech support, and streaming TV and movies\n",
    "*   Customer account information – how long they had been a customer, contract, payment method, paperless billing, monthly charges, and total charges\n",
    "*   Demographic info about customers – gender, age range, and if they have partners and dependents\n"
   ]
  },
  {
   "cell_type": "markdown",
   "metadata": {},
   "source": [
    "Load Data From CSV File.\n"
   ]
  },
  {
   "cell_type": "code",
   "execution_count": 6,
   "metadata": {
    "tags": []
   },
   "outputs": [
    {
     "data": {
      "text/html": [
       "<div>\n",
       "<style scoped>\n",
       "    .dataframe tbody tr th:only-of-type {\n",
       "        vertical-align: middle;\n",
       "    }\n",
       "\n",
       "    .dataframe tbody tr th {\n",
       "        vertical-align: top;\n",
       "    }\n",
       "\n",
       "    .dataframe thead th {\n",
       "        text-align: right;\n",
       "    }\n",
       "</style>\n",
       "<table border=\"1\" class=\"dataframe\">\n",
       "  <thead>\n",
       "    <tr style=\"text-align: right;\">\n",
       "      <th></th>\n",
       "      <th>tenure</th>\n",
       "      <th>age</th>\n",
       "      <th>address</th>\n",
       "      <th>income</th>\n",
       "      <th>ed</th>\n",
       "      <th>employ</th>\n",
       "      <th>equip</th>\n",
       "      <th>callcard</th>\n",
       "      <th>wireless</th>\n",
       "      <th>longmon</th>\n",
       "      <th>...</th>\n",
       "      <th>pager</th>\n",
       "      <th>internet</th>\n",
       "      <th>callwait</th>\n",
       "      <th>confer</th>\n",
       "      <th>ebill</th>\n",
       "      <th>loglong</th>\n",
       "      <th>logtoll</th>\n",
       "      <th>lninc</th>\n",
       "      <th>custcat</th>\n",
       "      <th>churn</th>\n",
       "    </tr>\n",
       "  </thead>\n",
       "  <tbody>\n",
       "    <tr>\n",
       "      <th>0</th>\n",
       "      <td>11.0</td>\n",
       "      <td>33.0</td>\n",
       "      <td>7.0</td>\n",
       "      <td>136.0</td>\n",
       "      <td>5.0</td>\n",
       "      <td>5.0</td>\n",
       "      <td>0.0</td>\n",
       "      <td>1.0</td>\n",
       "      <td>1.0</td>\n",
       "      <td>4.40</td>\n",
       "      <td>...</td>\n",
       "      <td>1.0</td>\n",
       "      <td>0.0</td>\n",
       "      <td>1.0</td>\n",
       "      <td>1.0</td>\n",
       "      <td>0.0</td>\n",
       "      <td>1.482</td>\n",
       "      <td>3.033</td>\n",
       "      <td>4.913</td>\n",
       "      <td>4.0</td>\n",
       "      <td>1.0</td>\n",
       "    </tr>\n",
       "    <tr>\n",
       "      <th>1</th>\n",
       "      <td>33.0</td>\n",
       "      <td>33.0</td>\n",
       "      <td>12.0</td>\n",
       "      <td>33.0</td>\n",
       "      <td>2.0</td>\n",
       "      <td>0.0</td>\n",
       "      <td>0.0</td>\n",
       "      <td>0.0</td>\n",
       "      <td>0.0</td>\n",
       "      <td>9.45</td>\n",
       "      <td>...</td>\n",
       "      <td>0.0</td>\n",
       "      <td>0.0</td>\n",
       "      <td>0.0</td>\n",
       "      <td>0.0</td>\n",
       "      <td>0.0</td>\n",
       "      <td>2.246</td>\n",
       "      <td>3.240</td>\n",
       "      <td>3.497</td>\n",
       "      <td>1.0</td>\n",
       "      <td>1.0</td>\n",
       "    </tr>\n",
       "    <tr>\n",
       "      <th>2</th>\n",
       "      <td>23.0</td>\n",
       "      <td>30.0</td>\n",
       "      <td>9.0</td>\n",
       "      <td>30.0</td>\n",
       "      <td>1.0</td>\n",
       "      <td>2.0</td>\n",
       "      <td>0.0</td>\n",
       "      <td>0.0</td>\n",
       "      <td>0.0</td>\n",
       "      <td>6.30</td>\n",
       "      <td>...</td>\n",
       "      <td>0.0</td>\n",
       "      <td>0.0</td>\n",
       "      <td>0.0</td>\n",
       "      <td>1.0</td>\n",
       "      <td>0.0</td>\n",
       "      <td>1.841</td>\n",
       "      <td>3.240</td>\n",
       "      <td>3.401</td>\n",
       "      <td>3.0</td>\n",
       "      <td>0.0</td>\n",
       "    </tr>\n",
       "    <tr>\n",
       "      <th>3</th>\n",
       "      <td>38.0</td>\n",
       "      <td>35.0</td>\n",
       "      <td>5.0</td>\n",
       "      <td>76.0</td>\n",
       "      <td>2.0</td>\n",
       "      <td>10.0</td>\n",
       "      <td>1.0</td>\n",
       "      <td>1.0</td>\n",
       "      <td>1.0</td>\n",
       "      <td>6.05</td>\n",
       "      <td>...</td>\n",
       "      <td>1.0</td>\n",
       "      <td>1.0</td>\n",
       "      <td>1.0</td>\n",
       "      <td>1.0</td>\n",
       "      <td>1.0</td>\n",
       "      <td>1.800</td>\n",
       "      <td>3.807</td>\n",
       "      <td>4.331</td>\n",
       "      <td>4.0</td>\n",
       "      <td>0.0</td>\n",
       "    </tr>\n",
       "    <tr>\n",
       "      <th>4</th>\n",
       "      <td>7.0</td>\n",
       "      <td>35.0</td>\n",
       "      <td>14.0</td>\n",
       "      <td>80.0</td>\n",
       "      <td>2.0</td>\n",
       "      <td>15.0</td>\n",
       "      <td>0.0</td>\n",
       "      <td>1.0</td>\n",
       "      <td>0.0</td>\n",
       "      <td>7.10</td>\n",
       "      <td>...</td>\n",
       "      <td>0.0</td>\n",
       "      <td>0.0</td>\n",
       "      <td>1.0</td>\n",
       "      <td>1.0</td>\n",
       "      <td>0.0</td>\n",
       "      <td>1.960</td>\n",
       "      <td>3.091</td>\n",
       "      <td>4.382</td>\n",
       "      <td>3.0</td>\n",
       "      <td>0.0</td>\n",
       "    </tr>\n",
       "  </tbody>\n",
       "</table>\n",
       "<p>5 rows × 28 columns</p>\n",
       "</div>"
      ],
      "text/plain": [
       "   tenure   age  address  income   ed  employ  equip  callcard  wireless  \\\n",
       "0    11.0  33.0      7.0   136.0  5.0     5.0    0.0       1.0       1.0   \n",
       "1    33.0  33.0     12.0    33.0  2.0     0.0    0.0       0.0       0.0   \n",
       "2    23.0  30.0      9.0    30.0  1.0     2.0    0.0       0.0       0.0   \n",
       "3    38.0  35.0      5.0    76.0  2.0    10.0    1.0       1.0       1.0   \n",
       "4     7.0  35.0     14.0    80.0  2.0    15.0    0.0       1.0       0.0   \n",
       "\n",
       "   longmon  ...  pager  internet  callwait  confer  ebill  loglong  logtoll  \\\n",
       "0     4.40  ...    1.0       0.0       1.0     1.0    0.0    1.482    3.033   \n",
       "1     9.45  ...    0.0       0.0       0.0     0.0    0.0    2.246    3.240   \n",
       "2     6.30  ...    0.0       0.0       0.0     1.0    0.0    1.841    3.240   \n",
       "3     6.05  ...    1.0       1.0       1.0     1.0    1.0    1.800    3.807   \n",
       "4     7.10  ...    0.0       0.0       1.0     1.0    0.0    1.960    3.091   \n",
       "\n",
       "   lninc  custcat  churn  \n",
       "0  4.913      4.0    1.0  \n",
       "1  3.497      1.0    1.0  \n",
       "2  3.401      3.0    0.0  \n",
       "3  4.331      4.0    0.0  \n",
       "4  4.382      3.0    0.0  \n",
       "\n",
       "[5 rows x 28 columns]"
      ]
     },
     "execution_count": 6,
     "metadata": {},
     "output_type": "execute_result"
    }
   ],
   "source": [
    "churn_df = pd.read_csv(\"https://cf-courses-data.s3.us.cloud-object-storage.appdomain.cloud/IBMDeveloperSkillsNetwork-ML0101EN-SkillsNetwork/labs/Module%203/data/ChurnData.csv\")\n",
    "\n",
    "churn_df.head()"
   ]
  },
  {
   "cell_type": "markdown",
   "metadata": {},
   "source": [
    "### Data pre-processing and selection\n"
   ]
  },
  {
   "cell_type": "markdown",
   "metadata": {},
   "source": [
    "Let's select some features for the modeling. Also, we change the target data type to be an integer, as it is a requirement by the skitlearn algorithm:\n"
   ]
  },
  {
   "cell_type": "code",
   "execution_count": 7,
   "metadata": {
    "tags": []
   },
   "outputs": [
    {
     "data": {
      "text/html": [
       "<div>\n",
       "<style scoped>\n",
       "    .dataframe tbody tr th:only-of-type {\n",
       "        vertical-align: middle;\n",
       "    }\n",
       "\n",
       "    .dataframe tbody tr th {\n",
       "        vertical-align: top;\n",
       "    }\n",
       "\n",
       "    .dataframe thead th {\n",
       "        text-align: right;\n",
       "    }\n",
       "</style>\n",
       "<table border=\"1\" class=\"dataframe\">\n",
       "  <thead>\n",
       "    <tr style=\"text-align: right;\">\n",
       "      <th></th>\n",
       "      <th>tenure</th>\n",
       "      <th>age</th>\n",
       "      <th>address</th>\n",
       "      <th>income</th>\n",
       "      <th>ed</th>\n",
       "      <th>employ</th>\n",
       "      <th>equip</th>\n",
       "      <th>callcard</th>\n",
       "      <th>wireless</th>\n",
       "      <th>churn</th>\n",
       "    </tr>\n",
       "  </thead>\n",
       "  <tbody>\n",
       "    <tr>\n",
       "      <th>0</th>\n",
       "      <td>11.0</td>\n",
       "      <td>33.0</td>\n",
       "      <td>7.0</td>\n",
       "      <td>136.0</td>\n",
       "      <td>5.0</td>\n",
       "      <td>5.0</td>\n",
       "      <td>0.0</td>\n",
       "      <td>1.0</td>\n",
       "      <td>1.0</td>\n",
       "      <td>1</td>\n",
       "    </tr>\n",
       "    <tr>\n",
       "      <th>1</th>\n",
       "      <td>33.0</td>\n",
       "      <td>33.0</td>\n",
       "      <td>12.0</td>\n",
       "      <td>33.0</td>\n",
       "      <td>2.0</td>\n",
       "      <td>0.0</td>\n",
       "      <td>0.0</td>\n",
       "      <td>0.0</td>\n",
       "      <td>0.0</td>\n",
       "      <td>1</td>\n",
       "    </tr>\n",
       "    <tr>\n",
       "      <th>2</th>\n",
       "      <td>23.0</td>\n",
       "      <td>30.0</td>\n",
       "      <td>9.0</td>\n",
       "      <td>30.0</td>\n",
       "      <td>1.0</td>\n",
       "      <td>2.0</td>\n",
       "      <td>0.0</td>\n",
       "      <td>0.0</td>\n",
       "      <td>0.0</td>\n",
       "      <td>0</td>\n",
       "    </tr>\n",
       "    <tr>\n",
       "      <th>3</th>\n",
       "      <td>38.0</td>\n",
       "      <td>35.0</td>\n",
       "      <td>5.0</td>\n",
       "      <td>76.0</td>\n",
       "      <td>2.0</td>\n",
       "      <td>10.0</td>\n",
       "      <td>1.0</td>\n",
       "      <td>1.0</td>\n",
       "      <td>1.0</td>\n",
       "      <td>0</td>\n",
       "    </tr>\n",
       "    <tr>\n",
       "      <th>4</th>\n",
       "      <td>7.0</td>\n",
       "      <td>35.0</td>\n",
       "      <td>14.0</td>\n",
       "      <td>80.0</td>\n",
       "      <td>2.0</td>\n",
       "      <td>15.0</td>\n",
       "      <td>0.0</td>\n",
       "      <td>1.0</td>\n",
       "      <td>0.0</td>\n",
       "      <td>0</td>\n",
       "    </tr>\n",
       "  </tbody>\n",
       "</table>\n",
       "</div>"
      ],
      "text/plain": [
       "   tenure   age  address  income   ed  employ  equip  callcard  wireless  \\\n",
       "0    11.0  33.0      7.0   136.0  5.0     5.0    0.0       1.0       1.0   \n",
       "1    33.0  33.0     12.0    33.0  2.0     0.0    0.0       0.0       0.0   \n",
       "2    23.0  30.0      9.0    30.0  1.0     2.0    0.0       0.0       0.0   \n",
       "3    38.0  35.0      5.0    76.0  2.0    10.0    1.0       1.0       1.0   \n",
       "4     7.0  35.0     14.0    80.0  2.0    15.0    0.0       1.0       0.0   \n",
       "\n",
       "   churn  \n",
       "0      1  \n",
       "1      1  \n",
       "2      0  \n",
       "3      0  \n",
       "4      0  "
      ]
     },
     "execution_count": 7,
     "metadata": {},
     "output_type": "execute_result"
    }
   ],
   "source": [
    "churn_df = churn_df[['tenure', 'age', 'address', 'income', 'ed', 'employ', 'equip',   'callcard', 'wireless','churn']]\n",
    "churn_df['churn'] = churn_df['churn'].astype('int')\n",
    "churn_df.head()"
   ]
  },
  {
   "cell_type": "markdown",
   "metadata": {},
   "source": [
    "#### Select Variables at Random\n"
   ]
  },
  {
   "cell_type": "markdown",
   "metadata": {},
   "source": [
    "Like Bagging RF uses, an independent bootstrap sample from the training data. In addition, we select $m$ variables at random out of all $M$ possible\n",
    "variables. Let's do an example.\n"
   ]
  },
  {
   "cell_type": "code",
   "execution_count": 8,
   "metadata": {
    "tags": []
   },
   "outputs": [],
   "source": [
    "X=churn_df[['tenure', 'age', 'address', 'income', 'ed', 'employ', 'equip']]"
   ]
  },
  {
   "cell_type": "markdown",
   "metadata": {},
   "source": [
    "There are 7 features.\n"
   ]
  },
  {
   "cell_type": "markdown",
   "metadata": {},
   "source": [
    "#### Train/Test dataset\n"
   ]
  },
  {
   "cell_type": "markdown",
   "metadata": {},
   "source": [
    "Let's define X, and y for our dataset:\n"
   ]
  },
  {
   "cell_type": "code",
   "execution_count": 9,
   "metadata": {
    "tags": []
   },
   "outputs": [
    {
     "data": {
      "text/plain": [
       "0    1\n",
       "1    1\n",
       "2    0\n",
       "3    0\n",
       "4    0\n",
       "Name: churn, dtype: int64"
      ]
     },
     "execution_count": 9,
     "metadata": {},
     "output_type": "execute_result"
    }
   ],
   "source": [
    "y = churn_df['churn']\n",
    "y.head()"
   ]
  },
  {
   "cell_type": "markdown",
   "metadata": {},
   "source": [
    "#### Train/Test dataset\n"
   ]
  },
  {
   "cell_type": "markdown",
   "metadata": {},
   "source": [
    "We split our dataset into train and test set:\n"
   ]
  },
  {
   "cell_type": "code",
   "execution_count": 10,
   "metadata": {
    "tags": []
   },
   "outputs": [
    {
     "name": "stdout",
     "output_type": "stream",
     "text": [
      "Train set (140, 7) (140,)\n",
      "Test set (60, 7) (60,)\n"
     ]
    }
   ],
   "source": [
    "from sklearn.model_selection import train_test_split\n",
    "X_train, X_test, y_train, y_test = train_test_split( X, y, test_size=0.3, random_state=1)\n",
    "print ('Train set', X_train.shape,  y_train.shape)\n",
    "print ('Test set', X_test.shape,  y_test.shape)"
   ]
  },
  {
   "cell_type": "markdown",
   "metadata": {},
   "source": [
    "### Gradient Boosting parameter\n"
   ]
  },
  {
   "cell_type": "markdown",
   "metadata": {},
   "source": [
    "We can import the XGB Classifier in XG Boost there are many parameters let's go over a few, for more info check out <a href=\"https://xgboost.readthedocs.io/en/stable/?utm_medium=Exinfluencer&utm_source=Exinfluencer&utm_content=000026UJ&utm_term=10006555&utm_id=NA-SkillsNetwork-Channel-SkillsNetworkCoursesIBMML241ENSkillsNetwork31576874-2022-01-01\"> here </a> you may need to install it:\n"
   ]
  },
  {
   "cell_type": "code",
   "execution_count": 11,
   "metadata": {
    "tags": []
   },
   "outputs": [
    {
     "name": "stdout",
     "output_type": "stream",
     "text": [
      "\n",
      "                  __    __    __    __\n",
      "                 /  \\  /  \\  /  \\  /  \\\n",
      "                /    \\/    \\/    \\/    \\\n",
      "███████████████/  /██/  /██/  /██/  /████████████████████████\n",
      "              /  / \\   / \\   / \\   / \\  \\____\n",
      "             /  /   \\_/   \\_/   \\_/   \\    o \\__,\n",
      "            / _/                       \\_____/  `\n",
      "            |/\n",
      "        ███╗   ███╗ █████╗ ███╗   ███╗██████╗  █████╗\n",
      "        ████╗ ████║██╔══██╗████╗ ████║██╔══██╗██╔══██╗\n",
      "        ██╔████╔██║███████║██╔████╔██║██████╔╝███████║\n",
      "        ██║╚██╔╝██║██╔══██║██║╚██╔╝██║██╔══██╗██╔══██║\n",
      "        ██║ ╚═╝ ██║██║  ██║██║ ╚═╝ ██║██████╔╝██║  ██║\n",
      "        ╚═╝     ╚═╝╚═╝  ╚═╝╚═╝     ╚═╝╚═════╝ ╚═╝  ╚═╝\n",
      "\n",
      "        mamba (1.4.2) supported by @QuantStack\n",
      "\n",
      "        GitHub:  https://github.com/mamba-org/mamba\n",
      "        Twitter: https://twitter.com/QuantStack\n",
      "\n",
      "█████████████████████████████████████████████████████████████\n",
      "\n",
      "\n",
      "Looking for: ['xgboost']\n",
      "\n",
      "\u001b[?25l\u001b[2K\u001b[0G[+] 0.0s\n",
      "pkgs/main/linux-64 \u001b[33m━━━━━━━╸\u001b[0m\u001b[90m━━━━━━━━━━━━━━━━━\u001b[0m   0.0 B /  ??.?MB @  ??.?MB/s  0.0s\u001b[2K\u001b[1A\u001b[2K\u001b[0G[+] 0.1s\n",
      "pkgs/main/linux-64 \u001b[33m━━━━━━━╸\u001b[0m\u001b[90m━━━━━━━━━━━━━━━━━\u001b[0m   0.0 B /  ??.?MB @  ??.?MB/s  0.1s\n",
      "pkgs/main/noarch   \u001b[33m━━━━━━━━╸\u001b[0m\u001b[90m━━━━━━━━━━━━━━━━\u001b[0m   0.0 B /  ??.?MB @  ??.?MB/s  0.1s\n",
      "pkgs/r/linux-64    \u001b[90m━━━━━━━━━━━━━━╸\u001b[0m\u001b[33m━━━━━━━━━━\u001b[0m   0.0 B /  ??.?MB @  ??.?MB/s  0.1s\n",
      "pkgs/r/noarch      \u001b[90m━━━━━━━━━━╸\u001b[0m\u001b[33m━━━━━━━━━━━━━━\u001b[0m   0.0 B /  ??.?MB @  ??.?MB/s  0.1s\u001b[2K\u001b[1A\u001b[2K\u001b[1A\u001b[2K\u001b[1A\u001b[2K\u001b[1A\u001b[2K\u001b[0Gpkgs/main/linux-64                                            No change\n",
      "pkgs/r/linux-64                                               No change\n",
      "pkgs/r/noarch                                                 No change\n",
      "pkgs/main/noarch                                              No change\n",
      "\u001b[?25h\n",
      "Pinned packages:\n",
      "  - python 3.7.*\n",
      "\n",
      "\n",
      "Transaction\n",
      "\n",
      "  Prefix: /home/jupyterlab/conda/envs/python\n",
      "\n",
      "  Updating specs:\n",
      "\n",
      "   - xgboost\n",
      "   - ca-certificates\n",
      "   - certifi\n",
      "   - openssl\n",
      "\n",
      "\n",
      "  Package              Version  Build           Channel                 Size\n",
      "──────────────────────────────────────────────────────────────────────────────\n",
      "  Install:\n",
      "──────────────────────────────────────────────────────────────────────────────\n",
      "\n",
      "  \u001b[32m+ _py-xgboost-mutex\u001b[0m      2.0  cpu_0           pkgs/main/linux-64       9kB\n",
      "  \u001b[32m+ libxgboost       \u001b[0m    1.5.1  h6a678d5_0      pkgs/main/linux-64       3MB\n",
      "  \u001b[32m+ py-xgboost       \u001b[0m    1.5.1  py37h06a4308_0  pkgs/main/linux-64     165kB\n",
      "  \u001b[32m+ xgboost          \u001b[0m    1.5.1  py37h06a4308_0  pkgs/main/linux-64      14kB\n",
      "\n",
      "  Summary:\n",
      "\n",
      "  Install: 4 packages\n",
      "\n",
      "  Total download: 4MB\n",
      "\n",
      "──────────────────────────────────────────────────────────────────────────────\n",
      "\n",
      "\n",
      "\u001b[?25l\u001b[2K\u001b[0G[+] 0.0s\n",
      "Downloading  (1) \u001b[90m━━━━━━━━━━━━━━━━━━━━━━━\u001b[0m   0.0 B _py-xgboost-mutex          0.0s\n",
      "Extracting       \u001b[90m━━━━━━━━━━━━━━━━━━━━━━━\u001b[0m       0                            0.0s\u001b[2K\u001b[1A\u001b[2K\u001b[1A\u001b[2K\u001b[0G[+] 0.1s\n",
      "Downloading  (4) \u001b[33m━━━━━━━━━━━━━━━━━━━━━━━\u001b[0m   0.0 B _py-xgboost-mutex          0.1s\n",
      "Extracting       \u001b[90m━━━━━━━━━━━━━━━━━━━━━━━\u001b[0m       0                            0.0s\u001b[2K\u001b[1A\u001b[2K\u001b[1A\u001b[2K\u001b[0G_py-xgboost-mutex                                    8.9kB @  64.1kB/s  0.1s\n",
      "xgboost                                             14.4kB @  98.1kB/s  0.1s\n",
      "py-xgboost                                         164.7kB @   1.0MB/s  0.2s\n",
      "[+] 0.2s\n",
      "Downloading  (1) ╸\u001b[33m━━━━━━━━━━━━━━━━━━━━━━\u001b[0m 187.9kB libxgboost                 0.2s\n",
      "Extracting   (3) \u001b[33m━━━━━━━━━━━━╸\u001b[0m\u001b[90m━━━━━━━━━━\u001b[0m       0 _py-xgboost-mutex          0.0s\u001b[2K\u001b[1A\u001b[2K\u001b[1A\u001b[2K\u001b[0Glibxgboost                                           3.4MB @  15.5MB/s  0.2s\n",
      "[+] 0.3s\n",
      "Downloading      ━━━━━━━━━━━━━━━━━━━━━━━   3.6MB                            0.3s\n",
      "Extracting   (4) \u001b[33m━━━━━━━━━━━━━╸\u001b[0m\u001b[90m━━━━━━━━━\u001b[0m       0 _py-xgboost-mutex          0.1s\u001b[2K\u001b[1A\u001b[2K\u001b[1A\u001b[2K\u001b[0G[+] 0.4s\n",
      "Downloading      ━━━━━━━━━━━━━━━━━━━━━━━   3.6MB                            0.3s\n",
      "Extracting   (4) \u001b[33m━━━━━━━━━━━━━━╸\u001b[0m\u001b[90m━━━━━━━━\u001b[0m       0 _py-xgboost-mutex          0.2s\u001b[2K\u001b[1A\u001b[2K\u001b[1A\u001b[2K\u001b[0G[+] 0.5s\n",
      "Downloading      ━━━━━━━━━━━━━━━━━━━━━━━   3.6MB                            0.3s\n",
      "Extracting   (4) \u001b[33m━━━━━━━━━━━━━━━╸\u001b[0m\u001b[90m━━━━━━━\u001b[0m       0 _py-xgboost-mutex          0.3s\u001b[2K\u001b[1A\u001b[2K\u001b[1A\u001b[2K\u001b[0G[+] 0.6s\n",
      "Downloading      ━━━━━━━━━━━━━━━━━━━━━━━   3.6MB                            0.3s\n",
      "Extracting   (4) \u001b[90m╸\u001b[0m\u001b[33m━━━━━━━━━━━━━━━╸\u001b[0m\u001b[90m━━━━━━\u001b[0m       0 libxgboost                 0.4s\u001b[2K\u001b[1A\u001b[2K\u001b[1A\u001b[2K\u001b[0G[+] 0.7s\n",
      "Downloading      ━━━━━━━━━━━━━━━━━━━━━━━   3.6MB                            0.3s\n",
      "Extracting   (4) \u001b[90m━╸\u001b[0m\u001b[33m━━━━━━━━━━━━━━━╸\u001b[0m\u001b[90m━━━━━\u001b[0m       0 libxgboost                 0.5s\u001b[2K\u001b[1A\u001b[2K\u001b[1A\u001b[2K\u001b[0G[+] 0.8s\n",
      "Downloading      ━━━━━━━━━━━━━━━━━━━━━━━   3.6MB                            0.3s\n",
      "Extracting   (4) \u001b[90m━━╸\u001b[0m\u001b[33m━━━━━━━━━━━━━━━╸\u001b[0m\u001b[90m━━━━\u001b[0m       0 libxgboost                 0.6s\u001b[2K\u001b[1A\u001b[2K\u001b[1A\u001b[2K\u001b[0G[+] 0.9s\n",
      "Downloading      ━━━━━━━━━━━━━━━━━━━━━━━   3.6MB                            0.3s\n",
      "Extracting   (4) \u001b[90m━━━━╸\u001b[0m\u001b[33m━━━━━━━━━━━━━━━╸\u001b[0m\u001b[90m━━\u001b[0m       0 libxgboost                 0.7s\u001b[2K\u001b[1A\u001b[2K\u001b[1A\u001b[2K\u001b[0G[+] 1.0s\n",
      "Downloading      ━━━━━━━━━━━━━━━━━━━━━━━   3.6MB                            0.3s\n",
      "Extracting   (4) \u001b[90m━━━━━╸\u001b[0m\u001b[33m━━━━━━━━━━━━━━━╸\u001b[0m\u001b[90m━\u001b[0m       0 py-xgboost                 0.8s\u001b[2K\u001b[1A\u001b[2K\u001b[1A\u001b[2K\u001b[0G[+] 1.1s\n",
      "Downloading      ━━━━━━━━━━━━━━━━━━━━━━━   3.6MB                            0.3s\n",
      "Extracting   (4) \u001b[90m━━━━━━╸\u001b[0m\u001b[33m━━━━━━━━━━━━━━━━\u001b[0m       0 py-xgboost                 0.9s\u001b[2K\u001b[1A\u001b[2K\u001b[1A\u001b[2K\u001b[0G[+] 1.2s\n",
      "Downloading      ━━━━━━━━━━━━━━━━━━━━━━━   3.6MB                            0.3s\n",
      "Extracting   (4) \u001b[90m━━━━━━━╸\u001b[0m\u001b[33m━━━━━━━━━━━━━━━\u001b[0m       0 py-xgboost                 1.0s\u001b[2K\u001b[1A\u001b[2K\u001b[1A\u001b[2K\u001b[0G[+] 1.3s\n",
      "Downloading      ━━━━━━━━━━━━━━━━━━━━━━━   3.6MB                            0.3s\n",
      "Extracting   (3) ━━━━╸\u001b[33m━━━━━━━━━━━━━━━━━━\u001b[0m       1 _py-xgboost-mutex          1.1s\u001b[2K\u001b[1A\u001b[2K\u001b[1A\u001b[2K\u001b[0G[+] 1.4s\n",
      "Downloading      ━━━━━━━━━━━━━━━━━━━━━━━   3.6MB                            0.3s\n",
      "Extracting   (1) ━━━━━━━━━━━━━━━━╸\u001b[33m━━━━━━\u001b[0m       3 libxgboost                 1.2s\u001b[2K\u001b[1A\u001b[2K\u001b[1A\u001b[2K\u001b[0G[+] 1.5s\n",
      "Downloading      ━━━━━━━━━━━━━━━━━━━━━━━   3.6MB                            0.3s\n",
      "Extracting       ━━━━━━━━━━━━━━━━━━━━━━━       4                            1.3s\u001b[2K\u001b[1A\u001b[2K\u001b[1A\u001b[2K\u001b[0G\u001b[?25h\n",
      "Downloading and Extracting Packages\n",
      "\n",
      "Preparing transaction: done\n",
      "Verifying transaction: done\n",
      "Executing transaction: done\n"
     ]
    }
   ],
   "source": [
    "!mamba install -y xgboost"
   ]
  },
  {
   "cell_type": "code",
   "execution_count": 12,
   "metadata": {
    "tags": []
   },
   "outputs": [],
   "source": [
    "from xgboost import XGBClassifier"
   ]
  },
  {
   "cell_type": "markdown",
   "metadata": {},
   "source": [
    "Let's go over  parameters independent of the  estimator.\n"
   ]
  },
  {
   "cell_type": "markdown",
   "metadata": {},
   "source": [
    "The parameter <code>n_estimators</code> Number of gradient boosted trees.  Equivalent to number of boosting rounds.\n"
   ]
  },
  {
   "cell_type": "code",
   "execution_count": 13,
   "metadata": {
    "tags": []
   },
   "outputs": [],
   "source": [
    "n_estimators=5"
   ]
  },
  {
   "cell_type": "markdown",
   "metadata": {},
   "source": [
    "`random_state` Random number seed\n"
   ]
  },
  {
   "cell_type": "code",
   "execution_count": 14,
   "metadata": {
    "tags": []
   },
   "outputs": [],
   "source": [
    "random_state=0"
   ]
  },
  {
   "cell_type": "markdown",
   "metadata": {},
   "source": [
    "`objective` :  Specify the learning task and the corresponding learning objective or a custom objective function to be used.\n",
    "For example:\n",
    "\n",
    "`binary:logistic`: binary classification\n",
    "\n",
    "`multi:softprob`:multi-class classification\n"
   ]
  },
  {
   "cell_type": "code",
   "execution_count": 15,
   "metadata": {
    "tags": []
   },
   "outputs": [],
   "source": [
    "objective='binary:logistic'"
   ]
  },
  {
   "cell_type": "markdown",
   "metadata": {},
   "source": [
    "`learning_rate` : Boosting learning rate, also called `eta`\n"
   ]
  },
  {
   "cell_type": "code",
   "execution_count": 17,
   "metadata": {
    "tags": []
   },
   "outputs": [],
   "source": [
    "learning_rate=0.1"
   ]
  },
  {
   "cell_type": "markdown",
   "metadata": {},
   "source": [
    "`verbosity`: The degree of verbosity or displacing progress of the  Valid values are 0 (silent) - 3 (debug).\n"
   ]
  },
  {
   "cell_type": "markdown",
   "metadata": {},
   "source": [
    "`n_jobs` : Number of parallel threads used to run xgboost. When used with other Scikit-Learn algorithms like grid search, you may choose which algorithm to parallelize and\n",
    "balance the threads. Creating thread contention will significantly slow down both algorithms.\n"
   ]
  },
  {
   "cell_type": "markdown",
   "metadata": {},
   "source": [
    "The `booster` parameter sets the type of learner, in this lab we will stick with trees. Let's experiment with some of the Gradient Boosting parameter:\n"
   ]
  },
  {
   "cell_type": "markdown",
   "metadata": {},
   "source": [
    "We can create a XGBClassifier object:\n"
   ]
  },
  {
   "cell_type": "code",
   "execution_count": 18,
   "metadata": {
    "tags": []
   },
   "outputs": [
    {
     "data": {
      "text/plain": [
       "XGBClassifier(base_score=None, booster=None, colsample_bylevel=None,\n",
       "       colsample_bynode=None, colsample_bytree=None,\n",
       "       enable_categorical=False, eval_metric='mlogloss', gamma=None,\n",
       "       gpu_id=None, importance_type=None, interaction_constraints=None,\n",
       "       learning_rate=0.1, max_delta_step=None, max_depth=None,\n",
       "       min_child_weight=None, missing=nan, monotone_constraints=None,\n",
       "       n_estimators=5, n_jobs=None, num_parallel_tree=None,\n",
       "       objective='binary:logistic', predictor=None, random_state=None,\n",
       "       reg_alpha=None, reg_lambda=None, scale_pos_weight=None,\n",
       "       subsample=None, tree_method=None, use_label_encoder=True,\n",
       "       validate_parameters=None, verbosity=None)"
      ]
     },
     "execution_count": 18,
     "metadata": {},
     "output_type": "execute_result"
    }
   ],
   "source": [
    "model =XGBClassifier(objective=objective,learning_rate=learning_rate,n_estimators=n_estimators,eval_metric='mlogloss')\n",
    "model "
   ]
  },
  {
   "cell_type": "markdown",
   "metadata": {},
   "source": [
    "We can view the parameter values as  data attributes:\n"
   ]
  },
  {
   "cell_type": "code",
   "execution_count": 19,
   "metadata": {
    "tags": []
   },
   "outputs": [
    {
     "name": "stdout",
     "output_type": "stream",
     "text": [
      "learning rate: 0.1\n",
      "lobjective: binary:logistic\n",
      "n_estimators: 5\n"
     ]
    }
   ],
   "source": [
    "print(\"learning rate:\", model.learning_rate)\n",
    "print(\"lobjective:\", model.objective)\n",
    "print(\"n_estimators:\", model.n_estimators)"
   ]
  },
  {
   "cell_type": "markdown",
   "metadata": {},
   "source": [
    "If the outputs were y is -1 and 1, the form of the classifier would be, but `xgboost` will convert it to the same as the label `y`\n"
   ]
  },
  {
   "cell_type": "markdown",
   "metadata": {},
   "source": [
    "$H(x) = \text{sign}(   h_1(x)+  h_2(x)+ h_3(x)+  h_4(x)+  h_5(x) )$\n"
   ]
  },
  {
   "cell_type": "markdown",
   "metadata": {},
   "source": [
    "Unlike AdaBoost there is not $\\alpha_t$, but there are some versions that have a similar term. We can fit all $H(x)$ and then make a prediction:\n"
   ]
  },
  {
   "cell_type": "code",
   "execution_count": 20,
   "metadata": {
    "tags": []
   },
   "outputs": [
    {
     "data": {
      "text/plain": [
       "array([0, 1, 0, 0, 0, 1, 1, 0, 1, 1, 0, 0, 0, 0, 0, 1, 0, 0, 1, 1, 0, 0,\n",
       "       1, 0, 0, 0, 1, 0, 0, 0, 1, 0, 0, 0, 0, 0, 1, 1, 0, 1, 1, 0, 0, 1,\n",
       "       1, 0, 1, 0, 0, 0, 0, 1, 0, 0, 1, 0, 0, 0, 0, 1])"
      ]
     },
     "execution_count": 20,
     "metadata": {},
     "output_type": "execute_result"
    }
   ],
   "source": [
    "model.fit(X_train, y_train)\n",
    "y_pred = model.predict(X_test)\n",
    "y_pred "
   ]
  },
  {
   "cell_type": "markdown",
   "metadata": {},
   "source": [
    "We can find the training and testing accuracy:\n"
   ]
  },
  {
   "cell_type": "code",
   "execution_count": 21,
   "metadata": {
    "tags": []
   },
   "outputs": [
    {
     "name": "stdout",
     "output_type": "stream",
     "text": [
      "{'test Accuracy': 0.6833333333333333, 'train Accuracy': 0.9214285714285714}\n"
     ]
    }
   ],
   "source": [
    "print(get_accuracy(X_train, X_test, y_train, y_test,  model))"
   ]
  },
  {
   "cell_type": "markdown",
   "metadata": {},
   "source": [
    "The learning rate is a hyperparameter. In this case we see by increasing the learning rate, we get better accuracy on the training and test data.\n"
   ]
  },
  {
   "cell_type": "code",
   "execution_count": 22,
   "metadata": {
    "tags": []
   },
   "outputs": [
    {
     "name": "stdout",
     "output_type": "stream",
     "text": [
      "[20:00:47] WARNING: /croot/xgboost-split_1675119646044/work/src/learner.cc:1115: Starting in XGBoost 1.3.0, the default evaluation metric used with the objective 'binary:logistic' was changed from 'error' to 'logloss'. Explicitly set eval_metric if you'd like to restore the old behavior.\n",
      "{'test Accuracy': 0.7333333333333333, 'train Accuracy': 0.9642857142857143}\n"
     ]
    }
   ],
   "source": [
    "learning_rate=0.3\n",
    "model =XGBClassifier(objective=objective,learning_rate=learning_rate,n_estimators=n_estimators)\n",
    "model.fit(X_train, y_train)\n",
    "print(get_accuracy(X_train, X_test, y_train, y_test,  model))"
   ]
  },
  {
   "cell_type": "markdown",
   "metadata": {},
   "source": [
    "This is unusual, usually a high learning rate causes overfitting. Another parameter is `n_estimators` and is the number of classifiers. Increasing the number of classifiers increases overfitting.\n"
   ]
  },
  {
   "cell_type": "code",
   "execution_count": 23,
   "metadata": {
    "tags": []
   },
   "outputs": [
    {
     "name": "stdout",
     "output_type": "stream",
     "text": [
      "[20:01:12] WARNING: /croot/xgboost-split_1675119646044/work/src/learner.cc:1115: Starting in XGBoost 1.3.0, the default evaluation metric used with the objective 'binary:logistic' was changed from 'error' to 'logloss'. Explicitly set eval_metric if you'd like to restore the old behavior.\n",
      "{'test Accuracy': 0.6666666666666666, 'train Accuracy': 1.0}\n"
     ]
    }
   ],
   "source": [
    "n_estimators=100\n",
    "model =XGBClassifier(objective=objective,learning_rate=learning_rate,n_estimators=n_estimators)\n",
    "model.fit(X_train, y_train)\n",
    "print(get_accuracy(X_train, X_test, y_train, y_test,  model))"
   ]
  },
  {
   "cell_type": "markdown",
   "metadata": {},
   "source": [
    "We can plot the relationship between  number of classifiers and learning rate.  We see that adding more weak classifiers and increasing the learning rate  causes overfitting, as the error on the test data increases.\n",
    "\n",
    "Note that the below code cell will take some time to run.\n"
   ]
  },
  {
   "cell_type": "code",
   "execution_count": 25,
   "metadata": {
    "tags": []
   },
   "outputs": [
    {
     "name": "stderr",
     "output_type": "stream",
     "text": [
      "100%|██████████| 10/10 [10:54<00:00, 65.44s/it]\n"
     ]
    },
    {
     "data": {
      "image/png": "[encoded data removed]",
      "text/plain": [
       "<Figure size 640x480 with 2 Axes>"
      ]
     },
     "metadata": {},
     "output_type": "display_data"
    }
   ],
   "source": [
    "get_accuracy_boost(X,y,title=\"Training and Test Accuracy vs Weak Classifiers\",times=10,xlabel='Number Estimators', n_est = 10)"
   ]
  },
  {
   "cell_type": "markdown",
   "metadata": {},
   "source": [
    "### Evaluation Metric on Second Dataset\n"
   ]
  },
  {
   "cell_type": "markdown",
   "metadata": {},
   "source": [
    "We can input a  `eval_metric`  parameter  in the `fit` method; this  determines how the model performs on each iteration using a second dataset; in XG Boost the metrics include:\n"
   ]
  },
  {
   "cell_type": "markdown",
   "metadata": {},
   "source": [
    "`logloss` : binary logarithmic loss\n",
    "\n",
    "`mlogloss` cross entropy loss\n",
    "\n",
    "`error` : number of misclassified samples\n",
    "\n",
    "`auc` : area under  ROC curve (receiver operating characteristic curve)\n",
    "\n",
    "We will use `error`:\n"
   ]
  },
  {
   "cell_type": "code",
   "execution_count": 26,
   "metadata": {
    "tags": []
   },
   "outputs": [],
   "source": [
    "eval_metric=\"error\""
   ]
  },
  {
   "cell_type": "markdown",
   "metadata": {},
   "source": [
    "The validation data must be a list `eval_set`: the list  contains a tuple, the first element of the tuple must be the features, the second must be the labels:\n"
   ]
  },
  {
   "cell_type": "code",
   "execution_count": 27,
   "metadata": {
    "tags": []
   },
   "outputs": [],
   "source": [
    "eval_set = [(X_test, y_test)]"
   ]
  },
  {
   "cell_type": "markdown",
   "metadata": {},
   "source": [
    "When we fit the model, we input all the Hyperparameter   we set  `verbose=True` to display the results for each epoch.\n"
   ]
  },
  {
   "cell_type": "code",
   "execution_count": 28,
   "metadata": {
    "tags": []
   },
   "outputs": [
    {
     "name": "stdout",
     "output_type": "stream",
     "text": [
      "[0]\tvalidation_0-error:0.25000\n",
      "[1]\tvalidation_0-error:0.28333\n",
      "[2]\tvalidation_0-error:0.30000\n",
      "[3]\tvalidation_0-error:0.28333\n",
      "[4]\tvalidation_0-error:0.26667\n",
      "[5]\tvalidation_0-error:0.26667\n",
      "[6]\tvalidation_0-error:0.30000\n",
      "[7]\tvalidation_0-error:0.28333\n",
      "[8]\tvalidation_0-error:0.28333\n",
      "[9]\tvalidation_0-error:0.30000\n",
      "[10]\tvalidation_0-error:0.30000\n",
      "[11]\tvalidation_0-error:0.28333\n",
      "[12]\tvalidation_0-error:0.30000\n",
      "[13]\tvalidation_0-error:0.26667\n",
      "[14]\tvalidation_0-error:0.28333\n",
      "[15]\tvalidation_0-error:0.28333\n",
      "[16]\tvalidation_0-error:0.28333\n",
      "[17]\tvalidation_0-error:0.28333\n",
      "[18]\tvalidation_0-error:0.28333\n",
      "[19]\tvalidation_0-error:0.28333\n",
      "[20]\tvalidation_0-error:0.30000\n",
      "[21]\tvalidation_0-error:0.28333\n",
      "[22]\tvalidation_0-error:0.30000\n",
      "[23]\tvalidation_0-error:0.30000\n",
      "[24]\tvalidation_0-error:0.30000\n",
      "[25]\tvalidation_0-error:0.28333\n",
      "[26]\tvalidation_0-error:0.28333\n",
      "[27]\tvalidation_0-error:0.28333\n",
      "[28]\tvalidation_0-error:0.28333\n",
      "[29]\tvalidation_0-error:0.28333\n",
      "[30]\tvalidation_0-error:0.28333\n",
      "[31]\tvalidation_0-error:0.28333\n",
      "[32]\tvalidation_0-error:0.28333\n",
      "[33]\tvalidation_0-error:0.30000\n",
      "[34]\tvalidation_0-error:0.31667\n",
      "[35]\tvalidation_0-error:0.30000\n",
      "[36]\tvalidation_0-error:0.30000\n",
      "[37]\tvalidation_0-error:0.30000\n",
      "[38]\tvalidation_0-error:0.28333\n",
      "[39]\tvalidation_0-error:0.30000\n",
      "[40]\tvalidation_0-error:0.31667\n",
      "[41]\tvalidation_0-error:0.30000\n",
      "[42]\tvalidation_0-error:0.28333\n",
      "[43]\tvalidation_0-error:0.31667\n",
      "[44]\tvalidation_0-error:0.30000\n",
      "[45]\tvalidation_0-error:0.31667\n",
      "[46]\tvalidation_0-error:0.31667\n",
      "[47]\tvalidation_0-error:0.30000\n",
      "[48]\tvalidation_0-error:0.30000\n",
      "[49]\tvalidation_0-error:0.30000\n",
      "[50]\tvalidation_0-error:0.30000\n",
      "[51]\tvalidation_0-error:0.30000\n",
      "[52]\tvalidation_0-error:0.30000\n",
      "[53]\tvalidation_0-error:0.30000\n",
      "[54]\tvalidation_0-error:0.30000\n",
      "[55]\tvalidation_0-error:0.30000\n",
      "[56]\tvalidation_0-error:0.31667\n",
      "[57]\tvalidation_0-error:0.30000\n",
      "[58]\tvalidation_0-error:0.30000\n",
      "[59]\tvalidation_0-error:0.30000\n",
      "[60]\tvalidation_0-error:0.31667\n",
      "[61]\tvalidation_0-error:0.31667\n",
      "[62]\tvalidation_0-error:0.31667\n",
      "[63]\tvalidation_0-error:0.31667\n",
      "[64]\tvalidation_0-error:0.31667\n",
      "[65]\tvalidation_0-error:0.31667\n",
      "[66]\tvalidation_0-error:0.31667\n",
      "[67]\tvalidation_0-error:0.31667\n",
      "[68]\tvalidation_0-error:0.31667\n",
      "[69]\tvalidation_0-error:0.31667\n",
      "[70]\tvalidation_0-error:0.31667\n",
      "[71]\tvalidation_0-error:0.31667\n",
      "[72]\tvalidation_0-error:0.31667\n",
      "[73]\tvalidation_0-error:0.31667\n",
      "[74]\tvalidation_0-error:0.31667\n",
      "[75]\tvalidation_0-error:0.31667\n",
      "[76]\tvalidation_0-error:0.31667\n",
      "[77]\tvalidation_0-error:0.31667\n",
      "[78]\tvalidation_0-error:0.31667\n",
      "[79]\tvalidation_0-error:0.31667\n",
      "[80]\tvalidation_0-error:0.31667\n",
      "[81]\tvalidation_0-error:0.31667\n",
      "[82]\tvalidation_0-error:0.31667\n",
      "[83]\tvalidation_0-error:0.31667\n",
      "[84]\tvalidation_0-error:0.30000\n",
      "[85]\tvalidation_0-error:0.31667\n",
      "[86]\tvalidation_0-error:0.30000\n",
      "[87]\tvalidation_0-error:0.30000\n",
      "[88]\tvalidation_0-error:0.31667\n",
      "[89]\tvalidation_0-error:0.31667\n",
      "[90]\tvalidation_0-error:0.33333\n",
      "[91]\tvalidation_0-error:0.31667\n",
      "[92]\tvalidation_0-error:0.33333\n",
      "[93]\tvalidation_0-error:0.33333\n",
      "[94]\tvalidation_0-error:0.33333\n",
      "[95]\tvalidation_0-error:0.31667\n",
      "[96]\tvalidation_0-error:0.33333\n",
      "[97]\tvalidation_0-error:0.33333\n",
      "[98]\tvalidation_0-error:0.33333\n",
      "[99]\tvalidation_0-error:0.33333\n"
     ]
    },
    {
     "data": {
      "text/plain": [
       "XGBClassifier(base_score=0.5, booster='gbtree', colsample_bylevel=1,\n",
       "       colsample_bynode=1, colsample_bytree=1, enable_categorical=False,\n",
       "       gamma=0, gpu_id=-1, importance_type=None,\n",
       "       interaction_constraints='', learning_rate=0.3, max_delta_step=0,\n",
       "       max_depth=6, min_child_weight=1, missing=nan,\n",
       "       monotone_constraints='()', n_estimators=100, n_jobs=8,\n",
       "       num_parallel_tree=1, objective='binary:logistic', predictor='auto',\n",
       "       random_state=0, reg_alpha=0, reg_lambda=1, scale_pos_weight=1,\n",
       "       subsample=1, tree_method='exact', use_label_encoder=True,\n",
       "       validate_parameters=1, verbosity=None)"
      ]
     },
     "execution_count": 28,
     "metadata": {},
     "output_type": "execute_result"
    }
   ],
   "source": [
    "model.fit(X_train, y_train, eval_metric=eval_metric, eval_set=eval_set, verbose=True)"
   ]
  },
  {
   "cell_type": "markdown",
   "metadata": {},
   "source": [
    "We can obtain the result for each iteration as a Python `dict` .`validation_0` is the label for dataset we input; this contains a nested dictionary. The nested dictionary's key is the type of metric; the values is a list that includes the value of the metric used for each epoch.\n"
   ]
  },
  {
   "cell_type": "code",
   "execution_count": 29,
   "metadata": {
    "tags": []
   },
   "outputs": [
    {
     "name": "stdout",
     "output_type": "stream",
     "text": [
      "{'validation_0': OrderedDict([('error', [0.25, 0.283333, 0.3, 0.283333, 0.266667, 0.266667, 0.3, 0.283333, 0.283333, 0.3, 0.3, 0.283333, 0.3, 0.266667, 0.283333, 0.283333, 0.283333, 0.283333, 0.283333, 0.283333, 0.3, 0.283333, 0.3, 0.3, 0.3, 0.283333, 0.283333, 0.283333, 0.283333, 0.283333, 0.283333, 0.283333, 0.283333, 0.3, 0.316667, 0.3, 0.3, 0.3, 0.283333, 0.3, 0.316667, 0.3, 0.283333, 0.316667, 0.3, 0.316667, 0.316667, 0.3, 0.3, 0.3, 0.3, 0.3, 0.3, 0.3, 0.3, 0.3, 0.316667, 0.3, 0.3, 0.3, 0.316667, 0.316667, 0.316667, 0.316667, 0.316667, 0.316667, 0.316667, 0.316667, 0.316667, 0.316667, 0.316667, 0.316667, 0.316667, 0.316667, 0.316667, 0.316667, 0.316667, 0.316667, 0.316667, 0.316667, 0.316667, 0.316667, 0.316667, 0.316667, 0.3, 0.316667, 0.3, 0.3, 0.316667, 0.316667, 0.333333, 0.316667, 0.333333, 0.333333, 0.333333, 0.316667, 0.333333, 0.333333, 0.333333, 0.333333])])}\n"
     ]
    }
   ],
   "source": [
    "results = model.evals_result()\n",
    "print(results)"
   ]
  },
  {
   "cell_type": "markdown",
   "metadata": {},
   "source": [
    "We can plot the results for each epoch, we see the test error increases.\n"
   ]
  },
  {
   "cell_type": "code",
   "execution_count": 30,
   "metadata": {
    "tags": []
   },
   "outputs": [
    {
     "data": {
      "text/plain": [
       "Text(0, 0.5, 'Misclassified Samples')"
      ]
     },
     "execution_count": 30,
     "metadata": {},
     "output_type": "execute_result"
    },
    {
     "data": {
      "image/png": "[encoded data removed]",
      "text/plain": [
       "<Figure size 640x480 with 1 Axes>"
      ]
     },
     "metadata": {},
     "output_type": "display_data"
    }
   ],
   "source": [
    "plt.plot(range(0, len(results['validation_0']['error'])), results['validation_0']['error'])\n",
    "plt.xlabel('iterations')\n",
    "plt.ylabel('Misclassified Samples')"
   ]
  },
  {
   "cell_type": "markdown",
   "metadata": {},
   "source": [
    "We can input multiple datasets, for example we can input the training and test data and use the metric `logloss`.\n"
   ]
  },
  {
   "cell_type": "code",
   "execution_count": 31,
   "metadata": {
    "tags": []
   },
   "outputs": [],
   "source": [
    "eval_metric='logloss'\n",
    "eval_set = [(X_train, y_train), (X_test, y_test)]\n",
    "model.fit(X_train, y_train, eval_metric=eval_metric, eval_set=eval_set,verbose=False)\n",
    "results=model.evals_result()"
   ]
  },
  {
   "cell_type": "markdown",
   "metadata": {},
   "source": [
    "The dict  contains two elements the loss for the training and testing data, we display  the keys :\n"
   ]
  },
  {
   "cell_type": "code",
   "execution_count": 32,
   "metadata": {
    "tags": []
   },
   "outputs": [
    {
     "data": {
      "text/plain": [
       "dict_keys(['validation_0', 'validation_1'])"
      ]
     },
     "execution_count": 32,
     "metadata": {},
     "output_type": "execute_result"
    }
   ],
   "source": [
    "results.keys()"
   ]
  },
  {
   "cell_type": "markdown",
   "metadata": {},
   "source": [
    "We can plot the error here for each epoch.\n"
   ]
  },
  {
   "cell_type": "code",
   "execution_count": 33,
   "metadata": {
    "tags": []
   },
   "outputs": [
    {
     "data": {
      "image/png": "[encoded data removed]",
      "text/plain": [
       "<Figure size 640x480 with 1 Axes>"
      ]
     },
     "metadata": {},
     "output_type": "display_data"
    }
   ],
   "source": [
    "fig, ax = plt.subplots()\n",
    "ax.plot( results['validation_0']['logloss'], label='Train')\n",
    "ax.plot( results['validation_1']['logloss'], label='Test/Validation')\n",
    "ax.legend()\n",
    "plt.show()"
   ]
  },
  {
   "cell_type": "markdown",
   "metadata": {},
   "source": [
    "We see that the training error decreases for each epoch in blue, but the validation error flattens then increases; this is a sign of overfitting. We can reduce this by early stopping.\n"
   ]
  },
  {
   "cell_type": "markdown",
   "metadata": {},
   "source": [
    "#### Early Stopping\n"
   ]
  },
  {
   "cell_type": "markdown",
   "metadata": {},
   "source": [
    "Early Stopping is a way to prevent overfitting; we stop gradient descent based on a specified number of epochs over which no improvement is observed using the evaluation set . The input parameter is  `early_stopping_rounds`.\n"
   ]
  },
  {
   "cell_type": "code",
   "execution_count": 34,
   "metadata": {
    "tags": []
   },
   "outputs": [],
   "source": [
    "early_stopping_rounds=10"
   ]
  },
  {
   "cell_type": "markdown",
   "metadata": {},
   "source": [
    "We train the model:\n"
   ]
  },
  {
   "cell_type": "code",
   "execution_count": 35,
   "metadata": {
    "tags": []
   },
   "outputs": [
    {
     "name": "stdout",
     "output_type": "stream",
     "text": [
      "[0]\tvalidation_0-logloss:0.61624\n",
      "[1]\tvalidation_0-logloss:0.58189\n",
      "[2]\tvalidation_0-logloss:0.55580\n",
      "[3]\tvalidation_0-logloss:0.53902\n",
      "[4]\tvalidation_0-logloss:0.52394\n",
      "[5]\tvalidation_0-logloss:0.51934\n",
      "[6]\tvalidation_0-logloss:0.50572\n",
      "[7]\tvalidation_0-logloss:0.51177\n",
      "[8]\tvalidation_0-logloss:0.51186\n",
      "[9]\tvalidation_0-logloss:0.50799\n",
      "[10]\tvalidation_0-logloss:0.50859\n",
      "[11]\tvalidation_0-logloss:0.50742\n",
      "[12]\tvalidation_0-logloss:0.51383\n",
      "[13]\tvalidation_0-logloss:0.52053\n",
      "[14]\tvalidation_0-logloss:0.53418\n",
      "[15]\tvalidation_0-logloss:0.52254\n"
     ]
    },
    {
     "data": {
      "text/plain": [
       "XGBClassifier(base_score=0.5, booster='gbtree', colsample_bylevel=1,\n",
       "       colsample_bynode=1, colsample_bytree=1, enable_categorical=False,\n",
       "       gamma=0, gpu_id=-1, importance_type=None,\n",
       "       interaction_constraints='', learning_rate=0.3, max_delta_step=0,\n",
       "       max_depth=6, min_child_weight=1, missing=nan,\n",
       "       monotone_constraints='()', n_estimators=100, n_jobs=8,\n",
       "       num_parallel_tree=1, objective='binary:logistic', predictor='auto',\n",
       "       random_state=0, reg_alpha=0, reg_lambda=1, scale_pos_weight=1,\n",
       "       subsample=1, tree_method='exact', use_label_encoder=True,\n",
       "       validate_parameters=1, verbosity=None)"
      ]
     },
     "execution_count": 35,
     "metadata": {},
     "output_type": "execute_result"
    }
   ],
   "source": [
    "eval_set = [(X_test, y_test)]\n",
    "eval_metric='logloss'\n",
    "model.fit(X_train, y_train, eval_metric=eval_metric, eval_set=eval_set, verbose=True,early_stopping_rounds=early_stopping_rounds)"
   ]
  },
  {
   "cell_type": "markdown",
   "metadata": {},
   "source": [
    "We see the model does better for the same Hyperparamters values.\n"
   ]
  },
  {
   "cell_type": "code",
   "execution_count": 36,
   "metadata": {
    "tags": []
   },
   "outputs": [
    {
     "name": "stdout",
     "output_type": "stream",
     "text": [
      "{'test Accuracy': 0.7, 'train Accuracy': 0.9571428571428572}\n"
     ]
    }
   ],
   "source": [
    "print(get_accuracy(X_train, X_test, y_train, y_test,  model))"
   ]
  },
  {
   "cell_type": "markdown",
   "metadata": {},
   "source": [
    "## Parameters for Trees\n"
   ]
  },
  {
   "cell_type": "markdown",
   "metadata": {},
   "source": [
    "We can also change tree parameters, consider our first example:\n"
   ]
  },
  {
   "cell_type": "code",
   "execution_count": 37,
   "metadata": {
    "tags": []
   },
   "outputs": [
    {
     "name": "stdout",
     "output_type": "stream",
     "text": [
      "{'test Accuracy': 0.7166666666666667, 'train Accuracy': 0.95}\n"
     ]
    }
   ],
   "source": [
    "objective='binary:logistic'\n",
    "learning_rate=0.1\n",
    "n_estimators=10\n",
    "model =XGBClassifier(objective=objective,learning_rate=learning_rate,n_estimators=n_estimators,eval_metric='mlogloss')\n",
    "model.fit(X_train, y_train)\n",
    "print(get_accuracy(X_train, X_test, y_train, y_test,  model))"
   ]
  },
  {
   "cell_type": "markdown",
   "metadata": {},
   "source": [
    "`max_depth` is the maximum depth of a tree. Increasing this value will make overfitting more likely, do decreasing max depth will decrease overfitting:\n"
   ]
  },
  {
   "cell_type": "code",
   "execution_count": 38,
   "metadata": {
    "tags": []
   },
   "outputs": [],
   "source": [
    "max_depth=3"
   ]
  },
  {
   "cell_type": "code",
   "execution_count": 39,
   "metadata": {
    "tags": []
   },
   "outputs": [
    {
     "name": "stdout",
     "output_type": "stream",
     "text": [
      "{'test Accuracy': 0.8, 'train Accuracy': 0.8714285714285714}\n"
     ]
    }
   ],
   "source": [
    "model =XGBClassifier(objective=objective,learning_rate=learning_rate,n_estimators=n_estimators,eval_metric='mlogloss',max_depth=max_depth)\n",
    "model.fit(X_train, y_train)\n",
    "print(get_accuracy(X_train, X_test, y_train, y_test,  model))"
   ]
  },
  {
   "cell_type": "markdown",
   "metadata": {},
   "source": [
    "`min_child_weight` is essentially the minimum number of instances needed to be in each node,  larger values decrease overfitting. the default is one; setting it to four  we get better results on the training data.\n"
   ]
  },
  {
   "cell_type": "code",
   "execution_count": 40,
   "metadata": {
    "tags": []
   },
   "outputs": [],
   "source": [
    "min_child_weight=4"
   ]
  },
  {
   "cell_type": "code",
   "execution_count": 41,
   "metadata": {
    "tags": []
   },
   "outputs": [
    {
     "name": "stdout",
     "output_type": "stream",
     "text": [
      "{'test Accuracy': 0.7666666666666667, 'train Accuracy': 0.85}\n"
     ]
    }
   ],
   "source": [
    "model =XGBClassifier(objective=objective,learning_rate=learning_rate,n_estimators=n_estimators,eval_metric='mlogloss',min_child_weight=4)\n",
    "model.fit(X_train, y_train)\n",
    "print(get_accuracy(X_train, X_test, y_train, y_test,  model))"
   ]
  },
  {
   "cell_type": "markdown",
   "metadata": {},
   "source": [
    "`gamma`, `reg_lambda` , `alpha` are other regularization parameters with default parameters of 0, 1 and 0, respectively. Increasing these parameters, will decrease overfitting.\n"
   ]
  },
  {
   "cell_type": "code",
   "execution_count": 42,
   "metadata": {
    "tags": []
   },
   "outputs": [
    {
     "name": "stdout",
     "output_type": "stream",
     "text": [
      "{'test Accuracy': 0.8, 'train Accuracy': 0.8357142857142857}\n"
     ]
    }
   ],
   "source": [
    "gamma=1\n",
    "reg_lambda=2\n",
    "alpha=1\n",
    "model =XGBClassifier(objective=objective,learning_rate=learning_rate,n_estimators=n_estimators,eval_metric='mlogloss',gamma=gamma,reg_lambda=reg_lambda,alpha=alpha)\n",
    "model.fit(X_train, y_train)\n",
    "print(get_accuracy(X_train, X_test, y_train, y_test,  model))"
   ]
  },
  {
   "cell_type": "markdown",
   "metadata": {},
   "source": [
    "<h2 id=\"Example\">Cancer Data Example with GridSearchCV</h2>\n",
    "\n",
    "The example is based on a dataset that is publicly available from the UCI Machine Learning Repository <a href=http://mlearn.ics.uci.edu/MLRepository.html?utm_medium=Exinfluencer&utm_source=Exinfluencer&utm_content=000026UJ&utm_term=10006555&utm_id=NA-SkillsNetwork-Channel-SkillsNetworkCoursesIBMML241ENSkillsNetwork31576874-2022-01-01>Asuncion and Newman, 2007 </a>. The dataset consists of several hundred human cell sample records, each of which contains the values of a set of cell characteristics. The fields in each record are:\n",
    "\n",
    "| Field name  | Description                 |\n",
    "| ----------- | --------------------------- |\n",
    "| ID          | Clump thickness             |\n",
    "| Clump       | Clump thickness             |\n",
    "| UnifSize    | Uniformity of cell size     |\n",
    "| UnifShape   | Uniformity of cell shape    |\n",
    "| MargAdh     | Marginal adhesion           |\n",
    "| SingEpiSize | Single epithelial cell size |\n",
    "| BareNuc     | Bare nuclei                 |\n",
    "| BlandChrom  | Bland chromatin             |\n",
    "| NormNucl    | Normal nucleoli             |\n",
    "| Mit         | Mitoses                     |\n",
    "| Class       | Benign or malignant         |\n",
    "\n",
    "<br>\n",
    "<br>\n",
    "\n",
    "Let's load the dataset, then use XG Boost to classify samples.\n"
   ]
  },
  {
   "cell_type": "code",
   "execution_count": 43,
   "metadata": {
    "tags": []
   },
   "outputs": [
    {
     "data": {
      "text/html": [
       "<div>\n",
       "<style scoped>\n",
       "    .dataframe tbody tr th:only-of-type {\n",
       "        vertical-align: middle;\n",
       "    }\n",
       "\n",
       "    .dataframe tbody tr th {\n",
       "        vertical-align: top;\n",
       "    }\n",
       "\n",
       "    .dataframe thead th {\n",
       "        text-align: right;\n",
       "    }\n",
       "</style>\n",
       "<table border=\"1\" class=\"dataframe\">\n",
       "  <thead>\n",
       "    <tr style=\"text-align: right;\">\n",
       "      <th></th>\n",
       "      <th>ID</th>\n",
       "      <th>Clump</th>\n",
       "      <th>UnifSize</th>\n",
       "      <th>UnifShape</th>\n",
       "      <th>MargAdh</th>\n",
       "      <th>SingEpiSize</th>\n",
       "      <th>BareNuc</th>\n",
       "      <th>BlandChrom</th>\n",
       "      <th>NormNucl</th>\n",
       "      <th>Mit</th>\n",
       "      <th>Class</th>\n",
       "    </tr>\n",
       "  </thead>\n",
       "  <tbody>\n",
       "    <tr>\n",
       "      <th>0</th>\n",
       "      <td>1000025</td>\n",
       "      <td>5</td>\n",
       "      <td>1</td>\n",
       "      <td>1</td>\n",
       "      <td>1</td>\n",
       "      <td>2</td>\n",
       "      <td>1</td>\n",
       "      <td>3</td>\n",
       "      <td>1</td>\n",
       "      <td>1</td>\n",
       "      <td>2</td>\n",
       "    </tr>\n",
       "    <tr>\n",
       "      <th>1</th>\n",
       "      <td>1002945</td>\n",
       "      <td>5</td>\n",
       "      <td>4</td>\n",
       "      <td>4</td>\n",
       "      <td>5</td>\n",
       "      <td>7</td>\n",
       "      <td>10</td>\n",
       "      <td>3</td>\n",
       "      <td>2</td>\n",
       "      <td>1</td>\n",
       "      <td>2</td>\n",
       "    </tr>\n",
       "    <tr>\n",
       "      <th>2</th>\n",
       "      <td>1015425</td>\n",
       "      <td>3</td>\n",
       "      <td>1</td>\n",
       "      <td>1</td>\n",
       "      <td>1</td>\n",
       "      <td>2</td>\n",
       "      <td>2</td>\n",
       "      <td>3</td>\n",
       "      <td>1</td>\n",
       "      <td>1</td>\n",
       "      <td>2</td>\n",
       "    </tr>\n",
       "    <tr>\n",
       "      <th>3</th>\n",
       "      <td>1016277</td>\n",
       "      <td>6</td>\n",
       "      <td>8</td>\n",
       "      <td>8</td>\n",
       "      <td>1</td>\n",
       "      <td>3</td>\n",
       "      <td>4</td>\n",
       "      <td>3</td>\n",
       "      <td>7</td>\n",
       "      <td>1</td>\n",
       "      <td>2</td>\n",
       "    </tr>\n",
       "    <tr>\n",
       "      <th>4</th>\n",
       "      <td>1017023</td>\n",
       "      <td>4</td>\n",
       "      <td>1</td>\n",
       "      <td>1</td>\n",
       "      <td>3</td>\n",
       "      <td>2</td>\n",
       "      <td>1</td>\n",
       "      <td>3</td>\n",
       "      <td>1</td>\n",
       "      <td>1</td>\n",
       "      <td>2</td>\n",
       "    </tr>\n",
       "  </tbody>\n",
       "</table>\n",
       "</div>"
      ],
      "text/plain": [
       "        ID  Clump  UnifSize  UnifShape  MargAdh  SingEpiSize BareNuc  \\\n",
       "0  1000025      5         1          1        1            2       1   \n",
       "1  1002945      5         4          4        5            7      10   \n",
       "2  1015425      3         1          1        1            2       2   \n",
       "3  1016277      6         8          8        1            3       4   \n",
       "4  1017023      4         1          1        3            2       1   \n",
       "\n",
       "   BlandChrom  NormNucl  Mit  Class  \n",
       "0           3         1    1      2  \n",
       "1           3         2    1      2  \n",
       "2           3         1    1      2  \n",
       "3           3         7    1      2  \n",
       "4           3         1    1      2  "
      ]
     },
     "execution_count": 43,
     "metadata": {},
     "output_type": "execute_result"
    }
   ],
   "source": [
    "df = pd.read_csv(\"https://cf-courses-data.s3.us.cloud-object-storage.appdomain.cloud/IBMDeveloperSkillsNetwork-ML0101EN-SkillsNetwork/labs/Module%203/data/cell_samples.csv\")\n",
    "\n",
    "df.head()"
   ]
  },
  {
   "cell_type": "markdown",
   "metadata": {},
   "source": [
    "Now lets remove rows that have a ? in the <code>BareNuc</code> column:\n"
   ]
  },
  {
   "cell_type": "code",
   "execution_count": 44,
   "metadata": {
    "tags": []
   },
   "outputs": [],
   "source": [
    "df= df[pd.to_numeric(df['BareNuc'], errors='coerce').notnull()]"
   ]
  },
  {
   "cell_type": "markdown",
   "metadata": {},
   "source": [
    "We obtain the features:\n"
   ]
  },
  {
   "cell_type": "code",
   "execution_count": 45,
   "metadata": {
    "tags": []
   },
   "outputs": [
    {
     "data": {
      "text/html": [
       "<div>\n",
       "<style scoped>\n",
       "    .dataframe tbody tr th:only-of-type {\n",
       "        vertical-align: middle;\n",
       "    }\n",
       "\n",
       "    .dataframe tbody tr th {\n",
       "        vertical-align: top;\n",
       "    }\n",
       "\n",
       "    .dataframe thead th {\n",
       "        text-align: right;\n",
       "    }\n",
       "</style>\n",
       "<table border=\"1\" class=\"dataframe\">\n",
       "  <thead>\n",
       "    <tr style=\"text-align: right;\">\n",
       "      <th></th>\n",
       "      <th>Clump</th>\n",
       "      <th>UnifSize</th>\n",
       "      <th>UnifShape</th>\n",
       "      <th>MargAdh</th>\n",
       "      <th>SingEpiSize</th>\n",
       "      <th>BareNuc</th>\n",
       "      <th>BlandChrom</th>\n",
       "      <th>NormNucl</th>\n",
       "      <th>Mit</th>\n",
       "    </tr>\n",
       "  </thead>\n",
       "  <tbody>\n",
       "    <tr>\n",
       "      <th>0</th>\n",
       "      <td>5</td>\n",
       "      <td>1</td>\n",
       "      <td>1</td>\n",
       "      <td>1</td>\n",
       "      <td>2</td>\n",
       "      <td>1</td>\n",
       "      <td>3</td>\n",
       "      <td>1</td>\n",
       "      <td>1</td>\n",
       "    </tr>\n",
       "    <tr>\n",
       "      <th>1</th>\n",
       "      <td>5</td>\n",
       "      <td>4</td>\n",
       "      <td>4</td>\n",
       "      <td>5</td>\n",
       "      <td>7</td>\n",
       "      <td>10</td>\n",
       "      <td>3</td>\n",
       "      <td>2</td>\n",
       "      <td>1</td>\n",
       "    </tr>\n",
       "    <tr>\n",
       "      <th>2</th>\n",
       "      <td>3</td>\n",
       "      <td>1</td>\n",
       "      <td>1</td>\n",
       "      <td>1</td>\n",
       "      <td>2</td>\n",
       "      <td>2</td>\n",
       "      <td>3</td>\n",
       "      <td>1</td>\n",
       "      <td>1</td>\n",
       "    </tr>\n",
       "    <tr>\n",
       "      <th>3</th>\n",
       "      <td>6</td>\n",
       "      <td>8</td>\n",
       "      <td>8</td>\n",
       "      <td>1</td>\n",
       "      <td>3</td>\n",
       "      <td>4</td>\n",
       "      <td>3</td>\n",
       "      <td>7</td>\n",
       "      <td>1</td>\n",
       "    </tr>\n",
       "    <tr>\n",
       "      <th>4</th>\n",
       "      <td>4</td>\n",
       "      <td>1</td>\n",
       "      <td>1</td>\n",
       "      <td>3</td>\n",
       "      <td>2</td>\n",
       "      <td>1</td>\n",
       "      <td>3</td>\n",
       "      <td>1</td>\n",
       "      <td>1</td>\n",
       "    </tr>\n",
       "  </tbody>\n",
       "</table>\n",
       "</div>"
      ],
      "text/plain": [
       "   Clump  UnifSize  UnifShape  MargAdh  SingEpiSize BareNuc  BlandChrom  \\\n",
       "0      5         1          1        1            2       1           3   \n",
       "1      5         4          4        5            7      10           3   \n",
       "2      3         1          1        1            2       2           3   \n",
       "3      6         8          8        1            3       4           3   \n",
       "4      4         1          1        3            2       1           3   \n",
       "\n",
       "   NormNucl  Mit  \n",
       "0         1    1  \n",
       "1         2    1  \n",
       "2         1    1  \n",
       "3         7    1  \n",
       "4         1    1  "
      ]
     },
     "execution_count": 45,
     "metadata": {},
     "output_type": "execute_result"
    }
   ],
   "source": [
    "X =  df[['Clump', 'UnifSize', 'UnifShape', 'MargAdh', 'SingEpiSize', 'BareNuc', 'BlandChrom', 'NormNucl', 'Mit']]\n",
    "\n",
    "X.head()"
   ]
  },
  {
   "cell_type": "code",
   "execution_count": 46,
   "metadata": {
    "tags": []
   },
   "outputs": [],
   "source": [
    "X=X.astype('int64')"
   ]
  },
  {
   "cell_type": "markdown",
   "metadata": {},
   "source": [
    "We obtain the class labels:\n"
   ]
  },
  {
   "cell_type": "code",
   "execution_count": 47,
   "metadata": {
    "tags": []
   },
   "outputs": [
    {
     "data": {
      "text/plain": [
       "array([2, 4])"
      ]
     },
     "execution_count": 47,
     "metadata": {},
     "output_type": "execute_result"
    }
   ],
   "source": [
    "y=df['Class']\n",
    "y.unique()"
   ]
  },
  {
   "cell_type": "markdown",
   "metadata": {},
   "source": [
    "We split the data into training and testing sets.\n"
   ]
  },
  {
   "cell_type": "code",
   "execution_count": 48,
   "metadata": {
    "tags": []
   },
   "outputs": [
    {
     "name": "stdout",
     "output_type": "stream",
     "text": [
      "Train set: (546, 9) (546,)\n",
      "Test set: (137, 9) (137,)\n"
     ]
    }
   ],
   "source": [
    "X_train, X_test, y_train, y_test = train_test_split( X, y, test_size=0.2, random_state=4)\n",
    "print ('Train set:', X_train.shape,  y_train.shape)\n",
    "print ('Test set:', X_test.shape,  y_test.shape)"
   ]
  },
  {
   "cell_type": "markdown",
   "metadata": {},
   "source": [
    "We use <code>GridSearchCV</code> to search over specified parameter values of the model.\n"
   ]
  },
  {
   "cell_type": "code",
   "execution_count": 49,
   "metadata": {
    "tags": []
   },
   "outputs": [],
   "source": [
    "from sklearn.model_selection import GridSearchCV"
   ]
  },
  {
   "cell_type": "markdown",
   "metadata": {},
   "source": [
    "We create a <code>AdaBoost</code> object and list the parameters using the method <code>get_params()</code>:\n"
   ]
  },
  {
   "cell_type": "code",
   "execution_count": 50,
   "metadata": {
    "tags": []
   },
   "outputs": [],
   "source": [
    "model =XGBClassifier(objective='binary:logistic',eval_metric='mlogloss')\n"
   ]
  },
  {
   "cell_type": "markdown",
   "metadata": {},
   "source": [
    "We can use GridSearch for Exhaustive search over specified parameter values. We see many of the parameters are similar to Classification trees; let's try different parameters for <code>learning_rate</code> and <code>n_estimators</code> .\n"
   ]
  },
  {
   "cell_type": "code",
   "execution_count": 51,
   "metadata": {
    "tags": []
   },
   "outputs": [
    {
     "data": {
      "text/plain": [
       "{'learning_rate': [0.1, 0.2, 0.30000000000000004, 0.4, 0.5],\n",
       " 'n_estimators': [1, 3, 5, 7, 9]}"
      ]
     },
     "execution_count": 51,
     "metadata": {},
     "output_type": "execute_result"
    }
   ],
   "source": [
    "param_grid = {'learning_rate': [0.1*(n+1) for n in range(5)],\n",
    "             'n_estimators' : [2*n+1 for n in range(5)]}\n",
    "\n",
    "param_grid "
   ]
  },
  {
   "cell_type": "markdown",
   "metadata": {},
   "source": [
    "We create the Grid Search object and fit it (this may take some time):\n"
   ]
  },
  {
   "cell_type": "code",
   "execution_count": 52,
   "metadata": {
    "tags": []
   },
   "outputs": [
    {
     "data": {
      "text/plain": [
       "GridSearchCV(cv='warn', error_score='raise-deprecating',\n",
       "       estimator=XGBClassifier(base_score=None, booster=None, colsample_bylevel=None,\n",
       "       colsample_bynode=None, colsample_bytree=None,\n",
       "       enable_categorical=False, eval_metric='mlogloss', gamma=None,\n",
       "       gpu_id=None, importance_type=None, interaction_constraints=None,\n",
       "       learning_rate=None, ...ple=None, tree_method=None, use_label_encoder=True,\n",
       "       validate_parameters=None, verbosity=None),\n",
       "       fit_params=None, iid='warn', n_jobs=None,\n",
       "       param_grid={'learning_rate': [0.1, 0.2, 0.30000000000000004, 0.4, 0.5], 'n_estimators': [1, 3, 5, 7, 9]},\n",
       "       pre_dispatch='2*n_jobs', refit=True, return_train_score='warn',\n",
       "       scoring='neg_log_loss', verbose=0)"
      ]
     },
     "execution_count": 52,
     "metadata": {},
     "output_type": "execute_result"
    }
   ],
   "source": [
    "search = GridSearchCV(estimator=model, param_grid=param_grid,scoring=\"neg_log_loss\")\n",
    "search.fit(X_train, y_train)"
   ]
  },
  {
   "cell_type": "markdown",
   "metadata": {},
   "source": [
    "We can see the best accuracy score of the searched parameters was ~96%.\n"
   ]
  },
  {
   "cell_type": "code",
   "execution_count": 53,
   "metadata": {
    "tags": []
   },
   "outputs": [
    {
     "data": {
      "text/plain": [
       "-0.10187796895194376"
      ]
     },
     "execution_count": 53,
     "metadata": {},
     "output_type": "execute_result"
    }
   ],
   "source": [
    "search.best_score_"
   ]
  },
  {
   "cell_type": "markdown",
   "metadata": {},
   "source": [
    "The best parameter values are:\n"
   ]
  },
  {
   "cell_type": "code",
   "execution_count": 54,
   "metadata": {
    "tags": []
   },
   "outputs": [
    {
     "data": {
      "text/plain": [
       "{'learning_rate': 0.5, 'n_estimators': 9}"
      ]
     },
     "execution_count": 54,
     "metadata": {},
     "output_type": "execute_result"
    }
   ],
   "source": [
    "search.best_params_"
   ]
  },
  {
   "cell_type": "markdown",
   "metadata": {},
   "source": [
    "We can calculate accuracy on the test data using the test data:\n"
   ]
  },
  {
   "cell_type": "code",
   "execution_count": 55,
   "metadata": {
    "tags": []
   },
   "outputs": [
    {
     "name": "stdout",
     "output_type": "stream",
     "text": [
      "{'test Accuracy': 0.9635036496350365, 'train Accuracy': 0.989010989010989}\n"
     ]
    }
   ],
   "source": [
    "print(get_accuracy(X_train, X_test, y_train, y_test, search.best_estimator_))"
   ]
  },
  {
   "cell_type": "markdown",
   "metadata": {},
   "source": [
    "<h2 id=\"practice\">Practice</h2>\n"
   ]
  },
  {
   "cell_type": "markdown",
   "metadata": {},
   "source": [
    "Imagine that you are a medical researcher compiling data for a study. You have collected data about a set of patients, all of whom suffered from the same illness. During their course of treatment, each patient responded to one of 5 medications, Drug A, Drug B, Drug C, Drug X and y.\n",
    "\n",
    "Part of your job is to build a model to find out which drug might be appropriate for a future patient with the same illness. The features of this dataset are Age, Sex, Blood Pressure, and the Cholesterol of the patients, and the target is the drug that each patient responded to.\n",
    "\n",
    "It is a sample of multiclass classifier, and you can use the training part of the dataset to build a decision tree, and then use it to predict the class of a unknown patient, or to prescribe a drug to a new patient.\n"
   ]
  },
  {
   "cell_type": "code",
   "execution_count": 56,
   "metadata": {
    "tags": []
   },
   "outputs": [
    {
     "data": {
      "text/html": [
       "<div>\n",
       "<style scoped>\n",
       "    .dataframe tbody tr th:only-of-type {\n",
       "        vertical-align: middle;\n",
       "    }\n",
       "\n",
       "    .dataframe tbody tr th {\n",
       "        vertical-align: top;\n",
       "    }\n",
       "\n",
       "    .dataframe thead th {\n",
       "        text-align: right;\n",
       "    }\n",
       "</style>\n",
       "<table border=\"1\" class=\"dataframe\">\n",
       "  <thead>\n",
       "    <tr style=\"text-align: right;\">\n",
       "      <th></th>\n",
       "      <th>Age</th>\n",
       "      <th>Sex</th>\n",
       "      <th>BP</th>\n",
       "      <th>Cholesterol</th>\n",
       "      <th>Na_to_K</th>\n",
       "      <th>Drug</th>\n",
       "    </tr>\n",
       "  </thead>\n",
       "  <tbody>\n",
       "    <tr>\n",
       "      <th>0</th>\n",
       "      <td>23</td>\n",
       "      <td>F</td>\n",
       "      <td>HIGH</td>\n",
       "      <td>HIGH</td>\n",
       "      <td>25.355</td>\n",
       "      <td>drugY</td>\n",
       "    </tr>\n",
       "    <tr>\n",
       "      <th>1</th>\n",
       "      <td>47</td>\n",
       "      <td>M</td>\n",
       "      <td>LOW</td>\n",
       "      <td>HIGH</td>\n",
       "      <td>13.093</td>\n",
       "      <td>drugC</td>\n",
       "    </tr>\n",
       "    <tr>\n",
       "      <th>2</th>\n",
       "      <td>47</td>\n",
       "      <td>M</td>\n",
       "      <td>LOW</td>\n",
       "      <td>HIGH</td>\n",
       "      <td>10.114</td>\n",
       "      <td>drugC</td>\n",
       "    </tr>\n",
       "    <tr>\n",
       "      <th>3</th>\n",
       "      <td>28</td>\n",
       "      <td>F</td>\n",
       "      <td>NORMAL</td>\n",
       "      <td>HIGH</td>\n",
       "      <td>7.798</td>\n",
       "      <td>drugX</td>\n",
       "    </tr>\n",
       "    <tr>\n",
       "      <th>4</th>\n",
       "      <td>61</td>\n",
       "      <td>F</td>\n",
       "      <td>LOW</td>\n",
       "      <td>HIGH</td>\n",
       "      <td>18.043</td>\n",
       "      <td>drugY</td>\n",
       "    </tr>\n",
       "  </tbody>\n",
       "</table>\n",
       "</div>"
      ],
      "text/plain": [
       "   Age Sex      BP Cholesterol  Na_to_K   Drug\n",
       "0   23   F    HIGH        HIGH   25.355  drugY\n",
       "1   47   M     LOW        HIGH   13.093  drugC\n",
       "2   47   M     LOW        HIGH   10.114  drugC\n",
       "3   28   F  NORMAL        HIGH    7.798  drugX\n",
       "4   61   F     LOW        HIGH   18.043  drugY"
      ]
     },
     "execution_count": 56,
     "metadata": {},
     "output_type": "execute_result"
    }
   ],
   "source": [
    "df = pd.read_csv(\"https://cf-courses-data.s3.us.cloud-object-storage.appdomain.cloud/IBMDeveloperSkillsNetwork-ML0101EN-SkillsNetwork/labs/Module%203/data/drug200.csv\", delimiter=\",\")\n",
    "df.head()"
   ]
  },
  {
   "cell_type": "markdown",
   "metadata": {},
   "source": [
    "Let's create the X and Y for our dataset:\n"
   ]
  },
  {
   "cell_type": "code",
   "execution_count": 57,
   "metadata": {
    "tags": []
   },
   "outputs": [
    {
     "data": {
      "text/plain": [
       "array([[23, 'F', 'HIGH', 'HIGH', 25.355],\n",
       "       [47, 'M', 'LOW', 'HIGH', 13.093],\n",
       "       [47, 'M', 'LOW', 'HIGH', 10.114],\n",
       "       [28, 'F', 'NORMAL', 'HIGH', 7.798],\n",
       "       [61, 'F', 'LOW', 'HIGH', 18.043]], dtype=object)"
      ]
     },
     "execution_count": 57,
     "metadata": {},
     "output_type": "execute_result"
    }
   ],
   "source": [
    "X = df[['Age', 'Sex', 'BP', 'Cholesterol', 'Na_to_K']].values\n",
    "X[0:5]"
   ]
  },
  {
   "cell_type": "code",
   "execution_count": 58,
   "metadata": {
    "tags": []
   },
   "outputs": [
    {
     "data": {
      "text/plain": [
       "0    drugY\n",
       "1    drugC\n",
       "2    drugC\n",
       "3    drugX\n",
       "4    drugY\n",
       "Name: Drug, dtype: object"
      ]
     },
     "execution_count": 58,
     "metadata": {},
     "output_type": "execute_result"
    }
   ],
   "source": [
    "y = df[\"Drug\"]\n",
    "y[0:5]"
   ]
  },
  {
   "cell_type": "markdown",
   "metadata": {},
   "source": [
    "Now lets use a <code>LabelEncoder</code> to turn categorical features into numerical:\n"
   ]
  },
  {
   "cell_type": "code",
   "execution_count": 59,
   "metadata": {
    "tags": []
   },
   "outputs": [
    {
     "data": {
      "text/plain": [
       "array([[23, 0, 0, 0, 25.355],\n",
       "       [47, 1, 1, 0, 13.093],\n",
       "       [47, 1, 1, 0, 10.114],\n",
       "       [28, 0, 2, 0, 7.798],\n",
       "       [61, 0, 1, 0, 18.043]], dtype=object)"
      ]
     },
     "execution_count": 59,
     "metadata": {},
     "output_type": "execute_result"
    }
   ],
   "source": [
    "from sklearn import preprocessing\n",
    "le_sex = preprocessing.LabelEncoder()\n",
    "le_sex.fit(['F','M'])\n",
    "X[:,1] = le_sex.transform(X[:,1]) \n",
    "\n",
    "\n",
    "le_BP = preprocessing.LabelEncoder()\n",
    "le_BP.fit([ 'LOW', 'NORMAL', 'HIGH'])\n",
    "X[:,2] = le_BP.transform(X[:,2])\n",
    "\n",
    "\n",
    "le_Chol = preprocessing.LabelEncoder()\n",
    "le_Chol.fit([ 'NORMAL', 'HIGH'])\n",
    "X[:,3] = le_Chol.transform(X[:,3]) \n",
    "\n",
    "X[0:5]"
   ]
  },
  {
   "cell_type": "markdown",
   "metadata": {},
   "source": [
    "Split the data into training and testing data with a 80/20 split:\n"
   ]
  },
  {
   "cell_type": "code",
   "execution_count": 60,
   "metadata": {
    "tags": []
   },
   "outputs": [
    {
     "name": "stdout",
     "output_type": "stream",
     "text": [
      "Train set: (160, 5) (160,)\n",
      "Test set: (40, 5) (40,)\n"
     ]
    }
   ],
   "source": [
    "X_train, X_test, y_train, y_test = train_test_split( X, y, test_size=0.2, random_state=4)\n",
    "print ('Train set:', X_train.shape,  y_train.shape)\n",
    "print ('Test set:', X_test.shape,  y_test.shape)"
   ]
  },
  {
   "cell_type": "markdown",
   "metadata": {},
   "source": [
    "We can use GridSearch for Exhaustive search over specified parameter values.\n"
   ]
  },
  {
   "cell_type": "code",
   "execution_count": 61,
   "metadata": {
    "tags": []
   },
   "outputs": [
    {
     "data": {
      "text/plain": [
       "{'learning_rate': [0.1, 0.2], 'n_estimators': [1, 3]}"
      ]
     },
     "execution_count": 61,
     "metadata": {},
     "output_type": "execute_result"
    }
   ],
   "source": [
    "param_grid = {'learning_rate': [0.1*(n+1) for n in range(2)],\n",
    "             'n_estimators' : [2*n+1 for n in range(2)] }\n",
    "\n",
    "\n",
    "param_grid"
   ]
  },
  {
   "cell_type": "markdown",
   "metadata": {},
   "source": [
    "Create a <code>XGBClassifier</code>object called <cood>model</code>, set `objective` to  `binary:logistic` and `,eval_metric` to `mlogloss` :\n"
   ]
  },
  {
   "cell_type": "code",
   "execution_count": 62,
   "metadata": {
    "tags": []
   },
   "outputs": [],
   "source": [
    "model =XGBClassifier(objective='binary:logistic',eval_metric='mlogloss')"
   ]
  },
  {
   "cell_type": "markdown",
   "metadata": {},
   "source": [
    "<details><summary>Click here for the solution</summary>\n",
    "\n",
    "```python\n",
    "model =XGBClassifier(objective='binary:logistic',eval_metric='mlogloss')\n",
    "\n",
    "```\n",
    "\n",
    "</details>\n"
   ]
  },
  {
   "cell_type": "markdown",
   "metadata": {},
   "source": [
    "Create <code>GridSearchCV</code> object called `search` with the `estimator` set to <code>model</code>, <code>param_grid</code> set to <code>param_grid</code>, <code>scoring</code> set to <code>neg_log_loss</code>, and <code>cv</code> set to 3 and Fit the <code>GridSearchCV</code> object to our <code>X_train</code> and <code>y_train</code> data (this may take some time)\n"
   ]
  },
  {
   "cell_type": "code",
   "execution_count": null,
   "metadata": {
    "tags": []
   },
   "outputs": [],
   "source": [
    "search = GridSearchCV(estimator=model, param_grid=param_grid,scoring=\"neg_log_loss\")\n",
    "search.fit(X_train, y_train)"
   ]
  },
  {
   "cell_type": "markdown",
   "metadata": {},
   "source": [
    "<details><summary>Click here for the solution</summary>\n",
    "\n",
    "```python\n",
    "search = GridSearchCV(estimator=model, param_grid=param_grid,scoring=\"neg_log_loss\")\n",
    "search.fit(X_train, y_train)\n",
    "```\n",
    "\n",
    "</details>\n"
   ]
  },
  {
   "cell_type": "markdown",
   "metadata": {},
   "source": [
    "We can find the accuracy of the best model.\n"
   ]
  },
  {
   "cell_type": "code",
   "execution_count": null,
   "metadata": {},
   "outputs": [],
   "source": [
    "search.best_score_"
   ]
  },
  {
   "cell_type": "markdown",
   "metadata": {},
   "source": [
    "We can find the best parameter values:\n"
   ]
  },
  {
   "cell_type": "code",
   "execution_count": null,
   "metadata": {},
   "outputs": [],
   "source": [
    "search.best_params_"
   ]
  },
  {
   "cell_type": "markdown",
   "metadata": {},
   "source": [
    "We can find the accuracy test data:\n"
   ]
  },
  {
   "cell_type": "markdown",
   "metadata": {},
   "source": [
    "<details><summary>Click here for the solution</summary>\n",
    "\n",
    "```python\n",
    "print(get_accuracy(X_train, X_test, y_train, y_test, search.best_estimator_))\n",
    "```\n",
    "\n",
    "</details>\n"
   ]
  },
  {
   "cell_type": "code",
   "execution_count": null,
   "metadata": {},
   "outputs": [],
   "source": []
  },
  {
   "cell_type": "markdown",
   "metadata": {},
   "source": [
    "## How  Gradient Boosting  Works (Optional)\n"
   ]
  },
  {
   "cell_type": "markdown",
   "metadata": {},
   "source": [
    "Let's try to sketch   how Gradient Boosting works like any supervised problem we have a dataset  ${(x_1, y_1), ..., (x_N,; y_N)} $, the strong classifier $H_{T}(x)$  is a linear combination of $T$  weak classifiers $h_t(x)$  usually trees and $\\alpha_t$  is a constant in many cases $\\alpha_t=1$  . Although each classifier $h_t(x)$ appears independent, the  contains information about the error of classifiers from $h_1(x),.., h_{t}(x)$.\n",
    "\n",
    "$H_{T}(\\mathbf{x}) =   \\sum_{t=1}^T \\alpha_t h_t(\\mathbf{x}) $\n",
    "\n",
    "Borrowing the notation form <a href=https://www.cs.cornell.edu/courses/cs4780/2018fa/lectures/lecturenote19.html?utm_medium=Exinfluencer&utm_source=Exinfluencer&utm_content=000026UJ&utm_term=10006555&utm_id=NA-SkillsNetwork-Channel-SkillsNetworkCoursesIBMML241ENSkillsNetwork31576874-2022-01-01> Kilian Weinberger </a>, we have a the cost function:\n",
    "\n",
    "$\\ell(H)=\f",
    "rac{1}{n}\\sum_{i=1}^n \\ell(H_{T}(\\mathbf{x}_i),y_i)$\n",
    "\n",
    "Where $\\ell$ convex i.e bole shape shown below and differentiable, such as derivative exists.\n"
   ]
  },
  {
   "cell_type": "code",
   "execution_count": null,
   "metadata": {},
   "outputs": [],
   "source": [
    "x = np.linspace(-1, 2)\n",
    "fig, (ax1, ax2) = plt.subplots(1, 2)\n",
    "ax1.plot(x, x**2, linewidth=2)\n",
    "ax1.set_title('convex function')\n",
    "ax2.plot(x, x**2 + np.exp(-5*(x - .5)**2), linewidth=2)\n",
    "ax2.set_title('non-convex function')\n",
    "plt.show()\n"
   ]
  },
  {
   "cell_type": "markdown",
   "metadata": {},
   "source": [
    "If you're familiar with cost functions, this may seem strange as we are dealing with a function of $H$ not of parameters. Ideally would like to minimize the cost for  $h_{T}(\\mathbf{x})$  and  $H_{T-1}(\\mathbf{x})$ at the same time   , but this is difficult. So we minimize the cost with respect to   $h_{T}(\\mathbf{x})$  while keeping $H_{T-1}(\\mathbf{x})$ fixed; not only is this simpler it prevents overfitting.\n",
    "\n",
    "$h_{t}(x) = \textrm{argmin}_{   h \\in \\mathbb{H}} \\sum_{i=1}^n \\ell(  H_{t-1}(\\mathbf{x}_i) + \\gamma h_t(\\mathbf{x}_i),y_i)$  (1)\n"
   ]
  },
  {
   "cell_type": "markdown",
   "metadata": {},
   "source": [
    "Usually $\\gamma$  is selected using validation data, but in some cases, like AdaBoost, you can find  the expression for the  optimal value of $\\gamma$.\n"
   ]
  },
  {
   "cell_type": "markdown",
   "metadata": {},
   "source": [
    "### How to Minimize Cost\n"
   ]
  },
  {
   "cell_type": "markdown",
   "metadata": {},
   "source": [
    "We would like to find the value of classifier $h_{t}(x)$ in red  that minimises the Cost function in (1), this is difficult so we minimize the first order Taylor Approximation as shown in (2). We see that it is only a function of the second term in red.\n"
   ]
  },
  {
   "cell_type": "markdown",
   "metadata": {},
   "source": [
    "$\\ell(H+\\alpha \\color{red}{h})\\approx\\ell(H)+ \\gamma \\sum_{i = 1}^{n} r_{i,t-1} \\color{red}{h_{t}(\\mathbf{x}_i)}$ (2)\n",
    "\n",
    "$r_{i,t-1}=\f",
    "rac{\\partial \\ell}{\\partial [H_{t-1}(\\mathbf{x}_i)]}$\n"
   ]
  },
  {
   "cell_type": "markdown",
   "metadata": {},
   "source": [
    "An example of Taylor Approximation is shown in the following figure, the true cost function is in blue and the first Taylor Approximation is in Orange.\n"
   ]
  },
  {
   "cell_type": "code",
   "execution_count": null,
   "metadata": {},
   "outputs": [],
   "source": [
    "plt.plot(x, x**2, linewidth=2)\n",
    "plt.text(-.7, 3, '$ \\ell(H_{T}+h_{t},y_i)$', size=20)\n",
    "plt.plot(x, 2*x - 1)\n",
    "plt.plot(1, 1, 'k+')\n",
    "plt.text(.3, -.75, 'approximation', size=15)\n",
    "plt.show()"
   ]
  },
  {
   "cell_type": "markdown",
   "metadata": {},
   "source": [
    "For small values of $\\gamma$ this will hold, using the approximation, we can decouple the problem as follows; the $argmax$ of $h$  only cares about the red terms. As a result, we find the value of $r_{i}$ and the minimum concerning $h$. First let's find $r_{i}$, we need the loss function:\n"
   ]
  },
  {
   "cell_type": "markdown",
   "metadata": {},
   "source": [
    "$h_{t}(x) = \textrm{argmin}_{   h \\in \\mathbb{H}}  \\sum_{i=1}^n \\ell(  H_{t-1}(\\mathbf{x}_i) + \\gamma h_{t}(\\mathbf{x}_i),y_i) $\n",
    "$ \\approx \textrm{argmin}_{   h \\in \\mathbb{H}} \\ell(H)+  \\sum_{i = 1}^{n} r_{i} \\color{red}{h_{t}(\\mathbf{x}_i)} $\n"
   ]
  },
  {
   "cell_type": "markdown",
   "metadata": {},
   "source": [
    "$=\textrm{argmin}_{h \\in \\mathbb{H}}\\{ \\sum_{i = 1}^{n} r_{i} \\color{red}{h_{T}(\\mathbf{x}_i)}\\}$  (3)\n"
   ]
  },
  {
   "cell_type": "markdown",
   "metadata": {},
   "source": [
    "### Example with Python\n"
   ]
  },
  {
   "cell_type": "markdown",
   "metadata": {},
   "source": [
    "This all seems a little confusing so let’s do a simple example with the Root mean square error loss are write the Python code. This is not usually used for regression but can be used for classification and  the math is relatively  simple to understand. First we calculate $r_{i}$:\n"
   ]
  },
  {
   "cell_type": "markdown",
   "metadata": {},
   "source": [
    "$ \\ell(H) =\\sum_{i=1}^n (r_{i,t-1}-  H_{t-1}(\\mathbf{x}_i))^{2} $\n",
    "\n",
    "$ r_{i,t}=\f",
    "rac{\\partial \\ell}{\\partial [H_{T-1}(\\mathbf{x}_i)]}=2\\sum_{i=1}^n ( r_{i,t-1}-  H_{T-1}(\\mathbf{x}_i))$\n"
   ]
  },
  {
   "cell_type": "markdown",
   "metadata": {},
   "source": [
    "Then we plug it into equation 3; with some math, we get the following expression below, just a note these steps are not as simple as they look, so check out  <a href=https://www.cs.cornell.edu/courses/cs4780/2018fa/lectures/lecturenote19.html?utm_medium=Exinfluencer&utm_source=Exinfluencer&utm_content=000026UJ&utm_term=10006555&utm_id=NA-SkillsNetwork-Channel-SkillsNetworkCoursesIBMML241ENSkillsNetwork31576874-2022-01-01> Kilian Weinberger </a> for more details.\n"
   ]
  },
  {
   "cell_type": "markdown",
   "metadata": {},
   "source": [
    "$h_{t}(x) =\textrm{argmin}_{h \\in \\mathbb{H}}{ \\sum_{i = 1}^{n} r_{i,t} \\color{red}{h_{t}(\\mathbf{x}_i)}}$\n",
    "\n",
    "$=\textrm{argmin}_{h \\in \\mathbb{H}}{ \\sum_{i = 1}^{n} 2\\sum_{i=1}^n (y_i-  H_{T-1}(\\mathbf{x}_i)) \\color{red}{h_{T}(\\mathbf{x}_i)}}$\n",
    "\n",
    "$=\textrm{argmin}_{h \\in \\mathbb{H}}{ \\sum_{i = 1}^{n} (r_{i,t}^{2}- {h_{t}(\\mathbf{x}_i)})^{2}}$\n"
   ]
  },
  {
   "cell_type": "markdown",
   "metadata": {},
   "source": [
    "Let’s go through a few iterations; at the same time implement the algorithm with  Python. For the Python portion we will use the Toy data where the class of y is as following $y=0$ if $ 0<x<1$ else if  $y=1$, $1 \\leq x< 2$ else $y=3$.\n"
   ]
  },
  {
   "cell_type": "code",
   "execution_count": null,
   "metadata": {},
   "outputs": [],
   "source": [
    "X=np.linspace(0, 3,num=100)\n",
    " \n",
    "y=np.zeros(X.shape)\n",
    "y[X>1]=1\n",
    "y[X>2]=2\n",
    "plt.plot(X,y)\n",
    "plt.xlabel('x')\n",
    "plt.ylabel('y')\n",
    "plt.show()"
   ]
  },
  {
   "cell_type": "markdown",
   "metadata": {},
   "source": [
    "For the first iteration we start off with $h_1(\\mathbf{x})$ minimizing the original labels $y_{i}$ that equals $r_{i,1}$.\n"
   ]
  },
  {
   "cell_type": "markdown",
   "metadata": {},
   "source": [
    "$h_{1}(x)=\textrm{argmin}_{h \\in \\mathbb{H}}{ \\sum_{i = 1}^{n} (y_{i}- {h_{1}(\\mathbf{x}_i)})^{2}}$\n"
   ]
  },
  {
   "cell_type": "markdown",
   "metadata": {},
   "source": [
    "All this means is we apply any algorithm with the cost function in the same form to the data. One constraint is  $h$ has to be non-linear, in Python:\n"
   ]
  },
  {
   "cell_type": "code",
   "execution_count": null,
   "metadata": {},
   "outputs": [],
   "source": [
    "reg = DecisionTreeRegressor(max_depth=1)\n",
    "reg.fit(X.reshape(-1,1),y)\n",
    "h_1=reg.predict(X.reshape(-1,1))"
   ]
  },
  {
   "cell_type": "markdown",
   "metadata": {},
   "source": [
    "We can plot the prediction, we see it's not even a true classifier.\n"
   ]
  },
  {
   "cell_type": "code",
   "execution_count": null,
   "metadata": {},
   "outputs": [],
   "source": [
    "plt.plot(X,y,label=\"y\")\n",
    "plt.plot(X,h_1,label=\"$h_{1}(x)$\")\n",
    "plt.legend()\n",
    "plt.show()"
   ]
  },
  {
   "cell_type": "markdown",
   "metadata": {},
   "source": [
    "For the second step  we set  $H_{1}(\\mathbf{x})=h_{1}(\\mathbf{x})$,then we calculate $r_{i,2}$.\n"
   ]
  },
  {
   "cell_type": "markdown",
   "metadata": {},
   "source": [
    "$ r_{i,2}=( r_{i,1}-  H_{1}(\\mathbf{x}_i))$\n"
   ]
  },
  {
   "cell_type": "code",
   "execution_count": null,
   "metadata": {},
   "outputs": [],
   "source": [
    "gamma=1\n",
    "r=y-gamma*reg.predict(X.reshape(-1,1))"
   ]
  },
  {
   "cell_type": "markdown",
   "metadata": {},
   "source": [
    "We then find the second learner $h_{2}(\\mathbf{x})$ by minimizing\n"
   ]
  },
  {
   "cell_type": "markdown",
   "metadata": {},
   "source": [
    "$h_{2}(x)=\textrm{argmin}_{h \\in \\mathbb{H}}{ \\sum_{i = 1}^{n} (r_{i,2}^{2}- {h_{2}(\\mathbf{x}_i)})^{2}}$\n"
   ]
  },
  {
   "cell_type": "markdown",
   "metadata": {},
   "source": [
    "We then update $H_{2} (\\mathbf{x})= H_{1} (\\mathbf{x})+ \\gamma h_{2}(\\mathbf{x})$\n"
   ]
  },
  {
   "cell_type": "markdown",
   "metadata": {},
   "source": [
    "We repeat the process for $ t$ times:\n"
   ]
  },
  {
   "cell_type": "markdown",
   "metadata": {},
   "source": [
    "$ r_{i,t}^2=( r_{i,t-1}-  H_{t-1}(\\mathbf{x}_i))^{2}$\n"
   ]
  },
  {
   "cell_type": "markdown",
   "metadata": {},
   "source": [
    "$h_{t}(x)=\textrm{argmin}_{h \\in \\mathbb{H}}{ \\sum_{i = 1}^{n} (r_{i,t}^{2}- {h_{t}(\\mathbf{x}_i)})^{2}}$\n"
   ]
  },
  {
   "cell_type": "markdown",
   "metadata": {},
   "source": [
    "We then update $H_{t} (\\mathbf{x})= H_{t-1} (\\mathbf{x}) + \\gamma h_{t}(\\mathbf{x})$\n"
   ]
  },
  {
   "cell_type": "markdown",
   "metadata": {},
   "source": [
    "We can perform the Operation with a loop in Python. First, we will write a function to make a prediction using an input of a list of predictors `weak_learners`.\n"
   ]
  },
  {
   "cell_type": "code",
   "execution_count": null,
   "metadata": {},
   "outputs": [],
   "source": [
    "def predict(y,weak_learners,gamma):\n",
    "    yhat=np.zeros(y.shape)\n",
    "    for h in weak_learners:\n",
    "        yhat+=h.predict(X.reshape(-1,1))\n",
    "    return yhat\n",
    "\n"
   ]
  },
  {
   "cell_type": "markdown",
   "metadata": {},
   "source": [
    "Then we train a new weak learner recursively setting gamma=1, and plot the results for each iteration.\n"
   ]
  },
  {
   "cell_type": "code",
   "execution_count": null,
   "metadata": {},
   "outputs": [],
   "source": [
    "weak_learners =[]\n",
    "gamma=1\n",
    "r=y\n",
    "weak_learners.append(reg)\n",
    "for t_ in range(0,10):\n",
    "    #train weak learner \n",
    "    reg=DecisionTreeRegressor(max_depth=1)\n",
    "    reg.fit(X.reshape(-1,1),r)\n",
    "    weak_learners.append(reg)\n",
    "    \n",
    "    #Calculate r_i,t for each iteration  \n",
    "    r=r-gamma*reg.predict(X.reshape(-1,1))\n",
    "    #plot function   \n",
    "    plt.plot(X,y,label=\"y\")\n",
    "    plt.plot(X,predict (y,weak_learners,gamma),label=\"$H_{}(x)$\".format(t_+1))\n",
    "    plt.legend()\n",
    "    plt.show()"
   ]
  },
  {
   "cell_type": "markdown",
   "metadata": {},
   "source": [
    "### Thank you for completing this lab!\n",
    "\n",
    "## Author\n",
    "\n",
    "<a href=\"https://www.linkedin.com/in/joseph-s-50398b136/?utm_medium=Exinfluencer&utm_source=Exinfluencer&utm_content=000026UJ&utm_term=10006555&utm_id=NA-SkillsNetwork-Channel-SkillsNetworkCoursesIBMDeveloperSkillsNetworkML0101ENSkillsNetwork20718538-2021-01-01\" target=\"_blank\">Joseph Santarcangelo</a>\n",
    "\n",
    "### Other Contributors\n",
    "\n",
    "<a href=\"https://www.linkedin.com/in/richard-ye/?utm_medium=Exinfluencer&utm_source=Exinfluencer&utm_content=000026UJ&utm_term=10006555&utm_id=NA-SkillsNetwork-Channel-SkillsNetworkCoursesIBMDeveloperSkillsNetworkML0101ENSkillsNetwork20718538-2021-01-01\" target=\"_blank\">Richard Ye</a>\n",
    "\n",
    "## Change Log\n",
    "\n",
    "| Date (YYYY-MM-DD) | Version | Changed By           | Change Description   |\n",
    "| ----------------- | ------- | -------------------- | -------------------- |\n",
    "| 2020-11-27        | 0.1     | Joseph Santarcangelo | Created Lab Template |\n",
    "| 2022-3-29         | 0.2     | Steve Hord           | QA Pass              |\n",
    "| 2022-05-03        | 0.3     | Richard Ye           | Updated `get_accuracy_boost` to include tqdm and fixed latex rendering|\n",
    "\n",
    "## <h3 align=\"center\"> © IBM Corporation 2020. All rights reserved. <h3/>\n"
   ]
  }
 ],
 "metadata": {
  "kernelspec": {
   "display_name": "Python",
   "language": "python",
   "name": "conda-env-python-py"
  },
  "language_info": {
   "codemirror_mode": {
    "name": "ipython",
    "version": 3
   },
   "file_extension": ".py",
   "mimetype": "text/x-python",
   "name": "python",
   "nbconvert_exporter": "python",
   "pygments_lexer": "ipython3",
   "version": "3.7.12"
  }
 },
 "nbformat": 4,
 "nbformat_minor": 4
}
